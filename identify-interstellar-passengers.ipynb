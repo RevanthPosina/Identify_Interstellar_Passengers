{
 "cells": [
  {
   "cell_type": "code",
   "execution_count": 1,
   "id": "a50fcb78",
   "metadata": {
    "_cell_guid": "b1076dfc-b9ad-4769-8c92-a6c4dae69d19",
    "_uuid": "8f2839f25d086af736a60e9eeb907d3b93b6e0e5",
    "execution": {
     "iopub.execute_input": "2022-04-07T08:38:13.706128Z",
     "iopub.status.busy": "2022-04-07T08:38:13.704703Z",
     "iopub.status.idle": "2022-04-07T08:38:13.716143Z",
     "shell.execute_reply": "2022-04-07T08:38:13.715447Z",
     "shell.execute_reply.started": "2022-04-07T08:21:02.164508Z"
    },
    "papermill": {
     "duration": 0.060146,
     "end_time": "2022-04-07T08:38:13.716351",
     "exception": false,
     "start_time": "2022-04-07T08:38:13.656205",
     "status": "completed"
    },
    "tags": []
   },
   "outputs": [
    {
     "name": "stdout",
     "output_type": "stream",
     "text": [
      "/kaggle/input/spaceship-titanic/sample_submission.csv\n",
      "/kaggle/input/spaceship-titanic/train.csv\n",
      "/kaggle/input/spaceship-titanic/test.csv\n"
     ]
    }
   ],
   "source": [
    "# This Python 3 environment comes with many helpful analytics libraries installed\n",
    "# It is defined by the kaggle/python Docker image: https://github.com/kaggle/docker-python\n",
    "# For example, here's several helpful packages to load\n",
    "\n",
    "import numpy as np # linear algebra\n",
    "import pandas as pd # data processing, CSV file I/O (e.g. pd.read_csv)\n",
    "\n",
    "# Input data files are available in the read-only \"../input/\" directory\n",
    "# For example, running this (by clicking run or pressing Shift+Enter) will list all files under the input directory\n",
    "\n",
    "import os\n",
    "for dirname, _, filenames in os.walk('/kaggle/input'):\n",
    "    for filename in filenames:\n",
    "        print(os.path.join(dirname, filename))\n",
    "\n",
    "# You can write up to 20GB to the current directory (/kaggle/working/) that gets preserved as output when you create a version using \"Save & Run All\" \n",
    "# You can also write temporary files to /kaggle/temp/, but they won't be saved outside of the current session"
   ]
  },
  {
   "cell_type": "code",
   "execution_count": 2,
   "id": "f460da93",
   "metadata": {
    "execution": {
     "iopub.execute_input": "2022-04-07T08:38:13.810486Z",
     "iopub.status.busy": "2022-04-07T08:38:13.809666Z",
     "iopub.status.idle": "2022-04-07T08:38:13.885840Z",
     "shell.execute_reply": "2022-04-07T08:38:13.886272Z",
     "shell.execute_reply.started": "2022-04-07T08:21:05.943882Z"
    },
    "papermill": {
     "duration": 0.122751,
     "end_time": "2022-04-07T08:38:13.886431",
     "exception": false,
     "start_time": "2022-04-07T08:38:13.763680",
     "status": "completed"
    },
    "tags": []
   },
   "outputs": [
    {
     "data": {
      "text/html": [
       "<div>\n",
       "<style scoped>\n",
       "    .dataframe tbody tr th:only-of-type {\n",
       "        vertical-align: middle;\n",
       "    }\n",
       "\n",
       "    .dataframe tbody tr th {\n",
       "        vertical-align: top;\n",
       "    }\n",
       "\n",
       "    .dataframe thead th {\n",
       "        text-align: right;\n",
       "    }\n",
       "</style>\n",
       "<table border=\"1\" class=\"dataframe\">\n",
       "  <thead>\n",
       "    <tr style=\"text-align: right;\">\n",
       "      <th></th>\n",
       "      <th>PassengerId</th>\n",
       "      <th>HomePlanet</th>\n",
       "      <th>CryoSleep</th>\n",
       "      <th>Cabin</th>\n",
       "      <th>Destination</th>\n",
       "      <th>Age</th>\n",
       "      <th>VIP</th>\n",
       "      <th>RoomService</th>\n",
       "      <th>FoodCourt</th>\n",
       "      <th>ShoppingMall</th>\n",
       "      <th>Spa</th>\n",
       "      <th>VRDeck</th>\n",
       "      <th>Name</th>\n",
       "      <th>Transported</th>\n",
       "    </tr>\n",
       "  </thead>\n",
       "  <tbody>\n",
       "    <tr>\n",
       "      <th>0</th>\n",
       "      <td>0001_01</td>\n",
       "      <td>Europa</td>\n",
       "      <td>False</td>\n",
       "      <td>B/0/P</td>\n",
       "      <td>TRAPPIST-1e</td>\n",
       "      <td>39.0</td>\n",
       "      <td>False</td>\n",
       "      <td>0.0</td>\n",
       "      <td>0.0</td>\n",
       "      <td>0.0</td>\n",
       "      <td>0.0</td>\n",
       "      <td>0.0</td>\n",
       "      <td>Maham Ofracculy</td>\n",
       "      <td>False</td>\n",
       "    </tr>\n",
       "    <tr>\n",
       "      <th>1</th>\n",
       "      <td>0002_01</td>\n",
       "      <td>Earth</td>\n",
       "      <td>False</td>\n",
       "      <td>F/0/S</td>\n",
       "      <td>TRAPPIST-1e</td>\n",
       "      <td>24.0</td>\n",
       "      <td>False</td>\n",
       "      <td>109.0</td>\n",
       "      <td>9.0</td>\n",
       "      <td>25.0</td>\n",
       "      <td>549.0</td>\n",
       "      <td>44.0</td>\n",
       "      <td>Juanna Vines</td>\n",
       "      <td>True</td>\n",
       "    </tr>\n",
       "    <tr>\n",
       "      <th>2</th>\n",
       "      <td>0003_01</td>\n",
       "      <td>Europa</td>\n",
       "      <td>False</td>\n",
       "      <td>A/0/S</td>\n",
       "      <td>TRAPPIST-1e</td>\n",
       "      <td>58.0</td>\n",
       "      <td>True</td>\n",
       "      <td>43.0</td>\n",
       "      <td>3576.0</td>\n",
       "      <td>0.0</td>\n",
       "      <td>6715.0</td>\n",
       "      <td>49.0</td>\n",
       "      <td>Altark Susent</td>\n",
       "      <td>False</td>\n",
       "    </tr>\n",
       "    <tr>\n",
       "      <th>3</th>\n",
       "      <td>0003_02</td>\n",
       "      <td>Europa</td>\n",
       "      <td>False</td>\n",
       "      <td>A/0/S</td>\n",
       "      <td>TRAPPIST-1e</td>\n",
       "      <td>33.0</td>\n",
       "      <td>False</td>\n",
       "      <td>0.0</td>\n",
       "      <td>1283.0</td>\n",
       "      <td>371.0</td>\n",
       "      <td>3329.0</td>\n",
       "      <td>193.0</td>\n",
       "      <td>Solam Susent</td>\n",
       "      <td>False</td>\n",
       "    </tr>\n",
       "    <tr>\n",
       "      <th>4</th>\n",
       "      <td>0004_01</td>\n",
       "      <td>Earth</td>\n",
       "      <td>False</td>\n",
       "      <td>F/1/S</td>\n",
       "      <td>TRAPPIST-1e</td>\n",
       "      <td>16.0</td>\n",
       "      <td>False</td>\n",
       "      <td>303.0</td>\n",
       "      <td>70.0</td>\n",
       "      <td>151.0</td>\n",
       "      <td>565.0</td>\n",
       "      <td>2.0</td>\n",
       "      <td>Willy Santantines</td>\n",
       "      <td>True</td>\n",
       "    </tr>\n",
       "    <tr>\n",
       "      <th>...</th>\n",
       "      <td>...</td>\n",
       "      <td>...</td>\n",
       "      <td>...</td>\n",
       "      <td>...</td>\n",
       "      <td>...</td>\n",
       "      <td>...</td>\n",
       "      <td>...</td>\n",
       "      <td>...</td>\n",
       "      <td>...</td>\n",
       "      <td>...</td>\n",
       "      <td>...</td>\n",
       "      <td>...</td>\n",
       "      <td>...</td>\n",
       "      <td>...</td>\n",
       "    </tr>\n",
       "    <tr>\n",
       "      <th>8688</th>\n",
       "      <td>9276_01</td>\n",
       "      <td>Europa</td>\n",
       "      <td>False</td>\n",
       "      <td>A/98/P</td>\n",
       "      <td>55 Cancri e</td>\n",
       "      <td>41.0</td>\n",
       "      <td>True</td>\n",
       "      <td>0.0</td>\n",
       "      <td>6819.0</td>\n",
       "      <td>0.0</td>\n",
       "      <td>1643.0</td>\n",
       "      <td>74.0</td>\n",
       "      <td>Gravior Noxnuther</td>\n",
       "      <td>False</td>\n",
       "    </tr>\n",
       "    <tr>\n",
       "      <th>8689</th>\n",
       "      <td>9278_01</td>\n",
       "      <td>Earth</td>\n",
       "      <td>True</td>\n",
       "      <td>G/1499/S</td>\n",
       "      <td>PSO J318.5-22</td>\n",
       "      <td>18.0</td>\n",
       "      <td>False</td>\n",
       "      <td>0.0</td>\n",
       "      <td>0.0</td>\n",
       "      <td>0.0</td>\n",
       "      <td>0.0</td>\n",
       "      <td>0.0</td>\n",
       "      <td>Kurta Mondalley</td>\n",
       "      <td>False</td>\n",
       "    </tr>\n",
       "    <tr>\n",
       "      <th>8690</th>\n",
       "      <td>9279_01</td>\n",
       "      <td>Earth</td>\n",
       "      <td>False</td>\n",
       "      <td>G/1500/S</td>\n",
       "      <td>TRAPPIST-1e</td>\n",
       "      <td>26.0</td>\n",
       "      <td>False</td>\n",
       "      <td>0.0</td>\n",
       "      <td>0.0</td>\n",
       "      <td>1872.0</td>\n",
       "      <td>1.0</td>\n",
       "      <td>0.0</td>\n",
       "      <td>Fayey Connon</td>\n",
       "      <td>True</td>\n",
       "    </tr>\n",
       "    <tr>\n",
       "      <th>8691</th>\n",
       "      <td>9280_01</td>\n",
       "      <td>Europa</td>\n",
       "      <td>False</td>\n",
       "      <td>E/608/S</td>\n",
       "      <td>55 Cancri e</td>\n",
       "      <td>32.0</td>\n",
       "      <td>False</td>\n",
       "      <td>0.0</td>\n",
       "      <td>1049.0</td>\n",
       "      <td>0.0</td>\n",
       "      <td>353.0</td>\n",
       "      <td>3235.0</td>\n",
       "      <td>Celeon Hontichre</td>\n",
       "      <td>False</td>\n",
       "    </tr>\n",
       "    <tr>\n",
       "      <th>8692</th>\n",
       "      <td>9280_02</td>\n",
       "      <td>Europa</td>\n",
       "      <td>False</td>\n",
       "      <td>E/608/S</td>\n",
       "      <td>TRAPPIST-1e</td>\n",
       "      <td>44.0</td>\n",
       "      <td>False</td>\n",
       "      <td>126.0</td>\n",
       "      <td>4688.0</td>\n",
       "      <td>0.0</td>\n",
       "      <td>0.0</td>\n",
       "      <td>12.0</td>\n",
       "      <td>Propsh Hontichre</td>\n",
       "      <td>True</td>\n",
       "    </tr>\n",
       "  </tbody>\n",
       "</table>\n",
       "<p>8693 rows × 14 columns</p>\n",
       "</div>"
      ],
      "text/plain": [
       "     PassengerId HomePlanet CryoSleep     Cabin    Destination   Age    VIP  \\\n",
       "0        0001_01     Europa     False     B/0/P    TRAPPIST-1e  39.0  False   \n",
       "1        0002_01      Earth     False     F/0/S    TRAPPIST-1e  24.0  False   \n",
       "2        0003_01     Europa     False     A/0/S    TRAPPIST-1e  58.0   True   \n",
       "3        0003_02     Europa     False     A/0/S    TRAPPIST-1e  33.0  False   \n",
       "4        0004_01      Earth     False     F/1/S    TRAPPIST-1e  16.0  False   \n",
       "...          ...        ...       ...       ...            ...   ...    ...   \n",
       "8688     9276_01     Europa     False    A/98/P    55 Cancri e  41.0   True   \n",
       "8689     9278_01      Earth      True  G/1499/S  PSO J318.5-22  18.0  False   \n",
       "8690     9279_01      Earth     False  G/1500/S    TRAPPIST-1e  26.0  False   \n",
       "8691     9280_01     Europa     False   E/608/S    55 Cancri e  32.0  False   \n",
       "8692     9280_02     Europa     False   E/608/S    TRAPPIST-1e  44.0  False   \n",
       "\n",
       "      RoomService  FoodCourt  ShoppingMall     Spa  VRDeck               Name  \\\n",
       "0             0.0        0.0           0.0     0.0     0.0    Maham Ofracculy   \n",
       "1           109.0        9.0          25.0   549.0    44.0       Juanna Vines   \n",
       "2            43.0     3576.0           0.0  6715.0    49.0      Altark Susent   \n",
       "3             0.0     1283.0         371.0  3329.0   193.0       Solam Susent   \n",
       "4           303.0       70.0         151.0   565.0     2.0  Willy Santantines   \n",
       "...           ...        ...           ...     ...     ...                ...   \n",
       "8688          0.0     6819.0           0.0  1643.0    74.0  Gravior Noxnuther   \n",
       "8689          0.0        0.0           0.0     0.0     0.0    Kurta Mondalley   \n",
       "8690          0.0        0.0        1872.0     1.0     0.0       Fayey Connon   \n",
       "8691          0.0     1049.0           0.0   353.0  3235.0   Celeon Hontichre   \n",
       "8692        126.0     4688.0           0.0     0.0    12.0   Propsh Hontichre   \n",
       "\n",
       "      Transported  \n",
       "0           False  \n",
       "1            True  \n",
       "2           False  \n",
       "3           False  \n",
       "4            True  \n",
       "...           ...  \n",
       "8688        False  \n",
       "8689        False  \n",
       "8690         True  \n",
       "8691        False  \n",
       "8692         True  \n",
       "\n",
       "[8693 rows x 14 columns]"
      ]
     },
     "execution_count": 2,
     "metadata": {},
     "output_type": "execute_result"
    }
   ],
   "source": [
    "passenger_data=pd.read_csv('/kaggle/input/spaceship-titanic/train.csv')\n",
    "passenger_data"
   ]
  },
  {
   "cell_type": "code",
   "execution_count": 3,
   "id": "5cd9eeb9",
   "metadata": {
    "execution": {
     "iopub.execute_input": "2022-04-07T08:38:13.979275Z",
     "iopub.status.busy": "2022-04-07T08:38:13.978707Z",
     "iopub.status.idle": "2022-04-07T08:38:13.983132Z",
     "shell.execute_reply": "2022-04-07T08:38:13.983628Z",
     "shell.execute_reply.started": "2022-04-07T08:21:14.051738Z"
    },
    "papermill": {
     "duration": 0.051549,
     "end_time": "2022-04-07T08:38:13.983803",
     "exception": false,
     "start_time": "2022-04-07T08:38:13.932254",
     "status": "completed"
    },
    "tags": []
   },
   "outputs": [
    {
     "data": {
      "text/plain": [
       "(8693, 14)"
      ]
     },
     "execution_count": 3,
     "metadata": {},
     "output_type": "execute_result"
    }
   ],
   "source": [
    "passenger_data.shape"
   ]
  },
  {
   "cell_type": "code",
   "execution_count": 4,
   "id": "cf2e93ff",
   "metadata": {
    "execution": {
     "iopub.execute_input": "2022-04-07T08:38:14.075980Z",
     "iopub.status.busy": "2022-04-07T08:38:14.075386Z",
     "iopub.status.idle": "2022-04-07T08:38:14.085153Z",
     "shell.execute_reply": "2022-04-07T08:38:14.085630Z",
     "shell.execute_reply.started": "2022-04-07T08:21:20.465932Z"
    },
    "papermill": {
     "duration": 0.05761,
     "end_time": "2022-04-07T08:38:14.085809",
     "exception": false,
     "start_time": "2022-04-07T08:38:14.028199",
     "status": "completed"
    },
    "tags": []
   },
   "outputs": [
    {
     "data": {
      "text/plain": [
       "PassengerId       0\n",
       "HomePlanet      201\n",
       "CryoSleep       217\n",
       "Cabin           199\n",
       "Destination     182\n",
       "Age             179\n",
       "VIP             203\n",
       "RoomService     181\n",
       "FoodCourt       183\n",
       "ShoppingMall    208\n",
       "Spa             183\n",
       "VRDeck          188\n",
       "Name            200\n",
       "Transported       0\n",
       "dtype: int64"
      ]
     },
     "execution_count": 4,
     "metadata": {},
     "output_type": "execute_result"
    }
   ],
   "source": [
    "passenger_data.isnull().sum()"
   ]
  },
  {
   "cell_type": "code",
   "execution_count": 5,
   "id": "b5b06312",
   "metadata": {
    "execution": {
     "iopub.execute_input": "2022-04-07T08:38:14.180763Z",
     "iopub.status.busy": "2022-04-07T08:38:14.180195Z",
     "iopub.status.idle": "2022-04-07T08:38:15.716874Z",
     "shell.execute_reply": "2022-04-07T08:38:15.717309Z",
     "shell.execute_reply.started": "2022-04-07T08:21:27.750763Z"
    },
    "papermill": {
     "duration": 1.585185,
     "end_time": "2022-04-07T08:38:15.717463",
     "exception": false,
     "start_time": "2022-04-07T08:38:14.132278",
     "status": "completed"
    },
    "tags": []
   },
   "outputs": [
    {
     "data": {
      "text/plain": [
       "<AxesSubplot:>"
      ]
     },
     "execution_count": 5,
     "metadata": {},
     "output_type": "execute_result"
    },
    {
     "data": {
      "image/png": "[encoded data removed]",
      "text/plain": [
       "<Figure size 432x288 with 2 Axes>"
      ]
     },
     "metadata": {
      "needs_background": "light"
     },
     "output_type": "display_data"
    }
   ],
   "source": [
    "import seaborn as sns\n",
    "sns.heatmap(passenger_data.isnull())"
   ]
  },
  {
   "cell_type": "code",
   "execution_count": 6,
   "id": "a683db0d",
   "metadata": {
    "execution": {
     "iopub.execute_input": "2022-04-07T08:38:15.829215Z",
     "iopub.status.busy": "2022-04-07T08:38:15.828429Z",
     "iopub.status.idle": "2022-04-07T08:38:15.831571Z",
     "shell.execute_reply": "2022-04-07T08:38:15.832029Z",
     "shell.execute_reply.started": "2022-04-07T08:21:45.249621Z"
    },
    "papermill": {
     "duration": 0.067168,
     "end_time": "2022-04-07T08:38:15.832202",
     "exception": false,
     "start_time": "2022-04-07T08:38:15.765034",
     "status": "completed"
    },
    "tags": []
   },
   "outputs": [
    {
     "data": {
      "text/html": [
       "<div>\n",
       "<style scoped>\n",
       "    .dataframe tbody tr th:only-of-type {\n",
       "        vertical-align: middle;\n",
       "    }\n",
       "\n",
       "    .dataframe tbody tr th {\n",
       "        vertical-align: top;\n",
       "    }\n",
       "\n",
       "    .dataframe thead th {\n",
       "        text-align: right;\n",
       "    }\n",
       "</style>\n",
       "<table border=\"1\" class=\"dataframe\">\n",
       "  <thead>\n",
       "    <tr style=\"text-align: right;\">\n",
       "      <th></th>\n",
       "      <th>PassengerId</th>\n",
       "      <th>HomePlanet</th>\n",
       "      <th>CryoSleep</th>\n",
       "      <th>Cabin</th>\n",
       "      <th>Destination</th>\n",
       "      <th>Age</th>\n",
       "      <th>VIP</th>\n",
       "      <th>RoomService</th>\n",
       "      <th>FoodCourt</th>\n",
       "      <th>ShoppingMall</th>\n",
       "      <th>Spa</th>\n",
       "      <th>VRDeck</th>\n",
       "      <th>Name</th>\n",
       "      <th>Transported</th>\n",
       "    </tr>\n",
       "  </thead>\n",
       "  <tbody>\n",
       "    <tr>\n",
       "      <th>0</th>\n",
       "      <td>0001_01</td>\n",
       "      <td>Europa</td>\n",
       "      <td>False</td>\n",
       "      <td>B/0/P</td>\n",
       "      <td>TRAPPIST-1e</td>\n",
       "      <td>39.0</td>\n",
       "      <td>False</td>\n",
       "      <td>0.0</td>\n",
       "      <td>0.0</td>\n",
       "      <td>0.0</td>\n",
       "      <td>0.0</td>\n",
       "      <td>0.0</td>\n",
       "      <td>Maham Ofracculy</td>\n",
       "      <td>False</td>\n",
       "    </tr>\n",
       "    <tr>\n",
       "      <th>1</th>\n",
       "      <td>0002_01</td>\n",
       "      <td>Earth</td>\n",
       "      <td>False</td>\n",
       "      <td>F/0/S</td>\n",
       "      <td>TRAPPIST-1e</td>\n",
       "      <td>24.0</td>\n",
       "      <td>False</td>\n",
       "      <td>109.0</td>\n",
       "      <td>9.0</td>\n",
       "      <td>25.0</td>\n",
       "      <td>549.0</td>\n",
       "      <td>44.0</td>\n",
       "      <td>Juanna Vines</td>\n",
       "      <td>True</td>\n",
       "    </tr>\n",
       "    <tr>\n",
       "      <th>2</th>\n",
       "      <td>0003_01</td>\n",
       "      <td>Europa</td>\n",
       "      <td>False</td>\n",
       "      <td>A/0/S</td>\n",
       "      <td>TRAPPIST-1e</td>\n",
       "      <td>58.0</td>\n",
       "      <td>True</td>\n",
       "      <td>43.0</td>\n",
       "      <td>3576.0</td>\n",
       "      <td>0.0</td>\n",
       "      <td>6715.0</td>\n",
       "      <td>49.0</td>\n",
       "      <td>Altark Susent</td>\n",
       "      <td>False</td>\n",
       "    </tr>\n",
       "    <tr>\n",
       "      <th>3</th>\n",
       "      <td>0003_02</td>\n",
       "      <td>Europa</td>\n",
       "      <td>False</td>\n",
       "      <td>A/0/S</td>\n",
       "      <td>TRAPPIST-1e</td>\n",
       "      <td>33.0</td>\n",
       "      <td>False</td>\n",
       "      <td>0.0</td>\n",
       "      <td>1283.0</td>\n",
       "      <td>371.0</td>\n",
       "      <td>3329.0</td>\n",
       "      <td>193.0</td>\n",
       "      <td>Solam Susent</td>\n",
       "      <td>False</td>\n",
       "    </tr>\n",
       "    <tr>\n",
       "      <th>4</th>\n",
       "      <td>0004_01</td>\n",
       "      <td>Earth</td>\n",
       "      <td>False</td>\n",
       "      <td>F/1/S</td>\n",
       "      <td>TRAPPIST-1e</td>\n",
       "      <td>16.0</td>\n",
       "      <td>False</td>\n",
       "      <td>303.0</td>\n",
       "      <td>70.0</td>\n",
       "      <td>151.0</td>\n",
       "      <td>565.0</td>\n",
       "      <td>2.0</td>\n",
       "      <td>Willy Santantines</td>\n",
       "      <td>True</td>\n",
       "    </tr>\n",
       "  </tbody>\n",
       "</table>\n",
       "</div>"
      ],
      "text/plain": [
       "  PassengerId HomePlanet CryoSleep  Cabin  Destination   Age    VIP  \\\n",
       "0     0001_01     Europa     False  B/0/P  TRAPPIST-1e  39.0  False   \n",
       "1     0002_01      Earth     False  F/0/S  TRAPPIST-1e  24.0  False   \n",
       "2     0003_01     Europa     False  A/0/S  TRAPPIST-1e  58.0   True   \n",
       "3     0003_02     Europa     False  A/0/S  TRAPPIST-1e  33.0  False   \n",
       "4     0004_01      Earth     False  F/1/S  TRAPPIST-1e  16.0  False   \n",
       "\n",
       "   RoomService  FoodCourt  ShoppingMall     Spa  VRDeck               Name  \\\n",
       "0          0.0        0.0           0.0     0.0     0.0    Maham Ofracculy   \n",
       "1        109.0        9.0          25.0   549.0    44.0       Juanna Vines   \n",
       "2         43.0     3576.0           0.0  6715.0    49.0      Altark Susent   \n",
       "3          0.0     1283.0         371.0  3329.0   193.0       Solam Susent   \n",
       "4        303.0       70.0         151.0   565.0     2.0  Willy Santantines   \n",
       "\n",
       "   Transported  \n",
       "0        False  \n",
       "1         True  \n",
       "2        False  \n",
       "3        False  \n",
       "4         True  "
      ]
     },
     "execution_count": 6,
     "metadata": {},
     "output_type": "execute_result"
    }
   ],
   "source": [
    "passenger_data.head()"
   ]
  },
  {
   "cell_type": "code",
   "execution_count": 7,
   "id": "610a87bc",
   "metadata": {
    "execution": {
     "iopub.execute_input": "2022-04-07T08:38:15.930557Z",
     "iopub.status.busy": "2022-04-07T08:38:15.929659Z",
     "iopub.status.idle": "2022-04-07T08:38:15.946669Z",
     "shell.execute_reply": "2022-04-07T08:38:15.947126Z",
     "shell.execute_reply.started": "2022-04-07T08:24:28.613397Z"
    },
    "papermill": {
     "duration": 0.06764,
     "end_time": "2022-04-07T08:38:15.947297",
     "exception": false,
     "start_time": "2022-04-07T08:38:15.879657",
     "status": "completed"
    },
    "tags": []
   },
   "outputs": [],
   "source": [
    "passenger_data.HomePlanet = passenger_data.HomePlanet.fillna('0')\n",
    "passenger_data.CryoSleep  = passenger_data.CryoSleep .fillna(0)\n",
    "passenger_data.Cabin      = passenger_data.Cabin.fillna(0)\n",
    "passenger_data.Destination = passenger_data.Destination.fillna('0')\n",
    "passenger_data.Age = passenger_data.Age.fillna(0)\n",
    "passenger_data.VIP = passenger_data.VIP.fillna(0)\n",
    "passenger_data.RoomService = passenger_data.RoomService.fillna(0)\n",
    "passenger_data.FoodCourt = passenger_data.FoodCourt.fillna(0)\n",
    "passenger_data.ShoppingMall = passenger_data.ShoppingMall.fillna(0)\n",
    "passenger_data.Spa = passenger_data.Spa.fillna(0)\n",
    "passenger_data.VRDeck = passenger_data.VRDeck.fillna(0)\n",
    "passenger_data.Name = passenger_data.Name.fillna('0')"
   ]
  },
  {
   "cell_type": "code",
   "execution_count": 8,
   "id": "040a94d9",
   "metadata": {
    "execution": {
     "iopub.execute_input": "2022-04-07T08:38:16.045199Z",
     "iopub.status.busy": "2022-04-07T08:38:16.044632Z",
     "iopub.status.idle": "2022-04-07T08:38:16.061456Z",
     "shell.execute_reply": "2022-04-07T08:38:16.061981Z",
     "shell.execute_reply.started": "2022-04-07T08:24:50.550749Z"
    },
    "papermill": {
     "duration": 0.067473,
     "end_time": "2022-04-07T08:38:16.062142",
     "exception": false,
     "start_time": "2022-04-07T08:38:15.994669",
     "status": "completed"
    },
    "tags": []
   },
   "outputs": [
    {
     "data": {
      "text/html": [
       "<div>\n",
       "<style scoped>\n",
       "    .dataframe tbody tr th:only-of-type {\n",
       "        vertical-align: middle;\n",
       "    }\n",
       "\n",
       "    .dataframe tbody tr th {\n",
       "        vertical-align: top;\n",
       "    }\n",
       "\n",
       "    .dataframe thead th {\n",
       "        text-align: right;\n",
       "    }\n",
       "</style>\n",
       "<table border=\"1\" class=\"dataframe\">\n",
       "  <thead>\n",
       "    <tr style=\"text-align: right;\">\n",
       "      <th></th>\n",
       "      <th>PassengerId</th>\n",
       "      <th>HomePlanet</th>\n",
       "      <th>CryoSleep</th>\n",
       "      <th>Cabin</th>\n",
       "      <th>Destination</th>\n",
       "      <th>Age</th>\n",
       "      <th>VIP</th>\n",
       "      <th>RoomService</th>\n",
       "      <th>FoodCourt</th>\n",
       "      <th>ShoppingMall</th>\n",
       "      <th>Spa</th>\n",
       "      <th>VRDeck</th>\n",
       "      <th>Name</th>\n",
       "      <th>Transported</th>\n",
       "    </tr>\n",
       "  </thead>\n",
       "  <tbody>\n",
       "    <tr>\n",
       "      <th>0</th>\n",
       "      <td>0001_01</td>\n",
       "      <td>Europa</td>\n",
       "      <td>False</td>\n",
       "      <td>B/0/P</td>\n",
       "      <td>TRAPPIST-1e</td>\n",
       "      <td>39.0</td>\n",
       "      <td>False</td>\n",
       "      <td>0.0</td>\n",
       "      <td>0.0</td>\n",
       "      <td>0.0</td>\n",
       "      <td>0.0</td>\n",
       "      <td>0.0</td>\n",
       "      <td>Maham Ofracculy</td>\n",
       "      <td>False</td>\n",
       "    </tr>\n",
       "    <tr>\n",
       "      <th>1</th>\n",
       "      <td>0002_01</td>\n",
       "      <td>Earth</td>\n",
       "      <td>False</td>\n",
       "      <td>F/0/S</td>\n",
       "      <td>TRAPPIST-1e</td>\n",
       "      <td>24.0</td>\n",
       "      <td>False</td>\n",
       "      <td>109.0</td>\n",
       "      <td>9.0</td>\n",
       "      <td>25.0</td>\n",
       "      <td>549.0</td>\n",
       "      <td>44.0</td>\n",
       "      <td>Juanna Vines</td>\n",
       "      <td>True</td>\n",
       "    </tr>\n",
       "    <tr>\n",
       "      <th>2</th>\n",
       "      <td>0003_01</td>\n",
       "      <td>Europa</td>\n",
       "      <td>False</td>\n",
       "      <td>A/0/S</td>\n",
       "      <td>TRAPPIST-1e</td>\n",
       "      <td>58.0</td>\n",
       "      <td>True</td>\n",
       "      <td>43.0</td>\n",
       "      <td>3576.0</td>\n",
       "      <td>0.0</td>\n",
       "      <td>6715.0</td>\n",
       "      <td>49.0</td>\n",
       "      <td>Altark Susent</td>\n",
       "      <td>False</td>\n",
       "    </tr>\n",
       "    <tr>\n",
       "      <th>3</th>\n",
       "      <td>0003_02</td>\n",
       "      <td>Europa</td>\n",
       "      <td>False</td>\n",
       "      <td>A/0/S</td>\n",
       "      <td>TRAPPIST-1e</td>\n",
       "      <td>33.0</td>\n",
       "      <td>False</td>\n",
       "      <td>0.0</td>\n",
       "      <td>1283.0</td>\n",
       "      <td>371.0</td>\n",
       "      <td>3329.0</td>\n",
       "      <td>193.0</td>\n",
       "      <td>Solam Susent</td>\n",
       "      <td>False</td>\n",
       "    </tr>\n",
       "    <tr>\n",
       "      <th>4</th>\n",
       "      <td>0004_01</td>\n",
       "      <td>Earth</td>\n",
       "      <td>False</td>\n",
       "      <td>F/1/S</td>\n",
       "      <td>TRAPPIST-1e</td>\n",
       "      <td>16.0</td>\n",
       "      <td>False</td>\n",
       "      <td>303.0</td>\n",
       "      <td>70.0</td>\n",
       "      <td>151.0</td>\n",
       "      <td>565.0</td>\n",
       "      <td>2.0</td>\n",
       "      <td>Willy Santantines</td>\n",
       "      <td>True</td>\n",
       "    </tr>\n",
       "  </tbody>\n",
       "</table>\n",
       "</div>"
      ],
      "text/plain": [
       "  PassengerId HomePlanet CryoSleep  Cabin  Destination   Age    VIP  \\\n",
       "0     0001_01     Europa     False  B/0/P  TRAPPIST-1e  39.0  False   \n",
       "1     0002_01      Earth     False  F/0/S  TRAPPIST-1e  24.0  False   \n",
       "2     0003_01     Europa     False  A/0/S  TRAPPIST-1e  58.0   True   \n",
       "3     0003_02     Europa     False  A/0/S  TRAPPIST-1e  33.0  False   \n",
       "4     0004_01      Earth     False  F/1/S  TRAPPIST-1e  16.0  False   \n",
       "\n",
       "   RoomService  FoodCourt  ShoppingMall     Spa  VRDeck               Name  \\\n",
       "0          0.0        0.0           0.0     0.0     0.0    Maham Ofracculy   \n",
       "1        109.0        9.0          25.0   549.0    44.0       Juanna Vines   \n",
       "2         43.0     3576.0           0.0  6715.0    49.0      Altark Susent   \n",
       "3          0.0     1283.0         371.0  3329.0   193.0       Solam Susent   \n",
       "4        303.0       70.0         151.0   565.0     2.0  Willy Santantines   \n",
       "\n",
       "   Transported  \n",
       "0        False  \n",
       "1         True  \n",
       "2        False  \n",
       "3        False  \n",
       "4         True  "
      ]
     },
     "execution_count": 8,
     "metadata": {},
     "output_type": "execute_result"
    }
   ],
   "source": [
    "passenger_data.head()\n"
   ]
  },
  {
   "cell_type": "code",
   "execution_count": 9,
   "id": "b0d9f2cc",
   "metadata": {
    "execution": {
     "iopub.execute_input": "2022-04-07T08:38:16.159717Z",
     "iopub.status.busy": "2022-04-07T08:38:16.159181Z",
     "iopub.status.idle": "2022-04-07T08:38:16.166509Z",
     "shell.execute_reply": "2022-04-07T08:38:16.167004Z",
     "shell.execute_reply.started": "2022-04-07T08:25:33.065334Z"
    },
    "papermill": {
     "duration": 0.057272,
     "end_time": "2022-04-07T08:38:16.167157",
     "exception": false,
     "start_time": "2022-04-07T08:38:16.109885",
     "status": "completed"
    },
    "tags": []
   },
   "outputs": [],
   "source": [
    "passenger_data['RoomService'] = passenger_data['RoomService'].astype(int)\n",
    "passenger_data['Age'] = passenger_data['Age'].astype(int)\n",
    "passenger_data['FoodCourt'] = passenger_data['FoodCourt'].astype(int)\n",
    "passenger_data['ShoppingMall'] = passenger_data['ShoppingMall'].astype(int)\n",
    "passenger_data['Spa'] = passenger_data['Spa'].astype(int)\n",
    "passenger_data['VRDeck'] = passenger_data['VRDeck'].astype(int)"
   ]
  },
  {
   "cell_type": "code",
   "execution_count": 10,
   "id": "bc525e1b",
   "metadata": {
    "execution": {
     "iopub.execute_input": "2022-04-07T08:38:16.264869Z",
     "iopub.status.busy": "2022-04-07T08:38:16.264311Z",
     "iopub.status.idle": "2022-04-07T08:38:16.275525Z",
     "shell.execute_reply": "2022-04-07T08:38:16.274980Z",
     "shell.execute_reply.started": "2022-04-07T08:26:16.415326Z"
    },
    "papermill": {
     "duration": 0.061163,
     "end_time": "2022-04-07T08:38:16.275651",
     "exception": false,
     "start_time": "2022-04-07T08:38:16.214488",
     "status": "completed"
    },
    "tags": []
   },
   "outputs": [],
   "source": [
    "passenger_data.Destination = passenger_data.Destination.replace({'TRAPPIST-1e':'TRAPPIST','55 Cancri e':'Cancri','PSO J318.5-22':'PSO'})\n",
    "passenger_data['Transported']= passenger_data['Transported'].replace(True,1).replace(False,0)"
   ]
  },
  {
   "cell_type": "code",
   "execution_count": 11,
   "id": "9cba1f08",
   "metadata": {
    "execution": {
     "iopub.execute_input": "2022-04-07T08:38:16.377283Z",
     "iopub.status.busy": "2022-04-07T08:38:16.375706Z",
     "iopub.status.idle": "2022-04-07T08:38:16.380127Z",
     "shell.execute_reply": "2022-04-07T08:38:16.379676Z",
     "shell.execute_reply.started": "2022-04-07T08:26:31.746597Z"
    },
    "papermill": {
     "duration": 0.056914,
     "end_time": "2022-04-07T08:38:16.380252",
     "exception": false,
     "start_time": "2022-04-07T08:38:16.323338",
     "status": "completed"
    },
    "tags": []
   },
   "outputs": [],
   "source": [
    "x = passenger_data.iloc[:,0:13]"
   ]
  },
  {
   "cell_type": "code",
   "execution_count": 12,
   "id": "aeb5f2c3",
   "metadata": {
    "execution": {
     "iopub.execute_input": "2022-04-07T08:38:16.481914Z",
     "iopub.status.busy": "2022-04-07T08:38:16.481272Z",
     "iopub.status.idle": "2022-04-07T08:38:16.494655Z",
     "shell.execute_reply": "2022-04-07T08:38:16.495155Z",
     "shell.execute_reply.started": "2022-04-07T08:26:50.721309Z"
    },
    "papermill": {
     "duration": 0.067923,
     "end_time": "2022-04-07T08:38:16.495319",
     "exception": false,
     "start_time": "2022-04-07T08:38:16.427396",
     "status": "completed"
    },
    "tags": []
   },
   "outputs": [
    {
     "data": {
      "text/html": [
       "<div>\n",
       "<style scoped>\n",
       "    .dataframe tbody tr th:only-of-type {\n",
       "        vertical-align: middle;\n",
       "    }\n",
       "\n",
       "    .dataframe tbody tr th {\n",
       "        vertical-align: top;\n",
       "    }\n",
       "\n",
       "    .dataframe thead th {\n",
       "        text-align: right;\n",
       "    }\n",
       "</style>\n",
       "<table border=\"1\" class=\"dataframe\">\n",
       "  <thead>\n",
       "    <tr style=\"text-align: right;\">\n",
       "      <th></th>\n",
       "      <th>PassengerId</th>\n",
       "      <th>HomePlanet</th>\n",
       "      <th>CryoSleep</th>\n",
       "      <th>Cabin</th>\n",
       "      <th>Destination</th>\n",
       "      <th>Age</th>\n",
       "      <th>VIP</th>\n",
       "      <th>RoomService</th>\n",
       "      <th>FoodCourt</th>\n",
       "      <th>ShoppingMall</th>\n",
       "      <th>Spa</th>\n",
       "      <th>VRDeck</th>\n",
       "      <th>Name</th>\n",
       "    </tr>\n",
       "  </thead>\n",
       "  <tbody>\n",
       "    <tr>\n",
       "      <th>0</th>\n",
       "      <td>0001_01</td>\n",
       "      <td>Europa</td>\n",
       "      <td>False</td>\n",
       "      <td>B/0/P</td>\n",
       "      <td>TRAPPIST</td>\n",
       "      <td>39</td>\n",
       "      <td>False</td>\n",
       "      <td>0</td>\n",
       "      <td>0</td>\n",
       "      <td>0</td>\n",
       "      <td>0</td>\n",
       "      <td>0</td>\n",
       "      <td>Maham Ofracculy</td>\n",
       "    </tr>\n",
       "    <tr>\n",
       "      <th>1</th>\n",
       "      <td>0002_01</td>\n",
       "      <td>Earth</td>\n",
       "      <td>False</td>\n",
       "      <td>F/0/S</td>\n",
       "      <td>TRAPPIST</td>\n",
       "      <td>24</td>\n",
       "      <td>False</td>\n",
       "      <td>109</td>\n",
       "      <td>9</td>\n",
       "      <td>25</td>\n",
       "      <td>549</td>\n",
       "      <td>44</td>\n",
       "      <td>Juanna Vines</td>\n",
       "    </tr>\n",
       "    <tr>\n",
       "      <th>2</th>\n",
       "      <td>0003_01</td>\n",
       "      <td>Europa</td>\n",
       "      <td>False</td>\n",
       "      <td>A/0/S</td>\n",
       "      <td>TRAPPIST</td>\n",
       "      <td>58</td>\n",
       "      <td>True</td>\n",
       "      <td>43</td>\n",
       "      <td>3576</td>\n",
       "      <td>0</td>\n",
       "      <td>6715</td>\n",
       "      <td>49</td>\n",
       "      <td>Altark Susent</td>\n",
       "    </tr>\n",
       "    <tr>\n",
       "      <th>3</th>\n",
       "      <td>0003_02</td>\n",
       "      <td>Europa</td>\n",
       "      <td>False</td>\n",
       "      <td>A/0/S</td>\n",
       "      <td>TRAPPIST</td>\n",
       "      <td>33</td>\n",
       "      <td>False</td>\n",
       "      <td>0</td>\n",
       "      <td>1283</td>\n",
       "      <td>371</td>\n",
       "      <td>3329</td>\n",
       "      <td>193</td>\n",
       "      <td>Solam Susent</td>\n",
       "    </tr>\n",
       "    <tr>\n",
       "      <th>4</th>\n",
       "      <td>0004_01</td>\n",
       "      <td>Earth</td>\n",
       "      <td>False</td>\n",
       "      <td>F/1/S</td>\n",
       "      <td>TRAPPIST</td>\n",
       "      <td>16</td>\n",
       "      <td>False</td>\n",
       "      <td>303</td>\n",
       "      <td>70</td>\n",
       "      <td>151</td>\n",
       "      <td>565</td>\n",
       "      <td>2</td>\n",
       "      <td>Willy Santantines</td>\n",
       "    </tr>\n",
       "    <tr>\n",
       "      <th>...</th>\n",
       "      <td>...</td>\n",
       "      <td>...</td>\n",
       "      <td>...</td>\n",
       "      <td>...</td>\n",
       "      <td>...</td>\n",
       "      <td>...</td>\n",
       "      <td>...</td>\n",
       "      <td>...</td>\n",
       "      <td>...</td>\n",
       "      <td>...</td>\n",
       "      <td>...</td>\n",
       "      <td>...</td>\n",
       "      <td>...</td>\n",
       "    </tr>\n",
       "    <tr>\n",
       "      <th>8688</th>\n",
       "      <td>9276_01</td>\n",
       "      <td>Europa</td>\n",
       "      <td>False</td>\n",
       "      <td>A/98/P</td>\n",
       "      <td>Cancri</td>\n",
       "      <td>41</td>\n",
       "      <td>True</td>\n",
       "      <td>0</td>\n",
       "      <td>6819</td>\n",
       "      <td>0</td>\n",
       "      <td>1643</td>\n",
       "      <td>74</td>\n",
       "      <td>Gravior Noxnuther</td>\n",
       "    </tr>\n",
       "    <tr>\n",
       "      <th>8689</th>\n",
       "      <td>9278_01</td>\n",
       "      <td>Earth</td>\n",
       "      <td>True</td>\n",
       "      <td>G/1499/S</td>\n",
       "      <td>PSO</td>\n",
       "      <td>18</td>\n",
       "      <td>False</td>\n",
       "      <td>0</td>\n",
       "      <td>0</td>\n",
       "      <td>0</td>\n",
       "      <td>0</td>\n",
       "      <td>0</td>\n",
       "      <td>Kurta Mondalley</td>\n",
       "    </tr>\n",
       "    <tr>\n",
       "      <th>8690</th>\n",
       "      <td>9279_01</td>\n",
       "      <td>Earth</td>\n",
       "      <td>False</td>\n",
       "      <td>G/1500/S</td>\n",
       "      <td>TRAPPIST</td>\n",
       "      <td>26</td>\n",
       "      <td>False</td>\n",
       "      <td>0</td>\n",
       "      <td>0</td>\n",
       "      <td>1872</td>\n",
       "      <td>1</td>\n",
       "      <td>0</td>\n",
       "      <td>Fayey Connon</td>\n",
       "    </tr>\n",
       "    <tr>\n",
       "      <th>8691</th>\n",
       "      <td>9280_01</td>\n",
       "      <td>Europa</td>\n",
       "      <td>False</td>\n",
       "      <td>E/608/S</td>\n",
       "      <td>Cancri</td>\n",
       "      <td>32</td>\n",
       "      <td>False</td>\n",
       "      <td>0</td>\n",
       "      <td>1049</td>\n",
       "      <td>0</td>\n",
       "      <td>353</td>\n",
       "      <td>3235</td>\n",
       "      <td>Celeon Hontichre</td>\n",
       "    </tr>\n",
       "    <tr>\n",
       "      <th>8692</th>\n",
       "      <td>9280_02</td>\n",
       "      <td>Europa</td>\n",
       "      <td>False</td>\n",
       "      <td>E/608/S</td>\n",
       "      <td>TRAPPIST</td>\n",
       "      <td>44</td>\n",
       "      <td>False</td>\n",
       "      <td>126</td>\n",
       "      <td>4688</td>\n",
       "      <td>0</td>\n",
       "      <td>0</td>\n",
       "      <td>12</td>\n",
       "      <td>Propsh Hontichre</td>\n",
       "    </tr>\n",
       "  </tbody>\n",
       "</table>\n",
       "<p>8693 rows × 13 columns</p>\n",
       "</div>"
      ],
      "text/plain": [
       "     PassengerId HomePlanet CryoSleep     Cabin Destination  Age    VIP  \\\n",
       "0        0001_01     Europa     False     B/0/P    TRAPPIST   39  False   \n",
       "1        0002_01      Earth     False     F/0/S    TRAPPIST   24  False   \n",
       "2        0003_01     Europa     False     A/0/S    TRAPPIST   58   True   \n",
       "3        0003_02     Europa     False     A/0/S    TRAPPIST   33  False   \n",
       "4        0004_01      Earth     False     F/1/S    TRAPPIST   16  False   \n",
       "...          ...        ...       ...       ...         ...  ...    ...   \n",
       "8688     9276_01     Europa     False    A/98/P      Cancri   41   True   \n",
       "8689     9278_01      Earth      True  G/1499/S         PSO   18  False   \n",
       "8690     9279_01      Earth     False  G/1500/S    TRAPPIST   26  False   \n",
       "8691     9280_01     Europa     False   E/608/S      Cancri   32  False   \n",
       "8692     9280_02     Europa     False   E/608/S    TRAPPIST   44  False   \n",
       "\n",
       "      RoomService  FoodCourt  ShoppingMall   Spa  VRDeck               Name  \n",
       "0               0          0             0     0       0    Maham Ofracculy  \n",
       "1             109          9            25   549      44       Juanna Vines  \n",
       "2              43       3576             0  6715      49      Altark Susent  \n",
       "3               0       1283           371  3329     193       Solam Susent  \n",
       "4             303         70           151   565       2  Willy Santantines  \n",
       "...           ...        ...           ...   ...     ...                ...  \n",
       "8688            0       6819             0  1643      74  Gravior Noxnuther  \n",
       "8689            0          0             0     0       0    Kurta Mondalley  \n",
       "8690            0          0          1872     1       0       Fayey Connon  \n",
       "8691            0       1049             0   353    3235   Celeon Hontichre  \n",
       "8692          126       4688             0     0      12   Propsh Hontichre  \n",
       "\n",
       "[8693 rows x 13 columns]"
      ]
     },
     "execution_count": 12,
     "metadata": {},
     "output_type": "execute_result"
    }
   ],
   "source": [
    "x"
   ]
  },
  {
   "cell_type": "code",
   "execution_count": 13,
   "id": "8a7fca14",
   "metadata": {
    "execution": {
     "iopub.execute_input": "2022-04-07T08:38:16.602520Z",
     "iopub.status.busy": "2022-04-07T08:38:16.601964Z",
     "iopub.status.idle": "2022-04-07T08:38:16.608219Z",
     "shell.execute_reply": "2022-04-07T08:38:16.608600Z",
     "shell.execute_reply.started": "2022-04-07T08:27:16.400597Z"
    },
    "papermill": {
     "duration": 0.057017,
     "end_time": "2022-04-07T08:38:16.608797",
     "exception": false,
     "start_time": "2022-04-07T08:38:16.551780",
     "status": "completed"
    },
    "tags": []
   },
   "outputs": [],
   "source": [
    "x = passenger_data.drop(columns = ['Cabin','Name','Transported'])"
   ]
  },
  {
   "cell_type": "code",
   "execution_count": 14,
   "id": "4f94eb0f",
   "metadata": {
    "execution": {
     "iopub.execute_input": "2022-04-07T08:38:16.731210Z",
     "iopub.status.busy": "2022-04-07T08:38:16.730609Z",
     "iopub.status.idle": "2022-04-07T08:38:16.745281Z",
     "shell.execute_reply": "2022-04-07T08:38:16.745763Z",
     "shell.execute_reply.started": "2022-04-07T08:27:23.506525Z"
    },
    "papermill": {
     "duration": 0.080765,
     "end_time": "2022-04-07T08:38:16.745928",
     "exception": false,
     "start_time": "2022-04-07T08:38:16.665163",
     "status": "completed"
    },
    "tags": []
   },
   "outputs": [
    {
     "data": {
      "text/html": [
       "<div>\n",
       "<style scoped>\n",
       "    .dataframe tbody tr th:only-of-type {\n",
       "        vertical-align: middle;\n",
       "    }\n",
       "\n",
       "    .dataframe tbody tr th {\n",
       "        vertical-align: top;\n",
       "    }\n",
       "\n",
       "    .dataframe thead th {\n",
       "        text-align: right;\n",
       "    }\n",
       "</style>\n",
       "<table border=\"1\" class=\"dataframe\">\n",
       "  <thead>\n",
       "    <tr style=\"text-align: right;\">\n",
       "      <th></th>\n",
       "      <th>PassengerId</th>\n",
       "      <th>HomePlanet</th>\n",
       "      <th>CryoSleep</th>\n",
       "      <th>Destination</th>\n",
       "      <th>Age</th>\n",
       "      <th>VIP</th>\n",
       "      <th>RoomService</th>\n",
       "      <th>FoodCourt</th>\n",
       "      <th>ShoppingMall</th>\n",
       "      <th>Spa</th>\n",
       "      <th>VRDeck</th>\n",
       "    </tr>\n",
       "  </thead>\n",
       "  <tbody>\n",
       "    <tr>\n",
       "      <th>0</th>\n",
       "      <td>0001_01</td>\n",
       "      <td>Europa</td>\n",
       "      <td>False</td>\n",
       "      <td>TRAPPIST</td>\n",
       "      <td>39</td>\n",
       "      <td>False</td>\n",
       "      <td>0</td>\n",
       "      <td>0</td>\n",
       "      <td>0</td>\n",
       "      <td>0</td>\n",
       "      <td>0</td>\n",
       "    </tr>\n",
       "    <tr>\n",
       "      <th>1</th>\n",
       "      <td>0002_01</td>\n",
       "      <td>Earth</td>\n",
       "      <td>False</td>\n",
       "      <td>TRAPPIST</td>\n",
       "      <td>24</td>\n",
       "      <td>False</td>\n",
       "      <td>109</td>\n",
       "      <td>9</td>\n",
       "      <td>25</td>\n",
       "      <td>549</td>\n",
       "      <td>44</td>\n",
       "    </tr>\n",
       "    <tr>\n",
       "      <th>2</th>\n",
       "      <td>0003_01</td>\n",
       "      <td>Europa</td>\n",
       "      <td>False</td>\n",
       "      <td>TRAPPIST</td>\n",
       "      <td>58</td>\n",
       "      <td>True</td>\n",
       "      <td>43</td>\n",
       "      <td>3576</td>\n",
       "      <td>0</td>\n",
       "      <td>6715</td>\n",
       "      <td>49</td>\n",
       "    </tr>\n",
       "    <tr>\n",
       "      <th>3</th>\n",
       "      <td>0003_02</td>\n",
       "      <td>Europa</td>\n",
       "      <td>False</td>\n",
       "      <td>TRAPPIST</td>\n",
       "      <td>33</td>\n",
       "      <td>False</td>\n",
       "      <td>0</td>\n",
       "      <td>1283</td>\n",
       "      <td>371</td>\n",
       "      <td>3329</td>\n",
       "      <td>193</td>\n",
       "    </tr>\n",
       "    <tr>\n",
       "      <th>4</th>\n",
       "      <td>0004_01</td>\n",
       "      <td>Earth</td>\n",
       "      <td>False</td>\n",
       "      <td>TRAPPIST</td>\n",
       "      <td>16</td>\n",
       "      <td>False</td>\n",
       "      <td>303</td>\n",
       "      <td>70</td>\n",
       "      <td>151</td>\n",
       "      <td>565</td>\n",
       "      <td>2</td>\n",
       "    </tr>\n",
       "    <tr>\n",
       "      <th>...</th>\n",
       "      <td>...</td>\n",
       "      <td>...</td>\n",
       "      <td>...</td>\n",
       "      <td>...</td>\n",
       "      <td>...</td>\n",
       "      <td>...</td>\n",
       "      <td>...</td>\n",
       "      <td>...</td>\n",
       "      <td>...</td>\n",
       "      <td>...</td>\n",
       "      <td>...</td>\n",
       "    </tr>\n",
       "    <tr>\n",
       "      <th>8688</th>\n",
       "      <td>9276_01</td>\n",
       "      <td>Europa</td>\n",
       "      <td>False</td>\n",
       "      <td>Cancri</td>\n",
       "      <td>41</td>\n",
       "      <td>True</td>\n",
       "      <td>0</td>\n",
       "      <td>6819</td>\n",
       "      <td>0</td>\n",
       "      <td>1643</td>\n",
       "      <td>74</td>\n",
       "    </tr>\n",
       "    <tr>\n",
       "      <th>8689</th>\n",
       "      <td>9278_01</td>\n",
       "      <td>Earth</td>\n",
       "      <td>True</td>\n",
       "      <td>PSO</td>\n",
       "      <td>18</td>\n",
       "      <td>False</td>\n",
       "      <td>0</td>\n",
       "      <td>0</td>\n",
       "      <td>0</td>\n",
       "      <td>0</td>\n",
       "      <td>0</td>\n",
       "    </tr>\n",
       "    <tr>\n",
       "      <th>8690</th>\n",
       "      <td>9279_01</td>\n",
       "      <td>Earth</td>\n",
       "      <td>False</td>\n",
       "      <td>TRAPPIST</td>\n",
       "      <td>26</td>\n",
       "      <td>False</td>\n",
       "      <td>0</td>\n",
       "      <td>0</td>\n",
       "      <td>1872</td>\n",
       "      <td>1</td>\n",
       "      <td>0</td>\n",
       "    </tr>\n",
       "    <tr>\n",
       "      <th>8691</th>\n",
       "      <td>9280_01</td>\n",
       "      <td>Europa</td>\n",
       "      <td>False</td>\n",
       "      <td>Cancri</td>\n",
       "      <td>32</td>\n",
       "      <td>False</td>\n",
       "      <td>0</td>\n",
       "      <td>1049</td>\n",
       "      <td>0</td>\n",
       "      <td>353</td>\n",
       "      <td>3235</td>\n",
       "    </tr>\n",
       "    <tr>\n",
       "      <th>8692</th>\n",
       "      <td>9280_02</td>\n",
       "      <td>Europa</td>\n",
       "      <td>False</td>\n",
       "      <td>TRAPPIST</td>\n",
       "      <td>44</td>\n",
       "      <td>False</td>\n",
       "      <td>126</td>\n",
       "      <td>4688</td>\n",
       "      <td>0</td>\n",
       "      <td>0</td>\n",
       "      <td>12</td>\n",
       "    </tr>\n",
       "  </tbody>\n",
       "</table>\n",
       "<p>8693 rows × 11 columns</p>\n",
       "</div>"
      ],
      "text/plain": [
       "     PassengerId HomePlanet CryoSleep Destination  Age    VIP  RoomService  \\\n",
       "0        0001_01     Europa     False    TRAPPIST   39  False            0   \n",
       "1        0002_01      Earth     False    TRAPPIST   24  False          109   \n",
       "2        0003_01     Europa     False    TRAPPIST   58   True           43   \n",
       "3        0003_02     Europa     False    TRAPPIST   33  False            0   \n",
       "4        0004_01      Earth     False    TRAPPIST   16  False          303   \n",
       "...          ...        ...       ...         ...  ...    ...          ...   \n",
       "8688     9276_01     Europa     False      Cancri   41   True            0   \n",
       "8689     9278_01      Earth      True         PSO   18  False            0   \n",
       "8690     9279_01      Earth     False    TRAPPIST   26  False            0   \n",
       "8691     9280_01     Europa     False      Cancri   32  False            0   \n",
       "8692     9280_02     Europa     False    TRAPPIST   44  False          126   \n",
       "\n",
       "      FoodCourt  ShoppingMall   Spa  VRDeck  \n",
       "0             0             0     0       0  \n",
       "1             9            25   549      44  \n",
       "2          3576             0  6715      49  \n",
       "3          1283           371  3329     193  \n",
       "4            70           151   565       2  \n",
       "...         ...           ...   ...     ...  \n",
       "8688       6819             0  1643      74  \n",
       "8689          0             0     0       0  \n",
       "8690          0          1872     1       0  \n",
       "8691       1049             0   353    3235  \n",
       "8692       4688             0     0      12  \n",
       "\n",
       "[8693 rows x 11 columns]"
      ]
     },
     "execution_count": 14,
     "metadata": {},
     "output_type": "execute_result"
    }
   ],
   "source": [
    "x"
   ]
  },
  {
   "cell_type": "code",
   "execution_count": 15,
   "id": "aba16d1f",
   "metadata": {
    "execution": {
     "iopub.execute_input": "2022-04-07T08:38:16.846610Z",
     "iopub.status.busy": "2022-04-07T08:38:16.846067Z",
     "iopub.status.idle": "2022-04-07T08:38:16.849128Z",
     "shell.execute_reply": "2022-04-07T08:38:16.849594Z",
     "shell.execute_reply.started": "2022-04-07T08:27:46.077022Z"
    },
    "papermill": {
     "duration": 0.054696,
     "end_time": "2022-04-07T08:38:16.849777",
     "exception": false,
     "start_time": "2022-04-07T08:38:16.795081",
     "status": "completed"
    },
    "tags": []
   },
   "outputs": [],
   "source": [
    "y = passenger_data['Transported']"
   ]
  },
  {
   "cell_type": "code",
   "execution_count": 16,
   "id": "849979e3",
   "metadata": {
    "execution": {
     "iopub.execute_input": "2022-04-07T08:38:16.950712Z",
     "iopub.status.busy": "2022-04-07T08:38:16.950160Z",
     "iopub.status.idle": "2022-04-07T08:38:16.955488Z",
     "shell.execute_reply": "2022-04-07T08:38:16.955976Z",
     "shell.execute_reply.started": "2022-04-07T08:27:50.304110Z"
    },
    "papermill": {
     "duration": 0.056758,
     "end_time": "2022-04-07T08:38:16.956123",
     "exception": false,
     "start_time": "2022-04-07T08:38:16.899365",
     "status": "completed"
    },
    "tags": []
   },
   "outputs": [
    {
     "data": {
      "text/plain": [
       "0       0\n",
       "1       1\n",
       "2       0\n",
       "3       0\n",
       "4       1\n",
       "       ..\n",
       "8688    0\n",
       "8689    0\n",
       "8690    1\n",
       "8691    0\n",
       "8692    1\n",
       "Name: Transported, Length: 8693, dtype: int64"
      ]
     },
     "execution_count": 16,
     "metadata": {},
     "output_type": "execute_result"
    }
   ],
   "source": [
    "y"
   ]
  },
  {
   "cell_type": "code",
   "execution_count": 17,
   "id": "b113f2e2",
   "metadata": {
    "execution": {
     "iopub.execute_input": "2022-04-07T08:38:17.057544Z",
     "iopub.status.busy": "2022-04-07T08:38:17.057006Z",
     "iopub.status.idle": "2022-04-07T08:38:17.063129Z",
     "shell.execute_reply": "2022-04-07T08:38:17.062537Z",
     "shell.execute_reply.started": "2022-04-07T08:28:10.515231Z"
    },
    "papermill": {
     "duration": 0.058565,
     "end_time": "2022-04-07T08:38:17.063255",
     "exception": false,
     "start_time": "2022-04-07T08:38:17.004690",
     "status": "completed"
    },
    "tags": []
   },
   "outputs": [
    {
     "data": {
      "text/plain": [
       "PassengerId     object\n",
       "HomePlanet      object\n",
       "CryoSleep       object\n",
       "Cabin           object\n",
       "Destination     object\n",
       "Age              int64\n",
       "VIP             object\n",
       "RoomService      int64\n",
       "FoodCourt        int64\n",
       "ShoppingMall     int64\n",
       "Spa              int64\n",
       "VRDeck           int64\n",
       "Name            object\n",
       "Transported      int64\n",
       "dtype: object"
      ]
     },
     "execution_count": 17,
     "metadata": {},
     "output_type": "execute_result"
    }
   ],
   "source": [
    "passenger_data.dtypes"
   ]
  },
  {
   "cell_type": "code",
   "execution_count": 18,
   "id": "c18d12a1",
   "metadata": {
    "execution": {
     "iopub.execute_input": "2022-04-07T08:38:17.174934Z",
     "iopub.status.busy": "2022-04-07T08:38:17.174185Z",
     "iopub.status.idle": "2022-04-07T08:38:17.177231Z",
     "shell.execute_reply": "2022-04-07T08:38:17.177635Z",
     "shell.execute_reply.started": "2022-04-07T08:28:22.591189Z"
    },
    "papermill": {
     "duration": 0.06421,
     "end_time": "2022-04-07T08:38:17.177830",
     "exception": false,
     "start_time": "2022-04-07T08:38:17.113620",
     "status": "completed"
    },
    "tags": []
   },
   "outputs": [
    {
     "data": {
      "text/html": [
       "<div>\n",
       "<style scoped>\n",
       "    .dataframe tbody tr th:only-of-type {\n",
       "        vertical-align: middle;\n",
       "    }\n",
       "\n",
       "    .dataframe tbody tr th {\n",
       "        vertical-align: top;\n",
       "    }\n",
       "\n",
       "    .dataframe thead th {\n",
       "        text-align: right;\n",
       "    }\n",
       "</style>\n",
       "<table border=\"1\" class=\"dataframe\">\n",
       "  <thead>\n",
       "    <tr style=\"text-align: right;\">\n",
       "      <th></th>\n",
       "      <th>PassengerId</th>\n",
       "      <th>HomePlanet</th>\n",
       "      <th>CryoSleep</th>\n",
       "      <th>Destination</th>\n",
       "      <th>Age</th>\n",
       "      <th>VIP</th>\n",
       "      <th>RoomService</th>\n",
       "      <th>FoodCourt</th>\n",
       "      <th>ShoppingMall</th>\n",
       "      <th>Spa</th>\n",
       "      <th>VRDeck</th>\n",
       "    </tr>\n",
       "  </thead>\n",
       "  <tbody>\n",
       "    <tr>\n",
       "      <th>0</th>\n",
       "      <td>0001_01</td>\n",
       "      <td>Europa</td>\n",
       "      <td>False</td>\n",
       "      <td>TRAPPIST</td>\n",
       "      <td>39</td>\n",
       "      <td>False</td>\n",
       "      <td>0</td>\n",
       "      <td>0</td>\n",
       "      <td>0</td>\n",
       "      <td>0</td>\n",
       "      <td>0</td>\n",
       "    </tr>\n",
       "    <tr>\n",
       "      <th>1</th>\n",
       "      <td>0002_01</td>\n",
       "      <td>Earth</td>\n",
       "      <td>False</td>\n",
       "      <td>TRAPPIST</td>\n",
       "      <td>24</td>\n",
       "      <td>False</td>\n",
       "      <td>109</td>\n",
       "      <td>9</td>\n",
       "      <td>25</td>\n",
       "      <td>549</td>\n",
       "      <td>44</td>\n",
       "    </tr>\n",
       "    <tr>\n",
       "      <th>2</th>\n",
       "      <td>0003_01</td>\n",
       "      <td>Europa</td>\n",
       "      <td>False</td>\n",
       "      <td>TRAPPIST</td>\n",
       "      <td>58</td>\n",
       "      <td>True</td>\n",
       "      <td>43</td>\n",
       "      <td>3576</td>\n",
       "      <td>0</td>\n",
       "      <td>6715</td>\n",
       "      <td>49</td>\n",
       "    </tr>\n",
       "    <tr>\n",
       "      <th>3</th>\n",
       "      <td>0003_02</td>\n",
       "      <td>Europa</td>\n",
       "      <td>False</td>\n",
       "      <td>TRAPPIST</td>\n",
       "      <td>33</td>\n",
       "      <td>False</td>\n",
       "      <td>0</td>\n",
       "      <td>1283</td>\n",
       "      <td>371</td>\n",
       "      <td>3329</td>\n",
       "      <td>193</td>\n",
       "    </tr>\n",
       "    <tr>\n",
       "      <th>4</th>\n",
       "      <td>0004_01</td>\n",
       "      <td>Earth</td>\n",
       "      <td>False</td>\n",
       "      <td>TRAPPIST</td>\n",
       "      <td>16</td>\n",
       "      <td>False</td>\n",
       "      <td>303</td>\n",
       "      <td>70</td>\n",
       "      <td>151</td>\n",
       "      <td>565</td>\n",
       "      <td>2</td>\n",
       "    </tr>\n",
       "  </tbody>\n",
       "</table>\n",
       "</div>"
      ],
      "text/plain": [
       "  PassengerId HomePlanet CryoSleep Destination  Age    VIP  RoomService  \\\n",
       "0     0001_01     Europa     False    TRAPPIST   39  False            0   \n",
       "1     0002_01      Earth     False    TRAPPIST   24  False          109   \n",
       "2     0003_01     Europa     False    TRAPPIST   58   True           43   \n",
       "3     0003_02     Europa     False    TRAPPIST   33  False            0   \n",
       "4     0004_01      Earth     False    TRAPPIST   16  False          303   \n",
       "\n",
       "   FoodCourt  ShoppingMall   Spa  VRDeck  \n",
       "0          0             0     0       0  \n",
       "1          9            25   549      44  \n",
       "2       3576             0  6715      49  \n",
       "3       1283           371  3329     193  \n",
       "4         70           151   565       2  "
      ]
     },
     "execution_count": 18,
     "metadata": {},
     "output_type": "execute_result"
    }
   ],
   "source": [
    "x.head()"
   ]
  },
  {
   "cell_type": "code",
   "execution_count": 19,
   "id": "4ae46289",
   "metadata": {
    "execution": {
     "iopub.execute_input": "2022-04-07T08:38:17.279812Z",
     "iopub.status.busy": "2022-04-07T08:38:17.279262Z",
     "iopub.status.idle": "2022-04-07T08:38:17.285415Z",
     "shell.execute_reply": "2022-04-07T08:38:17.285958Z",
     "shell.execute_reply.started": "2022-04-07T08:28:32.491662Z"
    },
    "papermill": {
     "duration": 0.059049,
     "end_time": "2022-04-07T08:38:17.286108",
     "exception": false,
     "start_time": "2022-04-07T08:38:17.227059",
     "status": "completed"
    },
    "tags": []
   },
   "outputs": [
    {
     "data": {
      "text/plain": [
       "array(['TRAPPIST', 'PSO', 'Cancri', '0'], dtype=object)"
      ]
     },
     "execution_count": 19,
     "metadata": {},
     "output_type": "execute_result"
    }
   ],
   "source": [
    "x.iloc[:,3].unique()"
   ]
  },
  {
   "cell_type": "code",
   "execution_count": 20,
   "id": "6772f9f1",
   "metadata": {
    "execution": {
     "iopub.execute_input": "2022-04-07T08:38:17.389291Z",
     "iopub.status.busy": "2022-04-07T08:38:17.387584Z",
     "iopub.status.idle": "2022-04-07T08:38:17.391690Z",
     "shell.execute_reply": "2022-04-07T08:38:17.391245Z",
     "shell.execute_reply.started": "2022-04-07T08:28:50.109945Z"
    },
    "papermill": {
     "duration": 0.056285,
     "end_time": "2022-04-07T08:38:17.391855",
     "exception": false,
     "start_time": "2022-04-07T08:38:17.335570",
     "status": "completed"
    },
    "tags": []
   },
   "outputs": [],
   "source": [
    "nom = [1,3,2,5]\n",
    "num = [0,6,7,8,9,10]\n",
    "bina = [4]"
   ]
  },
  {
   "cell_type": "code",
   "execution_count": 21,
   "id": "caf82994",
   "metadata": {
    "execution": {
     "iopub.execute_input": "2022-04-07T08:38:17.496798Z",
     "iopub.status.busy": "2022-04-07T08:38:17.496201Z",
     "iopub.status.idle": "2022-04-07T08:38:17.618385Z",
     "shell.execute_reply": "2022-04-07T08:38:17.618796Z",
     "shell.execute_reply.started": "2022-04-07T08:29:11.973380Z"
    },
    "papermill": {
     "duration": 0.177115,
     "end_time": "2022-04-07T08:38:17.618960",
     "exception": false,
     "start_time": "2022-04-07T08:38:17.441845",
     "status": "completed"
    },
    "tags": []
   },
   "outputs": [
    {
     "data": {
      "text/html": [
       "<style>#sk-c4a4fa24-31fe-4de6-9b8c-e0e40fe17b47 {color: black;background-color: white;}#sk-c4a4fa24-31fe-4de6-9b8c-e0e40fe17b47 pre{padding: 0;}#sk-c4a4fa24-31fe-4de6-9b8c-e0e40fe17b47 div.sk-toggleable {background-color: white;}#sk-c4a4fa24-31fe-4de6-9b8c-e0e40fe17b47 label.sk-toggleable__label {cursor: pointer;display: block;width: 100%;margin-bottom: 0;padding: 0.3em;box-sizing: border-box;text-align: center;}#sk-c4a4fa24-31fe-4de6-9b8c-e0e40fe17b47 div.sk-toggleable__content {max-height: 0;max-width: 0;overflow: hidden;text-align: left;background-color: #f0f8ff;}#sk-c4a4fa24-31fe-4de6-9b8c-e0e40fe17b47 div.sk-toggleable__content pre {margin: 0.2em;color: black;border-radius: 0.25em;background-color: #f0f8ff;}#sk-c4a4fa24-31fe-4de6-9b8c-e0e40fe17b47 input.sk-toggleable__control:checked~div.sk-toggleable__content {max-height: 200px;max-width: 100%;overflow: auto;}#sk-c4a4fa24-31fe-4de6-9b8c-e0e40fe17b47 div.sk-estimator input.sk-toggleable__control:checked~label.sk-toggleable__label {background-color: #d4ebff;}#sk-c4a4fa24-31fe-4de6-9b8c-e0e40fe17b47 div.sk-label input.sk-toggleable__control:checked~label.sk-toggleable__label {background-color: #d4ebff;}#sk-c4a4fa24-31fe-4de6-9b8c-e0e40fe17b47 input.sk-hidden--visually {border: 0;clip: rect(1px 1px 1px 1px);clip: rect(1px, 1px, 1px, 1px);height: 1px;margin: -1px;overflow: hidden;padding: 0;position: absolute;width: 1px;}#sk-c4a4fa24-31fe-4de6-9b8c-e0e40fe17b47 div.sk-estimator {font-family: monospace;background-color: #f0f8ff;border: 1px dotted black;border-radius: 0.25em;box-sizing: border-box;margin-bottom: 0.5em;}#sk-c4a4fa24-31fe-4de6-9b8c-e0e40fe17b47 div.sk-estimator:hover {background-color: #d4ebff;}#sk-c4a4fa24-31fe-4de6-9b8c-e0e40fe17b47 div.sk-parallel-item::after {content: \"\";width: 100%;border-bottom: 1px solid gray;flex-grow: 1;}#sk-c4a4fa24-31fe-4de6-9b8c-e0e40fe17b47 div.sk-label:hover label.sk-toggleable__label {background-color: #d4ebff;}#sk-c4a4fa24-31fe-4de6-9b8c-e0e40fe17b47 div.sk-serial::before {content: \"\";position: absolute;border-left: 1px solid gray;box-sizing: border-box;top: 2em;bottom: 0;left: 50%;}#sk-c4a4fa24-31fe-4de6-9b8c-e0e40fe17b47 div.sk-serial {display: flex;flex-direction: column;align-items: center;background-color: white;padding-right: 0.2em;padding-left: 0.2em;}#sk-c4a4fa24-31fe-4de6-9b8c-e0e40fe17b47 div.sk-item {z-index: 1;}#sk-c4a4fa24-31fe-4de6-9b8c-e0e40fe17b47 div.sk-parallel {display: flex;align-items: stretch;justify-content: center;background-color: white;}#sk-c4a4fa24-31fe-4de6-9b8c-e0e40fe17b47 div.sk-parallel::before {content: \"\";position: absolute;border-left: 1px solid gray;box-sizing: border-box;top: 2em;bottom: 0;left: 50%;}#sk-c4a4fa24-31fe-4de6-9b8c-e0e40fe17b47 div.sk-parallel-item {display: flex;flex-direction: column;position: relative;background-color: white;}#sk-c4a4fa24-31fe-4de6-9b8c-e0e40fe17b47 div.sk-parallel-item:first-child::after {align-self: flex-end;width: 50%;}#sk-c4a4fa24-31fe-4de6-9b8c-e0e40fe17b47 div.sk-parallel-item:last-child::after {align-self: flex-start;width: 50%;}#sk-c4a4fa24-31fe-4de6-9b8c-e0e40fe17b47 div.sk-parallel-item:only-child::after {width: 0;}#sk-c4a4fa24-31fe-4de6-9b8c-e0e40fe17b47 div.sk-dashed-wrapped {border: 1px dashed gray;margin: 0 0.4em 0.5em 0.4em;box-sizing: border-box;padding-bottom: 0.4em;background-color: white;position: relative;}#sk-c4a4fa24-31fe-4de6-9b8c-e0e40fe17b47 div.sk-label label {font-family: monospace;font-weight: bold;background-color: white;display: inline-block;line-height: 1.2em;}#sk-c4a4fa24-31fe-4de6-9b8c-e0e40fe17b47 div.sk-label-container {position: relative;z-index: 2;text-align: center;}#sk-c4a4fa24-31fe-4de6-9b8c-e0e40fe17b47 div.sk-container {display: inline-block;position: relative;}</style><div id=\"sk-c4a4fa24-31fe-4de6-9b8c-e0e40fe17b47\" class\"sk-top-container\"><div class=\"sk-container\"><div class=\"sk-item sk-dashed-wrapped\"><div class=\"sk-label-container\"><div class=\"sk-label sk-toggleable\"><input class=\"sk-toggleable__control sk-hidden--visually\" id=\"40be80f4-386c-499d-8bc8-abbb6daca29e\" type=\"checkbox\" ><label class=\"sk-toggleable__label\" for=\"40be80f4-386c-499d-8bc8-abbb6daca29e\">ColumnTransformer</label><div class=\"sk-toggleable__content\"><pre>ColumnTransformer(remainder='passthrough',\n",
       "                  transformers=[('onehotencoder', OneHotEncoder(sparse=False),\n",
       "                                 [1, 3, 2, 5]),\n",
       "                                ('powertransformer', PowerTransformer(),\n",
       "                                 [0, 6, 7, 8, 9, 10]),\n",
       "                                ('binarizer', Binarizer(), [4])])</pre></div></div></div><div class=\"sk-parallel\"><div class=\"sk-parallel-item\"><div class=\"sk-item\"><div class=\"sk-label-container\"><div class=\"sk-label sk-toggleable\"><input class=\"sk-toggleable__control sk-hidden--visually\" id=\"745a664a-35b9-417b-9cb9-7e1bb7f96adf\" type=\"checkbox\" ><label class=\"sk-toggleable__label\" for=\"745a664a-35b9-417b-9cb9-7e1bb7f96adf\">onehotencoder</label><div class=\"sk-toggleable__content\"><pre>[1, 3, 2, 5]</pre></div></div></div><div class=\"sk-serial\"><div class=\"sk-item\"><div class=\"sk-estimator sk-toggleable\"><input class=\"sk-toggleable__control sk-hidden--visually\" id=\"0c44a905-62e4-41a7-8d79-0117c646facc\" type=\"checkbox\" ><label class=\"sk-toggleable__label\" for=\"0c44a905-62e4-41a7-8d79-0117c646facc\">OneHotEncoder</label><div class=\"sk-toggleable__content\"><pre>OneHotEncoder(sparse=False)</pre></div></div></div></div></div></div><div class=\"sk-parallel-item\"><div class=\"sk-item\"><div class=\"sk-label-container\"><div class=\"sk-label sk-toggleable\"><input class=\"sk-toggleable__control sk-hidden--visually\" id=\"790badbc-11e6-47e4-8cfe-d033d3417cd1\" type=\"checkbox\" ><label class=\"sk-toggleable__label\" for=\"790badbc-11e6-47e4-8cfe-d033d3417cd1\">powertransformer</label><div class=\"sk-toggleable__content\"><pre>[0, 6, 7, 8, 9, 10]</pre></div></div></div><div class=\"sk-serial\"><div class=\"sk-item\"><div class=\"sk-estimator sk-toggleable\"><input class=\"sk-toggleable__control sk-hidden--visually\" id=\"d0a3af04-9174-4ccc-81fa-fead8743755b\" type=\"checkbox\" ><label class=\"sk-toggleable__label\" for=\"d0a3af04-9174-4ccc-81fa-fead8743755b\">PowerTransformer</label><div class=\"sk-toggleable__content\"><pre>PowerTransformer()</pre></div></div></div></div></div></div><div class=\"sk-parallel-item\"><div class=\"sk-item\"><div class=\"sk-label-container\"><div class=\"sk-label sk-toggleable\"><input class=\"sk-toggleable__control sk-hidden--visually\" id=\"e73fdf4f-d0ca-4ac4-b17f-366ca1a7a7fe\" type=\"checkbox\" ><label class=\"sk-toggleable__label\" for=\"e73fdf4f-d0ca-4ac4-b17f-366ca1a7a7fe\">binarizer</label><div class=\"sk-toggleable__content\"><pre>[4]</pre></div></div></div><div class=\"sk-serial\"><div class=\"sk-item\"><div class=\"sk-estimator sk-toggleable\"><input class=\"sk-toggleable__control sk-hidden--visually\" id=\"e258b104-f510-493e-ba4e-09fb45ed04e9\" type=\"checkbox\" ><label class=\"sk-toggleable__label\" for=\"e258b104-f510-493e-ba4e-09fb45ed04e9\">Binarizer</label><div class=\"sk-toggleable__content\"><pre>Binarizer()</pre></div></div></div></div></div></div><div class=\"sk-parallel-item\"><div class=\"sk-item\"><div class=\"sk-label-container\"><div class=\"sk-label sk-toggleable\"><input class=\"sk-toggleable__control sk-hidden--visually\" id=\"a6bf71cf-4739-47d6-9a68-2b5c096febe7\" type=\"checkbox\" ><label class=\"sk-toggleable__label\" for=\"a6bf71cf-4739-47d6-9a68-2b5c096febe7\">remainder</label><div class=\"sk-toggleable__content\"><pre></pre></div></div></div><div class=\"sk-serial\"><div class=\"sk-item\"><div class=\"sk-estimator sk-toggleable\"><input class=\"sk-toggleable__control sk-hidden--visually\" id=\"2f5aab90-ed39-4682-8a52-519163848183\" type=\"checkbox\" ><label class=\"sk-toggleable__label\" for=\"2f5aab90-ed39-4682-8a52-519163848183\">passthrough</label><div class=\"sk-toggleable__content\"><pre>passthrough</pre></div></div></div></div></div></div></div></div></div></div>"
      ],
      "text/plain": [
       "ColumnTransformer(remainder='passthrough',\n",
       "                  transformers=[('onehotencoder', OneHotEncoder(sparse=False),\n",
       "                                 [1, 3, 2, 5]),\n",
       "                                ('powertransformer', PowerTransformer(),\n",
       "                                 [0, 6, 7, 8, 9, 10]),\n",
       "                                ('binarizer', Binarizer(), [4])])"
      ]
     },
     "execution_count": 21,
     "metadata": {},
     "output_type": "execute_result"
    }
   ],
   "source": [
    "from sklearn.preprocessing import OneHotEncoder , OrdinalEncoder,PowerTransformer,Binarizer\n",
    "from sklearn.compose import make_column_transformer\n",
    "from sklearn import set_config\n",
    "trans = make_column_transformer((OneHotEncoder(sparse = False),nom),\n",
    "                                #(OrdinalEncoder(),ordi),\n",
    "                                (PowerTransformer(),num),\n",
    "                                (Binarizer(),bina),\n",
    "                                 remainder = 'passthrough')\n",
    "set_config(display = 'diagram')\n",
    "trans"
   ]
  },
  {
   "cell_type": "code",
   "execution_count": 22,
   "id": "d1e4fa50",
   "metadata": {
    "execution": {
     "iopub.execute_input": "2022-04-07T08:38:17.724502Z",
     "iopub.status.busy": "2022-04-07T08:38:17.723947Z",
     "iopub.status.idle": "2022-04-07T08:38:17.760455Z",
     "shell.execute_reply": "2022-04-07T08:38:17.761065Z",
     "shell.execute_reply.started": "2022-04-07T08:29:33.944948Z"
    },
    "papermill": {
     "duration": 0.091711,
     "end_time": "2022-04-07T08:38:17.761243",
     "exception": false,
     "start_time": "2022-04-07T08:38:17.669532",
     "status": "completed"
    },
    "tags": []
   },
   "outputs": [],
   "source": [
    "from sklearn.model_selection import train_test_split\n",
    "x_train,x_test,y_train,y_test = train_test_split(x,y,test_size= 0.25)"
   ]
  },
  {
   "cell_type": "code",
   "execution_count": 23,
   "id": "e3b91b32",
   "metadata": {
    "execution": {
     "iopub.execute_input": "2022-04-07T08:38:17.866307Z",
     "iopub.status.busy": "2022-04-07T08:38:17.865378Z",
     "iopub.status.idle": "2022-04-07T08:38:18.017889Z",
     "shell.execute_reply": "2022-04-07T08:38:18.018631Z",
     "shell.execute_reply.started": "2022-04-07T08:29:43.039196Z"
    },
    "papermill": {
     "duration": 0.206551,
     "end_time": "2022-04-07T08:38:18.018901",
     "exception": false,
     "start_time": "2022-04-07T08:38:17.812350",
     "status": "completed"
    },
    "tags": []
   },
   "outputs": [
    {
     "name": "stderr",
     "output_type": "stream",
     "text": [
      "/opt/conda/lib/python3.7/site-packages/seaborn/_decorators.py:43: FutureWarning: Pass the following variable as a keyword arg: x. From version 0.12, the only valid positional argument will be `data`, and passing other arguments without an explicit keyword will result in an error or misinterpretation.\n",
      "  FutureWarning\n"
     ]
    },
    {
     "data": {
      "text/plain": [
       "<AxesSubplot:xlabel='Transported', ylabel='count'>"
      ]
     },
     "execution_count": 23,
     "metadata": {},
     "output_type": "execute_result"
    },
    {
     "data": {
      "image/png": "[encoded data removed]",
      "text/plain": [
       "<Figure size 432x288 with 1 Axes>"
      ]
     },
     "metadata": {
      "needs_background": "light"
     },
     "output_type": "display_data"
    }
   ],
   "source": [
    "import seaborn as sns\n",
    "sns.countplot(y)"
   ]
  },
  {
   "cell_type": "code",
   "execution_count": 24,
   "id": "337d7945",
   "metadata": {
    "execution": {
     "iopub.execute_input": "2022-04-07T08:38:18.133386Z",
     "iopub.status.busy": "2022-04-07T08:38:18.128430Z",
     "iopub.status.idle": "2022-04-07T08:38:18.136253Z",
     "shell.execute_reply": "2022-04-07T08:38:18.136713Z",
     "shell.execute_reply.started": "2022-04-07T08:29:56.881923Z"
    },
    "papermill": {
     "duration": 0.064116,
     "end_time": "2022-04-07T08:38:18.136890",
     "exception": false,
     "start_time": "2022-04-07T08:38:18.072774",
     "status": "completed"
    },
    "tags": []
   },
   "outputs": [
    {
     "data": {
      "text/plain": [
       "1    4378\n",
       "0    4315\n",
       "Name: Transported, dtype: int64"
      ]
     },
     "execution_count": 24,
     "metadata": {},
     "output_type": "execute_result"
    }
   ],
   "source": [
    "y.value_counts()"
   ]
  },
  {
   "cell_type": "code",
   "execution_count": 25,
   "id": "7215d7a8",
   "metadata": {
    "execution": {
     "iopub.execute_input": "2022-04-07T08:38:18.247101Z",
     "iopub.status.busy": "2022-04-07T08:38:18.246459Z",
     "iopub.status.idle": "2022-04-07T08:38:18.327012Z",
     "shell.execute_reply": "2022-04-07T08:38:18.326180Z",
     "shell.execute_reply.started": "2022-04-07T08:30:11.108601Z"
    },
    "papermill": {
     "duration": 0.137477,
     "end_time": "2022-04-07T08:38:18.327167",
     "exception": false,
     "start_time": "2022-04-07T08:38:18.189690",
     "status": "completed"
    },
    "tags": []
   },
   "outputs": [
    {
     "data": {
      "text/html": [
       "<style>#sk-94606cf4-661f-4370-b0b9-97e3c625c8b0 {color: black;background-color: white;}#sk-94606cf4-661f-4370-b0b9-97e3c625c8b0 pre{padding: 0;}#sk-94606cf4-661f-4370-b0b9-97e3c625c8b0 div.sk-toggleable {background-color: white;}#sk-94606cf4-661f-4370-b0b9-97e3c625c8b0 label.sk-toggleable__label {cursor: pointer;display: block;width: 100%;margin-bottom: 0;padding: 0.3em;box-sizing: border-box;text-align: center;}#sk-94606cf4-661f-4370-b0b9-97e3c625c8b0 div.sk-toggleable__content {max-height: 0;max-width: 0;overflow: hidden;text-align: left;background-color: #f0f8ff;}#sk-94606cf4-661f-4370-b0b9-97e3c625c8b0 div.sk-toggleable__content pre {margin: 0.2em;color: black;border-radius: 0.25em;background-color: #f0f8ff;}#sk-94606cf4-661f-4370-b0b9-97e3c625c8b0 input.sk-toggleable__control:checked~div.sk-toggleable__content {max-height: 200px;max-width: 100%;overflow: auto;}#sk-94606cf4-661f-4370-b0b9-97e3c625c8b0 div.sk-estimator input.sk-toggleable__control:checked~label.sk-toggleable__label {background-color: #d4ebff;}#sk-94606cf4-661f-4370-b0b9-97e3c625c8b0 div.sk-label input.sk-toggleable__control:checked~label.sk-toggleable__label {background-color: #d4ebff;}#sk-94606cf4-661f-4370-b0b9-97e3c625c8b0 input.sk-hidden--visually {border: 0;clip: rect(1px 1px 1px 1px);clip: rect(1px, 1px, 1px, 1px);height: 1px;margin: -1px;overflow: hidden;padding: 0;position: absolute;width: 1px;}#sk-94606cf4-661f-4370-b0b9-97e3c625c8b0 div.sk-estimator {font-family: monospace;background-color: #f0f8ff;border: 1px dotted black;border-radius: 0.25em;box-sizing: border-box;margin-bottom: 0.5em;}#sk-94606cf4-661f-4370-b0b9-97e3c625c8b0 div.sk-estimator:hover {background-color: #d4ebff;}#sk-94606cf4-661f-4370-b0b9-97e3c625c8b0 div.sk-parallel-item::after {content: \"\";width: 100%;border-bottom: 1px solid gray;flex-grow: 1;}#sk-94606cf4-661f-4370-b0b9-97e3c625c8b0 div.sk-label:hover label.sk-toggleable__label {background-color: #d4ebff;}#sk-94606cf4-661f-4370-b0b9-97e3c625c8b0 div.sk-serial::before {content: \"\";position: absolute;border-left: 1px solid gray;box-sizing: border-box;top: 2em;bottom: 0;left: 50%;}#sk-94606cf4-661f-4370-b0b9-97e3c625c8b0 div.sk-serial {display: flex;flex-direction: column;align-items: center;background-color: white;padding-right: 0.2em;padding-left: 0.2em;}#sk-94606cf4-661f-4370-b0b9-97e3c625c8b0 div.sk-item {z-index: 1;}#sk-94606cf4-661f-4370-b0b9-97e3c625c8b0 div.sk-parallel {display: flex;align-items: stretch;justify-content: center;background-color: white;}#sk-94606cf4-661f-4370-b0b9-97e3c625c8b0 div.sk-parallel::before {content: \"\";position: absolute;border-left: 1px solid gray;box-sizing: border-box;top: 2em;bottom: 0;left: 50%;}#sk-94606cf4-661f-4370-b0b9-97e3c625c8b0 div.sk-parallel-item {display: flex;flex-direction: column;position: relative;background-color: white;}#sk-94606cf4-661f-4370-b0b9-97e3c625c8b0 div.sk-parallel-item:first-child::after {align-self: flex-end;width: 50%;}#sk-94606cf4-661f-4370-b0b9-97e3c625c8b0 div.sk-parallel-item:last-child::after {align-self: flex-start;width: 50%;}#sk-94606cf4-661f-4370-b0b9-97e3c625c8b0 div.sk-parallel-item:only-child::after {width: 0;}#sk-94606cf4-661f-4370-b0b9-97e3c625c8b0 div.sk-dashed-wrapped {border: 1px dashed gray;margin: 0 0.4em 0.5em 0.4em;box-sizing: border-box;padding-bottom: 0.4em;background-color: white;position: relative;}#sk-94606cf4-661f-4370-b0b9-97e3c625c8b0 div.sk-label label {font-family: monospace;font-weight: bold;background-color: white;display: inline-block;line-height: 1.2em;}#sk-94606cf4-661f-4370-b0b9-97e3c625c8b0 div.sk-label-container {position: relative;z-index: 2;text-align: center;}#sk-94606cf4-661f-4370-b0b9-97e3c625c8b0 div.sk-container {display: inline-block;position: relative;}</style><div id=\"sk-94606cf4-661f-4370-b0b9-97e3c625c8b0\" class\"sk-top-container\"><div class=\"sk-container\"><div class=\"sk-item sk-dashed-wrapped\"><div class=\"sk-label-container\"><div class=\"sk-label sk-toggleable\"><input class=\"sk-toggleable__control sk-hidden--visually\" id=\"7949c383-78de-4587-9e78-613588e79d9d\" type=\"checkbox\" ><label class=\"sk-toggleable__label\" for=\"7949c383-78de-4587-9e78-613588e79d9d\">Pipeline</label><div class=\"sk-toggleable__content\"><pre>Pipeline(steps=[('columntransformer',\n",
       "                 ColumnTransformer(remainder='passthrough',\n",
       "                                   transformers=[('onehotencoder',\n",
       "                                                  OneHotEncoder(sparse=False),\n",
       "                                                  [1, 3, 2, 5]),\n",
       "                                                 ('powertransformer',\n",
       "                                                  PowerTransformer(),\n",
       "                                                  [0, 6, 7, 8, 9, 10]),\n",
       "                                                 ('binarizer', Binarizer(),\n",
       "                                                  [4])])),\n",
       "                ('logisticregression', LogisticRegression(solver='liblinear'))])</pre></div></div></div><div class=\"sk-serial\"><div class=\"sk-item sk-dashed-wrapped\"><div class=\"sk-label-container\"><div class=\"sk-label sk-toggleable\"><input class=\"sk-toggleable__control sk-hidden--visually\" id=\"5f04c533-0416-443e-91e3-2a8b4c1eec74\" type=\"checkbox\" ><label class=\"sk-toggleable__label\" for=\"5f04c533-0416-443e-91e3-2a8b4c1eec74\">columntransformer: ColumnTransformer</label><div class=\"sk-toggleable__content\"><pre>ColumnTransformer(remainder='passthrough',\n",
       "                  transformers=[('onehotencoder', OneHotEncoder(sparse=False),\n",
       "                                 [1, 3, 2, 5]),\n",
       "                                ('powertransformer', PowerTransformer(),\n",
       "                                 [0, 6, 7, 8, 9, 10]),\n",
       "                                ('binarizer', Binarizer(), [4])])</pre></div></div></div><div class=\"sk-parallel\"><div class=\"sk-parallel-item\"><div class=\"sk-item\"><div class=\"sk-label-container\"><div class=\"sk-label sk-toggleable\"><input class=\"sk-toggleable__control sk-hidden--visually\" id=\"05457740-6e86-44af-86d6-298fa4fbbf33\" type=\"checkbox\" ><label class=\"sk-toggleable__label\" for=\"05457740-6e86-44af-86d6-298fa4fbbf33\">onehotencoder</label><div class=\"sk-toggleable__content\"><pre>[1, 3, 2, 5]</pre></div></div></div><div class=\"sk-serial\"><div class=\"sk-item\"><div class=\"sk-estimator sk-toggleable\"><input class=\"sk-toggleable__control sk-hidden--visually\" id=\"47c767dc-980d-4701-b040-b256cd70e255\" type=\"checkbox\" ><label class=\"sk-toggleable__label\" for=\"47c767dc-980d-4701-b040-b256cd70e255\">OneHotEncoder</label><div class=\"sk-toggleable__content\"><pre>OneHotEncoder(sparse=False)</pre></div></div></div></div></div></div><div class=\"sk-parallel-item\"><div class=\"sk-item\"><div class=\"sk-label-container\"><div class=\"sk-label sk-toggleable\"><input class=\"sk-toggleable__control sk-hidden--visually\" id=\"41d1f40f-28ea-4cb1-8022-a30522f93a2a\" type=\"checkbox\" ><label class=\"sk-toggleable__label\" for=\"41d1f40f-28ea-4cb1-8022-a30522f93a2a\">powertransformer</label><div class=\"sk-toggleable__content\"><pre>[0, 6, 7, 8, 9, 10]</pre></div></div></div><div class=\"sk-serial\"><div class=\"sk-item\"><div class=\"sk-estimator sk-toggleable\"><input class=\"sk-toggleable__control sk-hidden--visually\" id=\"f9cadd7b-3330-4dd0-a645-5e4772e88798\" type=\"checkbox\" ><label class=\"sk-toggleable__label\" for=\"f9cadd7b-3330-4dd0-a645-5e4772e88798\">PowerTransformer</label><div class=\"sk-toggleable__content\"><pre>PowerTransformer()</pre></div></div></div></div></div></div><div class=\"sk-parallel-item\"><div class=\"sk-item\"><div class=\"sk-label-container\"><div class=\"sk-label sk-toggleable\"><input class=\"sk-toggleable__control sk-hidden--visually\" id=\"f68f3bb8-5ea5-43e8-89e9-de23fd2bcdd7\" type=\"checkbox\" ><label class=\"sk-toggleable__label\" for=\"f68f3bb8-5ea5-43e8-89e9-de23fd2bcdd7\">binarizer</label><div class=\"sk-toggleable__content\"><pre>[4]</pre></div></div></div><div class=\"sk-serial\"><div class=\"sk-item\"><div class=\"sk-estimator sk-toggleable\"><input class=\"sk-toggleable__control sk-hidden--visually\" id=\"c8a3bad3-a3fe-4c7b-8b0a-39272471f50e\" type=\"checkbox\" ><label class=\"sk-toggleable__label\" for=\"c8a3bad3-a3fe-4c7b-8b0a-39272471f50e\">Binarizer</label><div class=\"sk-toggleable__content\"><pre>Binarizer()</pre></div></div></div></div></div></div><div class=\"sk-parallel-item\"><div class=\"sk-item\"><div class=\"sk-label-container\"><div class=\"sk-label sk-toggleable\"><input class=\"sk-toggleable__control sk-hidden--visually\" id=\"68853f99-0101-4082-be47-40afa5e7bda0\" type=\"checkbox\" ><label class=\"sk-toggleable__label\" for=\"68853f99-0101-4082-be47-40afa5e7bda0\">remainder</label><div class=\"sk-toggleable__content\"><pre></pre></div></div></div><div class=\"sk-serial\"><div class=\"sk-item\"><div class=\"sk-estimator sk-toggleable\"><input class=\"sk-toggleable__control sk-hidden--visually\" id=\"802c3d8c-a6b4-4637-bf92-3887f10abff8\" type=\"checkbox\" ><label class=\"sk-toggleable__label\" for=\"802c3d8c-a6b4-4637-bf92-3887f10abff8\">passthrough</label><div class=\"sk-toggleable__content\"><pre>passthrough</pre></div></div></div></div></div></div></div></div><div class=\"sk-item\"><div class=\"sk-estimator sk-toggleable\"><input class=\"sk-toggleable__control sk-hidden--visually\" id=\"cfeff0b1-0cb1-4be7-984f-7377d73ac646\" type=\"checkbox\" ><label class=\"sk-toggleable__label\" for=\"cfeff0b1-0cb1-4be7-984f-7377d73ac646\">LogisticRegression</label><div class=\"sk-toggleable__content\"><pre>LogisticRegression(solver='liblinear')</pre></div></div></div></div></div></div></div>"
      ],
      "text/plain": [
       "Pipeline(steps=[('columntransformer',\n",
       "                 ColumnTransformer(remainder='passthrough',\n",
       "                                   transformers=[('onehotencoder',\n",
       "                                                  OneHotEncoder(sparse=False),\n",
       "                                                  [1, 3, 2, 5]),\n",
       "                                                 ('powertransformer',\n",
       "                                                  PowerTransformer(),\n",
       "                                                  [0, 6, 7, 8, 9, 10]),\n",
       "                                                 ('binarizer', Binarizer(),\n",
       "                                                  [4])])),\n",
       "                ('logisticregression', LogisticRegression(solver='liblinear'))])"
      ]
     },
     "execution_count": 25,
     "metadata": {},
     "output_type": "execute_result"
    }
   ],
   "source": [
    "from sklearn.linear_model import LogisticRegression\n",
    "from sklearn.pipeline import make_pipeline\n",
    "lr = LogisticRegression(solver = 'liblinear')\n",
    "pipe = make_pipeline(trans,lr)\n",
    "pipe"
   ]
  },
  {
   "cell_type": "code",
   "execution_count": 26,
   "id": "bc28971e",
   "metadata": {
    "execution": {
     "iopub.execute_input": "2022-04-07T08:38:18.435264Z",
     "iopub.status.busy": "2022-04-07T08:38:18.434400Z",
     "iopub.status.idle": "2022-04-07T08:38:18.544037Z",
     "shell.execute_reply": "2022-04-07T08:38:18.544473Z",
     "shell.execute_reply.started": "2022-04-07T08:30:23.004760Z"
    },
    "papermill": {
     "duration": 0.165021,
     "end_time": "2022-04-07T08:38:18.544641",
     "exception": false,
     "start_time": "2022-04-07T08:38:18.379620",
     "status": "completed"
    },
    "tags": []
   },
   "outputs": [
    {
     "data": {
      "text/html": [
       "<style>#sk-1555ad30-19cd-4898-b946-d7273b7854f6 {color: black;background-color: white;}#sk-1555ad30-19cd-4898-b946-d7273b7854f6 pre{padding: 0;}#sk-1555ad30-19cd-4898-b946-d7273b7854f6 div.sk-toggleable {background-color: white;}#sk-1555ad30-19cd-4898-b946-d7273b7854f6 label.sk-toggleable__label {cursor: pointer;display: block;width: 100%;margin-bottom: 0;padding: 0.3em;box-sizing: border-box;text-align: center;}#sk-1555ad30-19cd-4898-b946-d7273b7854f6 div.sk-toggleable__content {max-height: 0;max-width: 0;overflow: hidden;text-align: left;background-color: #f0f8ff;}#sk-1555ad30-19cd-4898-b946-d7273b7854f6 div.sk-toggleable__content pre {margin: 0.2em;color: black;border-radius: 0.25em;background-color: #f0f8ff;}#sk-1555ad30-19cd-4898-b946-d7273b7854f6 input.sk-toggleable__control:checked~div.sk-toggleable__content {max-height: 200px;max-width: 100%;overflow: auto;}#sk-1555ad30-19cd-4898-b946-d7273b7854f6 div.sk-estimator input.sk-toggleable__control:checked~label.sk-toggleable__label {background-color: #d4ebff;}#sk-1555ad30-19cd-4898-b946-d7273b7854f6 div.sk-label input.sk-toggleable__control:checked~label.sk-toggleable__label {background-color: #d4ebff;}#sk-1555ad30-19cd-4898-b946-d7273b7854f6 input.sk-hidden--visually {border: 0;clip: rect(1px 1px 1px 1px);clip: rect(1px, 1px, 1px, 1px);height: 1px;margin: -1px;overflow: hidden;padding: 0;position: absolute;width: 1px;}#sk-1555ad30-19cd-4898-b946-d7273b7854f6 div.sk-estimator {font-family: monospace;background-color: #f0f8ff;border: 1px dotted black;border-radius: 0.25em;box-sizing: border-box;margin-bottom: 0.5em;}#sk-1555ad30-19cd-4898-b946-d7273b7854f6 div.sk-estimator:hover {background-color: #d4ebff;}#sk-1555ad30-19cd-4898-b946-d7273b7854f6 div.sk-parallel-item::after {content: \"\";width: 100%;border-bottom: 1px solid gray;flex-grow: 1;}#sk-1555ad30-19cd-4898-b946-d7273b7854f6 div.sk-label:hover label.sk-toggleable__label {background-color: #d4ebff;}#sk-1555ad30-19cd-4898-b946-d7273b7854f6 div.sk-serial::before {content: \"\";position: absolute;border-left: 1px solid gray;box-sizing: border-box;top: 2em;bottom: 0;left: 50%;}#sk-1555ad30-19cd-4898-b946-d7273b7854f6 div.sk-serial {display: flex;flex-direction: column;align-items: center;background-color: white;padding-right: 0.2em;padding-left: 0.2em;}#sk-1555ad30-19cd-4898-b946-d7273b7854f6 div.sk-item {z-index: 1;}#sk-1555ad30-19cd-4898-b946-d7273b7854f6 div.sk-parallel {display: flex;align-items: stretch;justify-content: center;background-color: white;}#sk-1555ad30-19cd-4898-b946-d7273b7854f6 div.sk-parallel::before {content: \"\";position: absolute;border-left: 1px solid gray;box-sizing: border-box;top: 2em;bottom: 0;left: 50%;}#sk-1555ad30-19cd-4898-b946-d7273b7854f6 div.sk-parallel-item {display: flex;flex-direction: column;position: relative;background-color: white;}#sk-1555ad30-19cd-4898-b946-d7273b7854f6 div.sk-parallel-item:first-child::after {align-self: flex-end;width: 50%;}#sk-1555ad30-19cd-4898-b946-d7273b7854f6 div.sk-parallel-item:last-child::after {align-self: flex-start;width: 50%;}#sk-1555ad30-19cd-4898-b946-d7273b7854f6 div.sk-parallel-item:only-child::after {width: 0;}#sk-1555ad30-19cd-4898-b946-d7273b7854f6 div.sk-dashed-wrapped {border: 1px dashed gray;margin: 0 0.4em 0.5em 0.4em;box-sizing: border-box;padding-bottom: 0.4em;background-color: white;position: relative;}#sk-1555ad30-19cd-4898-b946-d7273b7854f6 div.sk-label label {font-family: monospace;font-weight: bold;background-color: white;display: inline-block;line-height: 1.2em;}#sk-1555ad30-19cd-4898-b946-d7273b7854f6 div.sk-label-container {position: relative;z-index: 2;text-align: center;}#sk-1555ad30-19cd-4898-b946-d7273b7854f6 div.sk-container {display: inline-block;position: relative;}</style><div id=\"sk-1555ad30-19cd-4898-b946-d7273b7854f6\" class\"sk-top-container\"><div class=\"sk-container\"><div class=\"sk-item sk-dashed-wrapped\"><div class=\"sk-label-container\"><div class=\"sk-label sk-toggleable\"><input class=\"sk-toggleable__control sk-hidden--visually\" id=\"e1d178ee-1d43-463c-bb15-3447489fcc45\" type=\"checkbox\" ><label class=\"sk-toggleable__label\" for=\"e1d178ee-1d43-463c-bb15-3447489fcc45\">Pipeline</label><div class=\"sk-toggleable__content\"><pre>Pipeline(steps=[('columntransformer',\n",
       "                 ColumnTransformer(remainder='passthrough',\n",
       "                                   transformers=[('onehotencoder',\n",
       "                                                  OneHotEncoder(sparse=False),\n",
       "                                                  [1, 3, 2, 5]),\n",
       "                                                 ('powertransformer',\n",
       "                                                  PowerTransformer(),\n",
       "                                                  [0, 6, 7, 8, 9, 10]),\n",
       "                                                 ('binarizer', Binarizer(),\n",
       "                                                  [4])])),\n",
       "                ('logisticregression', LogisticRegression(solver='liblinear'))])</pre></div></div></div><div class=\"sk-serial\"><div class=\"sk-item sk-dashed-wrapped\"><div class=\"sk-label-container\"><div class=\"sk-label sk-toggleable\"><input class=\"sk-toggleable__control sk-hidden--visually\" id=\"96014aed-6d73-41c3-8b66-2430ca0248db\" type=\"checkbox\" ><label class=\"sk-toggleable__label\" for=\"96014aed-6d73-41c3-8b66-2430ca0248db\">columntransformer: ColumnTransformer</label><div class=\"sk-toggleable__content\"><pre>ColumnTransformer(remainder='passthrough',\n",
       "                  transformers=[('onehotencoder', OneHotEncoder(sparse=False),\n",
       "                                 [1, 3, 2, 5]),\n",
       "                                ('powertransformer', PowerTransformer(),\n",
       "                                 [0, 6, 7, 8, 9, 10]),\n",
       "                                ('binarizer', Binarizer(), [4])])</pre></div></div></div><div class=\"sk-parallel\"><div class=\"sk-parallel-item\"><div class=\"sk-item\"><div class=\"sk-label-container\"><div class=\"sk-label sk-toggleable\"><input class=\"sk-toggleable__control sk-hidden--visually\" id=\"4dd93f48-6e0f-45c8-bddd-a7953d5009e1\" type=\"checkbox\" ><label class=\"sk-toggleable__label\" for=\"4dd93f48-6e0f-45c8-bddd-a7953d5009e1\">onehotencoder</label><div class=\"sk-toggleable__content\"><pre>[1, 3, 2, 5]</pre></div></div></div><div class=\"sk-serial\"><div class=\"sk-item\"><div class=\"sk-estimator sk-toggleable\"><input class=\"sk-toggleable__control sk-hidden--visually\" id=\"d15db333-8bb8-490a-837c-6855b06cc258\" type=\"checkbox\" ><label class=\"sk-toggleable__label\" for=\"d15db333-8bb8-490a-837c-6855b06cc258\">OneHotEncoder</label><div class=\"sk-toggleable__content\"><pre>OneHotEncoder(sparse=False)</pre></div></div></div></div></div></div><div class=\"sk-parallel-item\"><div class=\"sk-item\"><div class=\"sk-label-container\"><div class=\"sk-label sk-toggleable\"><input class=\"sk-toggleable__control sk-hidden--visually\" id=\"8d8defa8-4254-40cb-befb-92eb1e5654aa\" type=\"checkbox\" ><label class=\"sk-toggleable__label\" for=\"8d8defa8-4254-40cb-befb-92eb1e5654aa\">powertransformer</label><div class=\"sk-toggleable__content\"><pre>[0, 6, 7, 8, 9, 10]</pre></div></div></div><div class=\"sk-serial\"><div class=\"sk-item\"><div class=\"sk-estimator sk-toggleable\"><input class=\"sk-toggleable__control sk-hidden--visually\" id=\"b47244df-6415-4090-a6f0-b434d634951e\" type=\"checkbox\" ><label class=\"sk-toggleable__label\" for=\"b47244df-6415-4090-a6f0-b434d634951e\">PowerTransformer</label><div class=\"sk-toggleable__content\"><pre>PowerTransformer()</pre></div></div></div></div></div></div><div class=\"sk-parallel-item\"><div class=\"sk-item\"><div class=\"sk-label-container\"><div class=\"sk-label sk-toggleable\"><input class=\"sk-toggleable__control sk-hidden--visually\" id=\"dc534768-3d30-4127-a5b4-8356105c4565\" type=\"checkbox\" ><label class=\"sk-toggleable__label\" for=\"dc534768-3d30-4127-a5b4-8356105c4565\">binarizer</label><div class=\"sk-toggleable__content\"><pre>[4]</pre></div></div></div><div class=\"sk-serial\"><div class=\"sk-item\"><div class=\"sk-estimator sk-toggleable\"><input class=\"sk-toggleable__control sk-hidden--visually\" id=\"a163efc2-7f9c-4831-bf9e-266fbee65a3d\" type=\"checkbox\" ><label class=\"sk-toggleable__label\" for=\"a163efc2-7f9c-4831-bf9e-266fbee65a3d\">Binarizer</label><div class=\"sk-toggleable__content\"><pre>Binarizer()</pre></div></div></div></div></div></div><div class=\"sk-parallel-item\"><div class=\"sk-item\"><div class=\"sk-label-container\"><div class=\"sk-label sk-toggleable\"><input class=\"sk-toggleable__control sk-hidden--visually\" id=\"45c64d14-2363-4f01-8f3b-2b202fe4fe90\" type=\"checkbox\" ><label class=\"sk-toggleable__label\" for=\"45c64d14-2363-4f01-8f3b-2b202fe4fe90\">remainder</label><div class=\"sk-toggleable__content\"><pre>[]</pre></div></div></div><div class=\"sk-serial\"><div class=\"sk-item\"><div class=\"sk-estimator sk-toggleable\"><input class=\"sk-toggleable__control sk-hidden--visually\" id=\"fb37c641-0a2f-40b1-8043-c0bad6d124be\" type=\"checkbox\" ><label class=\"sk-toggleable__label\" for=\"fb37c641-0a2f-40b1-8043-c0bad6d124be\">passthrough</label><div class=\"sk-toggleable__content\"><pre>passthrough</pre></div></div></div></div></div></div></div></div><div class=\"sk-item\"><div class=\"sk-estimator sk-toggleable\"><input class=\"sk-toggleable__control sk-hidden--visually\" id=\"64d9a31d-610f-4e74-8d6c-79a7f82cc902\" type=\"checkbox\" ><label class=\"sk-toggleable__label\" for=\"64d9a31d-610f-4e74-8d6c-79a7f82cc902\">LogisticRegression</label><div class=\"sk-toggleable__content\"><pre>LogisticRegression(solver='liblinear')</pre></div></div></div></div></div></div></div>"
      ],
      "text/plain": [
       "Pipeline(steps=[('columntransformer',\n",
       "                 ColumnTransformer(remainder='passthrough',\n",
       "                                   transformers=[('onehotencoder',\n",
       "                                                  OneHotEncoder(sparse=False),\n",
       "                                                  [1, 3, 2, 5]),\n",
       "                                                 ('powertransformer',\n",
       "                                                  PowerTransformer(),\n",
       "                                                  [0, 6, 7, 8, 9, 10]),\n",
       "                                                 ('binarizer', Binarizer(),\n",
       "                                                  [4])])),\n",
       "                ('logisticregression', LogisticRegression(solver='liblinear'))])"
      ]
     },
     "execution_count": 26,
     "metadata": {},
     "output_type": "execute_result"
    }
   ],
   "source": [
    "pipe.fit(x_train,y_train)"
   ]
  },
  {
   "cell_type": "code",
   "execution_count": 27,
   "id": "a7ea574e",
   "metadata": {
    "execution": {
     "iopub.execute_input": "2022-04-07T08:38:18.652618Z",
     "iopub.status.busy": "2022-04-07T08:38:18.651776Z",
     "iopub.status.idle": "2022-04-07T08:38:18.674963Z",
     "shell.execute_reply": "2022-04-07T08:38:18.675884Z",
     "shell.execute_reply.started": "2022-04-07T08:30:31.999319Z"
    },
    "papermill": {
     "duration": 0.079099,
     "end_time": "2022-04-07T08:38:18.676135",
     "exception": false,
     "start_time": "2022-04-07T08:38:18.597036",
     "status": "completed"
    },
    "tags": []
   },
   "outputs": [
    {
     "data": {
      "text/plain": [
       "array([0, 0, 1, ..., 1, 1, 0])"
      ]
     },
     "execution_count": 27,
     "metadata": {},
     "output_type": "execute_result"
    }
   ],
   "source": [
    "pred = pipe.predict(x_test)\n",
    "pred"
   ]
  },
  {
   "cell_type": "code",
   "execution_count": 28,
   "id": "1ba2a43f",
   "metadata": {
    "execution": {
     "iopub.execute_input": "2022-04-07T08:38:18.841670Z",
     "iopub.status.busy": "2022-04-07T08:38:18.841083Z",
     "iopub.status.idle": "2022-04-07T08:38:18.845394Z",
     "shell.execute_reply": "2022-04-07T08:38:18.845802Z",
     "shell.execute_reply.started": "2022-04-07T08:30:43.500523Z"
    },
    "papermill": {
     "duration": 0.063171,
     "end_time": "2022-04-07T08:38:18.845958",
     "exception": false,
     "start_time": "2022-04-07T08:38:18.782787",
     "status": "completed"
    },
    "tags": []
   },
   "outputs": [
    {
     "data": {
      "text/plain": [
       "75.89696412143513"
      ]
     },
     "execution_count": 28,
     "metadata": {},
     "output_type": "execute_result"
    }
   ],
   "source": [
    "from sklearn.metrics import accuracy_score\n",
    "accuracy_score(pred,y_test)*100"
   ]
  },
  {
   "cell_type": "code",
   "execution_count": 29,
   "id": "5a10ee99",
   "metadata": {
    "execution": {
     "iopub.execute_input": "2022-04-07T08:38:18.955157Z",
     "iopub.status.busy": "2022-04-07T08:38:18.954584Z",
     "iopub.status.idle": "2022-04-07T08:38:19.180638Z",
     "shell.execute_reply": "2022-04-07T08:38:19.180185Z",
     "shell.execute_reply.started": "2022-04-07T08:30:52.764635Z"
    },
    "papermill": {
     "duration": 0.281967,
     "end_time": "2022-04-07T08:38:19.180799",
     "exception": false,
     "start_time": "2022-04-07T08:38:18.898832",
     "status": "completed"
    },
    "tags": []
   },
   "outputs": [
    {
     "name": "stderr",
     "output_type": "stream",
     "text": [
      "/opt/conda/lib/python3.7/site-packages/sklearn/utils/deprecation.py:87: FutureWarning: Function plot_confusion_matrix is deprecated; Function `plot_confusion_matrix` is deprecated in 1.0 and will be removed in 1.2. Use one of the class methods: ConfusionMatrixDisplay.from_predictions or ConfusionMatrixDisplay.from_estimator.\n",
      "  warnings.warn(msg, category=FutureWarning)\n"
     ]
    },
    {
     "data": {
      "text/plain": [
       "<sklearn.metrics._plot.confusion_matrix.ConfusionMatrixDisplay at 0x7fd4e03ac690>"
      ]
     },
     "execution_count": 29,
     "metadata": {},
     "output_type": "execute_result"
    },
    {
     "data": {
      "image/png": "[encoded data removed]",
      "text/plain": [
       "<Figure size 432x288 with 2 Axes>"
      ]
     },
     "metadata": {
      "needs_background": "light"
     },
     "output_type": "display_data"
    }
   ],
   "source": [
    "from sklearn.metrics import plot_confusion_matrix\n",
    "plot_confusion_matrix(pipe,x_test,y_test)"
   ]
  },
  {
   "cell_type": "code",
   "execution_count": 30,
   "id": "4b41314e",
   "metadata": {
    "execution": {
     "iopub.execute_input": "2022-04-07T08:38:19.293436Z",
     "iopub.status.busy": "2022-04-07T08:38:19.292542Z",
     "iopub.status.idle": "2022-04-07T08:38:19.543093Z",
     "shell.execute_reply": "2022-04-07T08:38:19.542630Z",
     "shell.execute_reply.started": "2022-04-07T08:31:04.936899Z"
    },
    "papermill": {
     "duration": 0.307603,
     "end_time": "2022-04-07T08:38:19.543235",
     "exception": false,
     "start_time": "2022-04-07T08:38:19.235632",
     "status": "completed"
    },
    "tags": []
   },
   "outputs": [
    {
     "data": {
      "text/plain": [
       "0    4378\n",
       "1    4378\n",
       "Name: Transported, dtype: int64"
      ]
     },
     "execution_count": 30,
     "metadata": {},
     "output_type": "execute_result"
    }
   ],
   "source": [
    "from imblearn.over_sampling import RandomOverSampler,SMOTE\n",
    "Over =RandomOverSampler()\n",
    "o_x,o_y=Over.fit_resample(x,y)\n",
    "o_y.value_counts()"
   ]
  },
  {
   "cell_type": "code",
   "execution_count": 31,
   "id": "98cefa71",
   "metadata": {
    "execution": {
     "iopub.execute_input": "2022-04-07T08:38:19.658473Z",
     "iopub.status.busy": "2022-04-07T08:38:19.657571Z",
     "iopub.status.idle": "2022-04-07T08:38:19.659689Z",
     "shell.execute_reply": "2022-04-07T08:38:19.660130Z",
     "shell.execute_reply.started": "2022-04-07T08:31:13.916194Z"
    },
    "papermill": {
     "duration": 0.06208,
     "end_time": "2022-04-07T08:38:19.660290",
     "exception": false,
     "start_time": "2022-04-07T08:38:19.598210",
     "status": "completed"
    },
    "tags": []
   },
   "outputs": [],
   "source": [
    "from imblearn.pipeline import make_pipeline\n",
    "S = SMOTE()\n",
    "pipe_s = make_pipeline(trans,S,lr)"
   ]
  },
  {
   "cell_type": "code",
   "execution_count": 32,
   "id": "8502d8df",
   "metadata": {
    "execution": {
     "iopub.execute_input": "2022-04-07T08:38:19.772816Z",
     "iopub.status.busy": "2022-04-07T08:38:19.771936Z",
     "iopub.status.idle": "2022-04-07T08:38:20.192068Z",
     "shell.execute_reply": "2022-04-07T08:38:20.192505Z",
     "shell.execute_reply.started": "2022-04-07T08:31:24.148293Z"
    },
    "papermill": {
     "duration": 0.477836,
     "end_time": "2022-04-07T08:38:20.192663",
     "exception": false,
     "start_time": "2022-04-07T08:38:19.714827",
     "status": "completed"
    },
    "tags": []
   },
   "outputs": [
    {
     "data": {
      "text/html": [
       "<style>#sk-955f1534-d880-493c-827e-a09dfb9eeb47 {color: black;background-color: white;}#sk-955f1534-d880-493c-827e-a09dfb9eeb47 pre{padding: 0;}#sk-955f1534-d880-493c-827e-a09dfb9eeb47 div.sk-toggleable {background-color: white;}#sk-955f1534-d880-493c-827e-a09dfb9eeb47 label.sk-toggleable__label {cursor: pointer;display: block;width: 100%;margin-bottom: 0;padding: 0.3em;box-sizing: border-box;text-align: center;}#sk-955f1534-d880-493c-827e-a09dfb9eeb47 div.sk-toggleable__content {max-height: 0;max-width: 0;overflow: hidden;text-align: left;background-color: #f0f8ff;}#sk-955f1534-d880-493c-827e-a09dfb9eeb47 div.sk-toggleable__content pre {margin: 0.2em;color: black;border-radius: 0.25em;background-color: #f0f8ff;}#sk-955f1534-d880-493c-827e-a09dfb9eeb47 input.sk-toggleable__control:checked~div.sk-toggleable__content {max-height: 200px;max-width: 100%;overflow: auto;}#sk-955f1534-d880-493c-827e-a09dfb9eeb47 div.sk-estimator input.sk-toggleable__control:checked~label.sk-toggleable__label {background-color: #d4ebff;}#sk-955f1534-d880-493c-827e-a09dfb9eeb47 div.sk-label input.sk-toggleable__control:checked~label.sk-toggleable__label {background-color: #d4ebff;}#sk-955f1534-d880-493c-827e-a09dfb9eeb47 input.sk-hidden--visually {border: 0;clip: rect(1px 1px 1px 1px);clip: rect(1px, 1px, 1px, 1px);height: 1px;margin: -1px;overflow: hidden;padding: 0;position: absolute;width: 1px;}#sk-955f1534-d880-493c-827e-a09dfb9eeb47 div.sk-estimator {font-family: monospace;background-color: #f0f8ff;border: 1px dotted black;border-radius: 0.25em;box-sizing: border-box;margin-bottom: 0.5em;}#sk-955f1534-d880-493c-827e-a09dfb9eeb47 div.sk-estimator:hover {background-color: #d4ebff;}#sk-955f1534-d880-493c-827e-a09dfb9eeb47 div.sk-parallel-item::after {content: \"\";width: 100%;border-bottom: 1px solid gray;flex-grow: 1;}#sk-955f1534-d880-493c-827e-a09dfb9eeb47 div.sk-label:hover label.sk-toggleable__label {background-color: #d4ebff;}#sk-955f1534-d880-493c-827e-a09dfb9eeb47 div.sk-serial::before {content: \"\";position: absolute;border-left: 1px solid gray;box-sizing: border-box;top: 2em;bottom: 0;left: 50%;}#sk-955f1534-d880-493c-827e-a09dfb9eeb47 div.sk-serial {display: flex;flex-direction: column;align-items: center;background-color: white;padding-right: 0.2em;padding-left: 0.2em;}#sk-955f1534-d880-493c-827e-a09dfb9eeb47 div.sk-item {z-index: 1;}#sk-955f1534-d880-493c-827e-a09dfb9eeb47 div.sk-parallel {display: flex;align-items: stretch;justify-content: center;background-color: white;}#sk-955f1534-d880-493c-827e-a09dfb9eeb47 div.sk-parallel::before {content: \"\";position: absolute;border-left: 1px solid gray;box-sizing: border-box;top: 2em;bottom: 0;left: 50%;}#sk-955f1534-d880-493c-827e-a09dfb9eeb47 div.sk-parallel-item {display: flex;flex-direction: column;position: relative;background-color: white;}#sk-955f1534-d880-493c-827e-a09dfb9eeb47 div.sk-parallel-item:first-child::after {align-self: flex-end;width: 50%;}#sk-955f1534-d880-493c-827e-a09dfb9eeb47 div.sk-parallel-item:last-child::after {align-self: flex-start;width: 50%;}#sk-955f1534-d880-493c-827e-a09dfb9eeb47 div.sk-parallel-item:only-child::after {width: 0;}#sk-955f1534-d880-493c-827e-a09dfb9eeb47 div.sk-dashed-wrapped {border: 1px dashed gray;margin: 0 0.4em 0.5em 0.4em;box-sizing: border-box;padding-bottom: 0.4em;background-color: white;position: relative;}#sk-955f1534-d880-493c-827e-a09dfb9eeb47 div.sk-label label {font-family: monospace;font-weight: bold;background-color: white;display: inline-block;line-height: 1.2em;}#sk-955f1534-d880-493c-827e-a09dfb9eeb47 div.sk-label-container {position: relative;z-index: 2;text-align: center;}#sk-955f1534-d880-493c-827e-a09dfb9eeb47 div.sk-container {display: inline-block;position: relative;}</style><div id=\"sk-955f1534-d880-493c-827e-a09dfb9eeb47\" class\"sk-top-container\"><div class=\"sk-container\"><div class=\"sk-item sk-dashed-wrapped\"><div class=\"sk-label-container\"><div class=\"sk-label sk-toggleable\"><input class=\"sk-toggleable__control sk-hidden--visually\" id=\"2635a088-626f-4745-85f5-73076ba94272\" type=\"checkbox\" ><label class=\"sk-toggleable__label\" for=\"2635a088-626f-4745-85f5-73076ba94272\">Pipeline</label><div class=\"sk-toggleable__content\"><pre>Pipeline(steps=[('columntransformer',\n",
       "                 ColumnTransformer(remainder='passthrough',\n",
       "                                   transformers=[('onehotencoder',\n",
       "                                                  OneHotEncoder(sparse=False),\n",
       "                                                  [1, 3, 2, 5]),\n",
       "                                                 ('powertransformer',\n",
       "                                                  PowerTransformer(),\n",
       "                                                  [0, 6, 7, 8, 9, 10]),\n",
       "                                                 ('binarizer', Binarizer(),\n",
       "                                                  [4])])),\n",
       "                ('smote', SMOTE()),\n",
       "                ('logisticregression', LogisticRegression(solver='liblinear'))])</pre></div></div></div><div class=\"sk-serial\"><div class=\"sk-item sk-dashed-wrapped\"><div class=\"sk-label-container\"><div class=\"sk-label sk-toggleable\"><input class=\"sk-toggleable__control sk-hidden--visually\" id=\"ddfb7381-aed2-43e3-aff7-7dd86f5297ee\" type=\"checkbox\" ><label class=\"sk-toggleable__label\" for=\"ddfb7381-aed2-43e3-aff7-7dd86f5297ee\">columntransformer: ColumnTransformer</label><div class=\"sk-toggleable__content\"><pre>ColumnTransformer(remainder='passthrough',\n",
       "                  transformers=[('onehotencoder', OneHotEncoder(sparse=False),\n",
       "                                 [1, 3, 2, 5]),\n",
       "                                ('powertransformer', PowerTransformer(),\n",
       "                                 [0, 6, 7, 8, 9, 10]),\n",
       "                                ('binarizer', Binarizer(), [4])])</pre></div></div></div><div class=\"sk-parallel\"><div class=\"sk-parallel-item\"><div class=\"sk-item\"><div class=\"sk-label-container\"><div class=\"sk-label sk-toggleable\"><input class=\"sk-toggleable__control sk-hidden--visually\" id=\"ee44ca0c-00d7-485b-a6fb-8c9b673bc3f0\" type=\"checkbox\" ><label class=\"sk-toggleable__label\" for=\"ee44ca0c-00d7-485b-a6fb-8c9b673bc3f0\">onehotencoder</label><div class=\"sk-toggleable__content\"><pre>[1, 3, 2, 5]</pre></div></div></div><div class=\"sk-serial\"><div class=\"sk-item\"><div class=\"sk-estimator sk-toggleable\"><input class=\"sk-toggleable__control sk-hidden--visually\" id=\"81adbb03-4492-4137-b64f-d7cada48b43a\" type=\"checkbox\" ><label class=\"sk-toggleable__label\" for=\"81adbb03-4492-4137-b64f-d7cada48b43a\">OneHotEncoder</label><div class=\"sk-toggleable__content\"><pre>OneHotEncoder(sparse=False)</pre></div></div></div></div></div></div><div class=\"sk-parallel-item\"><div class=\"sk-item\"><div class=\"sk-label-container\"><div class=\"sk-label sk-toggleable\"><input class=\"sk-toggleable__control sk-hidden--visually\" id=\"d1775a56-1b60-4a88-ba9f-04eb8688ee8c\" type=\"checkbox\" ><label class=\"sk-toggleable__label\" for=\"d1775a56-1b60-4a88-ba9f-04eb8688ee8c\">powertransformer</label><div class=\"sk-toggleable__content\"><pre>[0, 6, 7, 8, 9, 10]</pre></div></div></div><div class=\"sk-serial\"><div class=\"sk-item\"><div class=\"sk-estimator sk-toggleable\"><input class=\"sk-toggleable__control sk-hidden--visually\" id=\"bd245491-59a3-4b3d-8cf2-97eb8499770a\" type=\"checkbox\" ><label class=\"sk-toggleable__label\" for=\"bd245491-59a3-4b3d-8cf2-97eb8499770a\">PowerTransformer</label><div class=\"sk-toggleable__content\"><pre>PowerTransformer()</pre></div></div></div></div></div></div><div class=\"sk-parallel-item\"><div class=\"sk-item\"><div class=\"sk-label-container\"><div class=\"sk-label sk-toggleable\"><input class=\"sk-toggleable__control sk-hidden--visually\" id=\"43d4df3e-e3ff-411f-80cd-27a8c9e2bc91\" type=\"checkbox\" ><label class=\"sk-toggleable__label\" for=\"43d4df3e-e3ff-411f-80cd-27a8c9e2bc91\">binarizer</label><div class=\"sk-toggleable__content\"><pre>[4]</pre></div></div></div><div class=\"sk-serial\"><div class=\"sk-item\"><div class=\"sk-estimator sk-toggleable\"><input class=\"sk-toggleable__control sk-hidden--visually\" id=\"e2cbcb46-15da-44c0-9cdd-f1acdf819c05\" type=\"checkbox\" ><label class=\"sk-toggleable__label\" for=\"e2cbcb46-15da-44c0-9cdd-f1acdf819c05\">Binarizer</label><div class=\"sk-toggleable__content\"><pre>Binarizer()</pre></div></div></div></div></div></div><div class=\"sk-parallel-item\"><div class=\"sk-item\"><div class=\"sk-label-container\"><div class=\"sk-label sk-toggleable\"><input class=\"sk-toggleable__control sk-hidden--visually\" id=\"d48d266d-8cc1-4898-93b1-7cf0a967db05\" type=\"checkbox\" ><label class=\"sk-toggleable__label\" for=\"d48d266d-8cc1-4898-93b1-7cf0a967db05\">remainder</label><div class=\"sk-toggleable__content\"><pre>[]</pre></div></div></div><div class=\"sk-serial\"><div class=\"sk-item\"><div class=\"sk-estimator sk-toggleable\"><input class=\"sk-toggleable__control sk-hidden--visually\" id=\"a4d50aa6-3b5c-41e1-9f5f-9e13ca4637ce\" type=\"checkbox\" ><label class=\"sk-toggleable__label\" for=\"a4d50aa6-3b5c-41e1-9f5f-9e13ca4637ce\">passthrough</label><div class=\"sk-toggleable__content\"><pre>passthrough</pre></div></div></div></div></div></div></div></div><div class=\"sk-item\"><div class=\"sk-estimator sk-toggleable\"><input class=\"sk-toggleable__control sk-hidden--visually\" id=\"84a82ac9-f98d-4d5f-89ad-6f2e77092afe\" type=\"checkbox\" ><label class=\"sk-toggleable__label\" for=\"84a82ac9-f98d-4d5f-89ad-6f2e77092afe\">SMOTE</label><div class=\"sk-toggleable__content\"><pre>SMOTE()</pre></div></div></div><div class=\"sk-item\"><div class=\"sk-estimator sk-toggleable\"><input class=\"sk-toggleable__control sk-hidden--visually\" id=\"9f5645d9-075c-4a8d-855c-9a84ea5efc0e\" type=\"checkbox\" ><label class=\"sk-toggleable__label\" for=\"9f5645d9-075c-4a8d-855c-9a84ea5efc0e\">LogisticRegression</label><div class=\"sk-toggleable__content\"><pre>LogisticRegression(solver='liblinear')</pre></div></div></div></div></div></div></div>"
      ],
      "text/plain": [
       "Pipeline(steps=[('columntransformer',\n",
       "                 ColumnTransformer(remainder='passthrough',\n",
       "                                   transformers=[('onehotencoder',\n",
       "                                                  OneHotEncoder(sparse=False),\n",
       "                                                  [1, 3, 2, 5]),\n",
       "                                                 ('powertransformer',\n",
       "                                                  PowerTransformer(),\n",
       "                                                  [0, 6, 7, 8, 9, 10]),\n",
       "                                                 ('binarizer', Binarizer(),\n",
       "                                                  [4])])),\n",
       "                ('smote', SMOTE()),\n",
       "                ('logisticregression', LogisticRegression(solver='liblinear'))])"
      ]
     },
     "execution_count": 32,
     "metadata": {},
     "output_type": "execute_result"
    }
   ],
   "source": [
    "pipe_s.fit(x_train,y_train)"
   ]
  },
  {
   "cell_type": "code",
   "execution_count": 33,
   "id": "a5d12585",
   "metadata": {
    "execution": {
     "iopub.execute_input": "2022-04-07T08:38:20.309864Z",
     "iopub.status.busy": "2022-04-07T08:38:20.308923Z",
     "iopub.status.idle": "2022-04-07T08:38:20.330810Z",
     "shell.execute_reply": "2022-04-07T08:38:20.331511Z",
     "shell.execute_reply.started": "2022-04-07T08:31:33.234073Z"
    },
    "papermill": {
     "duration": 0.083008,
     "end_time": "2022-04-07T08:38:20.331807",
     "exception": false,
     "start_time": "2022-04-07T08:38:20.248799",
     "status": "completed"
    },
    "tags": []
   },
   "outputs": [
    {
     "data": {
      "text/plain": [
       "array([0, 0, 1, ..., 1, 1, 0])"
      ]
     },
     "execution_count": 33,
     "metadata": {},
     "output_type": "execute_result"
    }
   ],
   "source": [
    "pred_s = pipe.predict(x_test)\n",
    "pred_s"
   ]
  },
  {
   "cell_type": "code",
   "execution_count": 34,
   "id": "b9a86e8a",
   "metadata": {
    "execution": {
     "iopub.execute_input": "2022-04-07T08:38:20.504272Z",
     "iopub.status.busy": "2022-04-07T08:38:20.503515Z",
     "iopub.status.idle": "2022-04-07T08:38:20.506451Z",
     "shell.execute_reply": "2022-04-07T08:38:20.506893Z",
     "shell.execute_reply.started": "2022-04-07T08:31:43.003721Z"
    },
    "papermill": {
     "duration": 0.064561,
     "end_time": "2022-04-07T08:38:20.507046",
     "exception": false,
     "start_time": "2022-04-07T08:38:20.442485",
     "status": "completed"
    },
    "tags": []
   },
   "outputs": [
    {
     "data": {
      "text/plain": [
       "75.75896964121435"
      ]
     },
     "execution_count": 34,
     "metadata": {},
     "output_type": "execute_result"
    }
   ],
   "source": [
    "accuracy_score(pred_s,y_test)*100"
   ]
  },
  {
   "cell_type": "code",
   "execution_count": 35,
   "id": "c93aa062",
   "metadata": {
    "execution": {
     "iopub.execute_input": "2022-04-07T08:38:20.622130Z",
     "iopub.status.busy": "2022-04-07T08:38:20.621238Z",
     "iopub.status.idle": "2022-04-07T08:38:20.625047Z",
     "shell.execute_reply": "2022-04-07T08:38:20.625540Z",
     "shell.execute_reply.started": "2022-04-07T08:31:55.639726Z"
    },
    "papermill": {
     "duration": 0.062784,
     "end_time": "2022-04-07T08:38:20.625696",
     "exception": false,
     "start_time": "2022-04-07T08:38:20.562912",
     "status": "completed"
    },
    "tags": []
   },
   "outputs": [],
   "source": [
    "from sklearn.svm import SVC\n",
    "algorithm = SVC()\n",
    "pipe_a = make_pipeline(trans,S,algorithm)"
   ]
  },
  {
   "cell_type": "code",
   "execution_count": 36,
   "id": "aae0cfb6",
   "metadata": {
    "execution": {
     "iopub.execute_input": "2022-04-07T08:38:20.740959Z",
     "iopub.status.busy": "2022-04-07T08:38:20.740089Z",
     "iopub.status.idle": "2022-04-07T08:38:22.963162Z",
     "shell.execute_reply": "2022-04-07T08:38:22.962688Z",
     "shell.execute_reply.started": "2022-04-07T08:32:03.696670Z"
    },
    "papermill": {
     "duration": 2.281712,
     "end_time": "2022-04-07T08:38:22.963288",
     "exception": false,
     "start_time": "2022-04-07T08:38:20.681576",
     "status": "completed"
    },
    "tags": []
   },
   "outputs": [
    {
     "data": {
      "text/html": [
       "<style>#sk-d93a9855-7440-4c58-9023-98759d52ca44 {color: black;background-color: white;}#sk-d93a9855-7440-4c58-9023-98759d52ca44 pre{padding: 0;}#sk-d93a9855-7440-4c58-9023-98759d52ca44 div.sk-toggleable {background-color: white;}#sk-d93a9855-7440-4c58-9023-98759d52ca44 label.sk-toggleable__label {cursor: pointer;display: block;width: 100%;margin-bottom: 0;padding: 0.3em;box-sizing: border-box;text-align: center;}#sk-d93a9855-7440-4c58-9023-98759d52ca44 div.sk-toggleable__content {max-height: 0;max-width: 0;overflow: hidden;text-align: left;background-color: #f0f8ff;}#sk-d93a9855-7440-4c58-9023-98759d52ca44 div.sk-toggleable__content pre {margin: 0.2em;color: black;border-radius: 0.25em;background-color: #f0f8ff;}#sk-d93a9855-7440-4c58-9023-98759d52ca44 input.sk-toggleable__control:checked~div.sk-toggleable__content {max-height: 200px;max-width: 100%;overflow: auto;}#sk-d93a9855-7440-4c58-9023-98759d52ca44 div.sk-estimator input.sk-toggleable__control:checked~label.sk-toggleable__label {background-color: #d4ebff;}#sk-d93a9855-7440-4c58-9023-98759d52ca44 div.sk-label input.sk-toggleable__control:checked~label.sk-toggleable__label {background-color: #d4ebff;}#sk-d93a9855-7440-4c58-9023-98759d52ca44 input.sk-hidden--visually {border: 0;clip: rect(1px 1px 1px 1px);clip: rect(1px, 1px, 1px, 1px);height: 1px;margin: -1px;overflow: hidden;padding: 0;position: absolute;width: 1px;}#sk-d93a9855-7440-4c58-9023-98759d52ca44 div.sk-estimator {font-family: monospace;background-color: #f0f8ff;border: 1px dotted black;border-radius: 0.25em;box-sizing: border-box;margin-bottom: 0.5em;}#sk-d93a9855-7440-4c58-9023-98759d52ca44 div.sk-estimator:hover {background-color: #d4ebff;}#sk-d93a9855-7440-4c58-9023-98759d52ca44 div.sk-parallel-item::after {content: \"\";width: 100%;border-bottom: 1px solid gray;flex-grow: 1;}#sk-d93a9855-7440-4c58-9023-98759d52ca44 div.sk-label:hover label.sk-toggleable__label {background-color: #d4ebff;}#sk-d93a9855-7440-4c58-9023-98759d52ca44 div.sk-serial::before {content: \"\";position: absolute;border-left: 1px solid gray;box-sizing: border-box;top: 2em;bottom: 0;left: 50%;}#sk-d93a9855-7440-4c58-9023-98759d52ca44 div.sk-serial {display: flex;flex-direction: column;align-items: center;background-color: white;padding-right: 0.2em;padding-left: 0.2em;}#sk-d93a9855-7440-4c58-9023-98759d52ca44 div.sk-item {z-index: 1;}#sk-d93a9855-7440-4c58-9023-98759d52ca44 div.sk-parallel {display: flex;align-items: stretch;justify-content: center;background-color: white;}#sk-d93a9855-7440-4c58-9023-98759d52ca44 div.sk-parallel::before {content: \"\";position: absolute;border-left: 1px solid gray;box-sizing: border-box;top: 2em;bottom: 0;left: 50%;}#sk-d93a9855-7440-4c58-9023-98759d52ca44 div.sk-parallel-item {display: flex;flex-direction: column;position: relative;background-color: white;}#sk-d93a9855-7440-4c58-9023-98759d52ca44 div.sk-parallel-item:first-child::after {align-self: flex-end;width: 50%;}#sk-d93a9855-7440-4c58-9023-98759d52ca44 div.sk-parallel-item:last-child::after {align-self: flex-start;width: 50%;}#sk-d93a9855-7440-4c58-9023-98759d52ca44 div.sk-parallel-item:only-child::after {width: 0;}#sk-d93a9855-7440-4c58-9023-98759d52ca44 div.sk-dashed-wrapped {border: 1px dashed gray;margin: 0 0.4em 0.5em 0.4em;box-sizing: border-box;padding-bottom: 0.4em;background-color: white;position: relative;}#sk-d93a9855-7440-4c58-9023-98759d52ca44 div.sk-label label {font-family: monospace;font-weight: bold;background-color: white;display: inline-block;line-height: 1.2em;}#sk-d93a9855-7440-4c58-9023-98759d52ca44 div.sk-label-container {position: relative;z-index: 2;text-align: center;}#sk-d93a9855-7440-4c58-9023-98759d52ca44 div.sk-container {display: inline-block;position: relative;}</style><div id=\"sk-d93a9855-7440-4c58-9023-98759d52ca44\" class\"sk-top-container\"><div class=\"sk-container\"><div class=\"sk-item sk-dashed-wrapped\"><div class=\"sk-label-container\"><div class=\"sk-label sk-toggleable\"><input class=\"sk-toggleable__control sk-hidden--visually\" id=\"e74d77c4-781d-404c-be34-a4a0ec716f17\" type=\"checkbox\" ><label class=\"sk-toggleable__label\" for=\"e74d77c4-781d-404c-be34-a4a0ec716f17\">Pipeline</label><div class=\"sk-toggleable__content\"><pre>Pipeline(steps=[('columntransformer',\n",
       "                 ColumnTransformer(remainder='passthrough',\n",
       "                                   transformers=[('onehotencoder',\n",
       "                                                  OneHotEncoder(sparse=False),\n",
       "                                                  [1, 3, 2, 5]),\n",
       "                                                 ('powertransformer',\n",
       "                                                  PowerTransformer(),\n",
       "                                                  [0, 6, 7, 8, 9, 10]),\n",
       "                                                 ('binarizer', Binarizer(),\n",
       "                                                  [4])])),\n",
       "                ('smote', SMOTE()), ('svc', SVC())])</pre></div></div></div><div class=\"sk-serial\"><div class=\"sk-item sk-dashed-wrapped\"><div class=\"sk-label-container\"><div class=\"sk-label sk-toggleable\"><input class=\"sk-toggleable__control sk-hidden--visually\" id=\"f7252270-eda2-42ba-9fa2-9597fe9d2100\" type=\"checkbox\" ><label class=\"sk-toggleable__label\" for=\"f7252270-eda2-42ba-9fa2-9597fe9d2100\">columntransformer: ColumnTransformer</label><div class=\"sk-toggleable__content\"><pre>ColumnTransformer(remainder='passthrough',\n",
       "                  transformers=[('onehotencoder', OneHotEncoder(sparse=False),\n",
       "                                 [1, 3, 2, 5]),\n",
       "                                ('powertransformer', PowerTransformer(),\n",
       "                                 [0, 6, 7, 8, 9, 10]),\n",
       "                                ('binarizer', Binarizer(), [4])])</pre></div></div></div><div class=\"sk-parallel\"><div class=\"sk-parallel-item\"><div class=\"sk-item\"><div class=\"sk-label-container\"><div class=\"sk-label sk-toggleable\"><input class=\"sk-toggleable__control sk-hidden--visually\" id=\"a2bcd717-2993-4c70-a167-6f5730a449c5\" type=\"checkbox\" ><label class=\"sk-toggleable__label\" for=\"a2bcd717-2993-4c70-a167-6f5730a449c5\">onehotencoder</label><div class=\"sk-toggleable__content\"><pre>[1, 3, 2, 5]</pre></div></div></div><div class=\"sk-serial\"><div class=\"sk-item\"><div class=\"sk-estimator sk-toggleable\"><input class=\"sk-toggleable__control sk-hidden--visually\" id=\"34965c34-ed03-4279-aae3-ef4e273ea6cf\" type=\"checkbox\" ><label class=\"sk-toggleable__label\" for=\"34965c34-ed03-4279-aae3-ef4e273ea6cf\">OneHotEncoder</label><div class=\"sk-toggleable__content\"><pre>OneHotEncoder(sparse=False)</pre></div></div></div></div></div></div><div class=\"sk-parallel-item\"><div class=\"sk-item\"><div class=\"sk-label-container\"><div class=\"sk-label sk-toggleable\"><input class=\"sk-toggleable__control sk-hidden--visually\" id=\"7be3dfed-b4fc-486b-9ef4-93f389348751\" type=\"checkbox\" ><label class=\"sk-toggleable__label\" for=\"7be3dfed-b4fc-486b-9ef4-93f389348751\">powertransformer</label><div class=\"sk-toggleable__content\"><pre>[0, 6, 7, 8, 9, 10]</pre></div></div></div><div class=\"sk-serial\"><div class=\"sk-item\"><div class=\"sk-estimator sk-toggleable\"><input class=\"sk-toggleable__control sk-hidden--visually\" id=\"57d438cf-a7a1-4ff9-b26d-aa58d7222b9e\" type=\"checkbox\" ><label class=\"sk-toggleable__label\" for=\"57d438cf-a7a1-4ff9-b26d-aa58d7222b9e\">PowerTransformer</label><div class=\"sk-toggleable__content\"><pre>PowerTransformer()</pre></div></div></div></div></div></div><div class=\"sk-parallel-item\"><div class=\"sk-item\"><div class=\"sk-label-container\"><div class=\"sk-label sk-toggleable\"><input class=\"sk-toggleable__control sk-hidden--visually\" id=\"71805d3a-47cf-4cdf-9c72-2f4d454482d6\" type=\"checkbox\" ><label class=\"sk-toggleable__label\" for=\"71805d3a-47cf-4cdf-9c72-2f4d454482d6\">binarizer</label><div class=\"sk-toggleable__content\"><pre>[4]</pre></div></div></div><div class=\"sk-serial\"><div class=\"sk-item\"><div class=\"sk-estimator sk-toggleable\"><input class=\"sk-toggleable__control sk-hidden--visually\" id=\"7f11ad4f-1258-4d69-b2e7-8137ec3bf325\" type=\"checkbox\" ><label class=\"sk-toggleable__label\" for=\"7f11ad4f-1258-4d69-b2e7-8137ec3bf325\">Binarizer</label><div class=\"sk-toggleable__content\"><pre>Binarizer()</pre></div></div></div></div></div></div><div class=\"sk-parallel-item\"><div class=\"sk-item\"><div class=\"sk-label-container\"><div class=\"sk-label sk-toggleable\"><input class=\"sk-toggleable__control sk-hidden--visually\" id=\"9672e500-b745-4e0c-aa0d-e39466dfb9e6\" type=\"checkbox\" ><label class=\"sk-toggleable__label\" for=\"9672e500-b745-4e0c-aa0d-e39466dfb9e6\">remainder</label><div class=\"sk-toggleable__content\"><pre>[]</pre></div></div></div><div class=\"sk-serial\"><div class=\"sk-item\"><div class=\"sk-estimator sk-toggleable\"><input class=\"sk-toggleable__control sk-hidden--visually\" id=\"8eb52b67-fb7b-4890-9c63-8a75c9e06b26\" type=\"checkbox\" ><label class=\"sk-toggleable__label\" for=\"8eb52b67-fb7b-4890-9c63-8a75c9e06b26\">passthrough</label><div class=\"sk-toggleable__content\"><pre>passthrough</pre></div></div></div></div></div></div></div></div><div class=\"sk-item\"><div class=\"sk-estimator sk-toggleable\"><input class=\"sk-toggleable__control sk-hidden--visually\" id=\"4f0088d1-e001-45e5-8ec1-ed8cb1c19b81\" type=\"checkbox\" ><label class=\"sk-toggleable__label\" for=\"4f0088d1-e001-45e5-8ec1-ed8cb1c19b81\">SMOTE</label><div class=\"sk-toggleable__content\"><pre>SMOTE()</pre></div></div></div><div class=\"sk-item\"><div class=\"sk-estimator sk-toggleable\"><input class=\"sk-toggleable__control sk-hidden--visually\" id=\"16ed7234-07fd-41ea-b556-2e2cba201df1\" type=\"checkbox\" ><label class=\"sk-toggleable__label\" for=\"16ed7234-07fd-41ea-b556-2e2cba201df1\">SVC</label><div class=\"sk-toggleable__content\"><pre>SVC()</pre></div></div></div></div></div></div></div>"
      ],
      "text/plain": [
       "Pipeline(steps=[('columntransformer',\n",
       "                 ColumnTransformer(remainder='passthrough',\n",
       "                                   transformers=[('onehotencoder',\n",
       "                                                  OneHotEncoder(sparse=False),\n",
       "                                                  [1, 3, 2, 5]),\n",
       "                                                 ('powertransformer',\n",
       "                                                  PowerTransformer(),\n",
       "                                                  [0, 6, 7, 8, 9, 10]),\n",
       "                                                 ('binarizer', Binarizer(),\n",
       "                                                  [4])])),\n",
       "                ('smote', SMOTE()), ('svc', SVC())])"
      ]
     },
     "execution_count": 36,
     "metadata": {},
     "output_type": "execute_result"
    }
   ],
   "source": [
    "pipe_a.fit(x_train,y_train)"
   ]
  },
  {
   "cell_type": "code",
   "execution_count": 37,
   "id": "90d591c6",
   "metadata": {
    "execution": {
     "iopub.execute_input": "2022-04-07T08:38:23.082544Z",
     "iopub.status.busy": "2022-04-07T08:38:23.081598Z",
     "iopub.status.idle": "2022-04-07T08:38:23.104638Z",
     "shell.execute_reply": "2022-04-07T08:38:23.105373Z",
     "shell.execute_reply.started": "2022-04-07T08:32:11.789308Z"
    },
    "papermill": {
     "duration": 0.085538,
     "end_time": "2022-04-07T08:38:23.105631",
     "exception": false,
     "start_time": "2022-04-07T08:38:23.020093",
     "status": "completed"
    },
    "tags": []
   },
   "outputs": [
    {
     "data": {
      "text/plain": [
       "array([0, 0, 1, ..., 1, 1, 0])"
      ]
     },
     "execution_count": 37,
     "metadata": {},
     "output_type": "execute_result"
    }
   ],
   "source": [
    "pred_a =pipe.predict(x_test)\n",
    "pred_a"
   ]
  },
  {
   "cell_type": "code",
   "execution_count": 38,
   "id": "d89dfcd2",
   "metadata": {
    "execution": {
     "iopub.execute_input": "2022-04-07T08:38:23.278482Z",
     "iopub.status.busy": "2022-04-07T08:38:23.277562Z",
     "iopub.status.idle": "2022-04-07T08:38:23.281966Z",
     "shell.execute_reply": "2022-04-07T08:38:23.282391Z",
     "shell.execute_reply.started": "2022-04-07T08:32:20.524045Z"
    },
    "papermill": {
     "duration": 0.065513,
     "end_time": "2022-04-07T08:38:23.282543",
     "exception": false,
     "start_time": "2022-04-07T08:38:23.217030",
     "status": "completed"
    },
    "tags": []
   },
   "outputs": [
    {
     "data": {
      "text/plain": [
       "75.75896964121435"
      ]
     },
     "execution_count": 38,
     "metadata": {},
     "output_type": "execute_result"
    }
   ],
   "source": [
    "accuracy_score(pred_a,y_test)*100"
   ]
  },
  {
   "cell_type": "code",
   "execution_count": 39,
   "id": "9d20feec",
   "metadata": {
    "execution": {
     "iopub.execute_input": "2022-04-07T08:38:23.399308Z",
     "iopub.status.busy": "2022-04-07T08:38:23.398749Z",
     "iopub.status.idle": "2022-04-07T08:38:23.402205Z",
     "shell.execute_reply": "2022-04-07T08:38:23.402584Z",
     "shell.execute_reply.started": "2022-04-07T08:32:43.942671Z"
    },
    "papermill": {
     "duration": 0.062991,
     "end_time": "2022-04-07T08:38:23.402753",
     "exception": false,
     "start_time": "2022-04-07T08:38:23.339762",
     "status": "completed"
    },
    "tags": []
   },
   "outputs": [],
   "source": [
    "from sklearn.ensemble import GradientBoostingClassifier\n",
    "GB = GradientBoostingClassifier(n_estimators = 300,min_samples_leaf = 4) \n",
    "pipe_GB = make_pipeline(trans,S,GB)"
   ]
  },
  {
   "cell_type": "code",
   "execution_count": 40,
   "id": "7f01bc40",
   "metadata": {
    "execution": {
     "iopub.execute_input": "2022-04-07T08:38:23.519516Z",
     "iopub.status.busy": "2022-04-07T08:38:23.518973Z",
     "iopub.status.idle": "2022-04-07T08:38:26.516173Z",
     "shell.execute_reply": "2022-04-07T08:38:26.515703Z",
     "shell.execute_reply.started": "2022-04-07T08:32:52.629663Z"
    },
    "papermill": {
     "duration": 3.056325,
     "end_time": "2022-04-07T08:38:26.516310",
     "exception": false,
     "start_time": "2022-04-07T08:38:23.459985",
     "status": "completed"
    },
    "tags": []
   },
   "outputs": [
    {
     "data": {
      "text/plain": [
       "79.6688132474701"
      ]
     },
     "execution_count": 40,
     "metadata": {},
     "output_type": "execute_result"
    }
   ],
   "source": [
    "pipe_GB.fit(x_train,y_train)\n",
    "pred_gb = pipe_GB.predict(x_test)\n",
    "accuracy_score(pred_gb,y_test)*100"
   ]
  },
  {
   "cell_type": "code",
   "execution_count": 41,
   "id": "8a4e30c0",
   "metadata": {
    "execution": {
     "iopub.execute_input": "2022-04-07T08:38:26.636386Z",
     "iopub.status.busy": "2022-04-07T08:38:26.635850Z",
     "iopub.status.idle": "2022-04-07T08:38:26.639249Z",
     "shell.execute_reply": "2022-04-07T08:38:26.639758Z",
     "shell.execute_reply.started": "2022-04-07T08:33:01.990937Z"
    },
    "papermill": {
     "duration": 0.065801,
     "end_time": "2022-04-07T08:38:26.639903",
     "exception": false,
     "start_time": "2022-04-07T08:38:26.574102",
     "status": "completed"
    },
    "tags": []
   },
   "outputs": [],
   "source": [
    "from sklearn.ensemble import RandomForestClassifier\n",
    "F = RandomForestClassifier(n_estimators = 100,criterion = 'entropy')\n",
    "pipe_F = make_pipeline(trans,S,F)"
   ]
  },
  {
   "cell_type": "code",
   "execution_count": 42,
   "id": "3c818118",
   "metadata": {
    "execution": {
     "iopub.execute_input": "2022-04-07T08:38:26.757173Z",
     "iopub.status.busy": "2022-04-07T08:38:26.756592Z",
     "iopub.status.idle": "2022-04-07T08:38:28.124115Z",
     "shell.execute_reply": "2022-04-07T08:38:28.123623Z",
     "shell.execute_reply.started": "2022-04-07T08:33:08.829186Z"
    },
    "papermill": {
     "duration": 1.426908,
     "end_time": "2022-04-07T08:38:28.124261",
     "exception": false,
     "start_time": "2022-04-07T08:38:26.697353",
     "status": "completed"
    },
    "tags": []
   },
   "outputs": [
    {
     "data": {
      "text/plain": [
       "76.7709291628335"
      ]
     },
     "execution_count": 42,
     "metadata": {},
     "output_type": "execute_result"
    }
   ],
   "source": [
    "pipe_F.fit(x_train,y_train)\n",
    "pred_F = pipe_F.predict(x_test)\n",
    "accuracy_score(pred_F,y_test)*100"
   ]
  },
  {
   "cell_type": "code",
   "execution_count": 43,
   "id": "da8c8143",
   "metadata": {
    "execution": {
     "iopub.execute_input": "2022-04-07T08:38:28.245484Z",
     "iopub.status.busy": "2022-04-07T08:38:28.244935Z",
     "iopub.status.idle": "2022-04-07T08:38:28.884363Z",
     "shell.execute_reply": "2022-04-07T08:38:28.884942Z",
     "shell.execute_reply.started": "2022-04-07T08:33:58.785260Z"
    },
    "papermill": {
     "duration": 0.701429,
     "end_time": "2022-04-07T08:38:28.885103",
     "exception": false,
     "start_time": "2022-04-07T08:38:28.183674",
     "status": "completed"
    },
    "tags": []
   },
   "outputs": [
    {
     "name": "stderr",
     "output_type": "stream",
     "text": [
      "/opt/conda/lib/python3.7/site-packages/sklearn/utils/deprecation.py:87: FutureWarning: Function plot_roc_curve is deprecated; Function `plot_roc_curve` is deprecated in 1.0 and will be removed in 1.2. Use one of the class methods: RocCurveDisplay.from_predictions or RocCurveDisplay.from_estimator.\n",
      "  warnings.warn(msg, category=FutureWarning)\n"
     ]
    },
    {
     "data": {
      "image/png": "[encoded data removed]",
      "text/plain": [
       "<Figure size 432x288 with 1 Axes>"
      ]
     },
     "metadata": {
      "needs_background": "light"
     },
     "output_type": "display_data"
    }
   ],
   "source": [
    "from sklearn.metrics import plot_roc_curve\n",
    "import matplotlib.pyplot as plt\n",
    "\n",
    "plot_roc_curve(pipe_a,x_test,y_test)\n",
    "\n",
    "plt.plot([0,1],[0,1],\"r--\")        \n",
    "\n",
    "plt.xlabel(\"TPR\")\n",
    "plt.ylabel(\"FPR\")\n",
    "plt.show()"
   ]
  },
  {
   "cell_type": "code",
   "execution_count": 44,
   "id": "3630903a",
   "metadata": {
    "execution": {
     "iopub.execute_input": "2022-04-07T08:38:29.007353Z",
     "iopub.status.busy": "2022-04-07T08:38:29.006723Z",
     "iopub.status.idle": "2022-04-07T08:38:29.047697Z",
     "shell.execute_reply": "2022-04-07T08:38:29.048210Z",
     "shell.execute_reply.started": "2022-04-07T08:34:23.343839Z"
    },
    "papermill": {
     "duration": 0.103974,
     "end_time": "2022-04-07T08:38:29.048375",
     "exception": false,
     "start_time": "2022-04-07T08:38:28.944401",
     "status": "completed"
    },
    "tags": []
   },
   "outputs": [
    {
     "data": {
      "text/html": [
       "<div>\n",
       "<style scoped>\n",
       "    .dataframe tbody tr th:only-of-type {\n",
       "        vertical-align: middle;\n",
       "    }\n",
       "\n",
       "    .dataframe tbody tr th {\n",
       "        vertical-align: top;\n",
       "    }\n",
       "\n",
       "    .dataframe thead th {\n",
       "        text-align: right;\n",
       "    }\n",
       "</style>\n",
       "<table border=\"1\" class=\"dataframe\">\n",
       "  <thead>\n",
       "    <tr style=\"text-align: right;\">\n",
       "      <th></th>\n",
       "      <th>PassengerId</th>\n",
       "      <th>HomePlanet</th>\n",
       "      <th>CryoSleep</th>\n",
       "      <th>Cabin</th>\n",
       "      <th>Destination</th>\n",
       "      <th>Age</th>\n",
       "      <th>VIP</th>\n",
       "      <th>RoomService</th>\n",
       "      <th>FoodCourt</th>\n",
       "      <th>ShoppingMall</th>\n",
       "      <th>Spa</th>\n",
       "      <th>VRDeck</th>\n",
       "      <th>Name</th>\n",
       "    </tr>\n",
       "  </thead>\n",
       "  <tbody>\n",
       "    <tr>\n",
       "      <th>0</th>\n",
       "      <td>0013_01</td>\n",
       "      <td>Earth</td>\n",
       "      <td>True</td>\n",
       "      <td>G/3/S</td>\n",
       "      <td>TRAPPIST-1e</td>\n",
       "      <td>27.0</td>\n",
       "      <td>False</td>\n",
       "      <td>0.0</td>\n",
       "      <td>0.0</td>\n",
       "      <td>0.0</td>\n",
       "      <td>0.0</td>\n",
       "      <td>0.0</td>\n",
       "      <td>Nelly Carsoning</td>\n",
       "    </tr>\n",
       "    <tr>\n",
       "      <th>1</th>\n",
       "      <td>0018_01</td>\n",
       "      <td>Earth</td>\n",
       "      <td>False</td>\n",
       "      <td>F/4/S</td>\n",
       "      <td>TRAPPIST-1e</td>\n",
       "      <td>19.0</td>\n",
       "      <td>False</td>\n",
       "      <td>0.0</td>\n",
       "      <td>9.0</td>\n",
       "      <td>0.0</td>\n",
       "      <td>2823.0</td>\n",
       "      <td>0.0</td>\n",
       "      <td>Lerome Peckers</td>\n",
       "    </tr>\n",
       "    <tr>\n",
       "      <th>2</th>\n",
       "      <td>0019_01</td>\n",
       "      <td>Europa</td>\n",
       "      <td>True</td>\n",
       "      <td>C/0/S</td>\n",
       "      <td>55 Cancri e</td>\n",
       "      <td>31.0</td>\n",
       "      <td>False</td>\n",
       "      <td>0.0</td>\n",
       "      <td>0.0</td>\n",
       "      <td>0.0</td>\n",
       "      <td>0.0</td>\n",
       "      <td>0.0</td>\n",
       "      <td>Sabih Unhearfus</td>\n",
       "    </tr>\n",
       "    <tr>\n",
       "      <th>3</th>\n",
       "      <td>0021_01</td>\n",
       "      <td>Europa</td>\n",
       "      <td>False</td>\n",
       "      <td>C/1/S</td>\n",
       "      <td>TRAPPIST-1e</td>\n",
       "      <td>38.0</td>\n",
       "      <td>False</td>\n",
       "      <td>0.0</td>\n",
       "      <td>6652.0</td>\n",
       "      <td>0.0</td>\n",
       "      <td>181.0</td>\n",
       "      <td>585.0</td>\n",
       "      <td>Meratz Caltilter</td>\n",
       "    </tr>\n",
       "    <tr>\n",
       "      <th>4</th>\n",
       "      <td>0023_01</td>\n",
       "      <td>Earth</td>\n",
       "      <td>False</td>\n",
       "      <td>F/5/S</td>\n",
       "      <td>TRAPPIST-1e</td>\n",
       "      <td>20.0</td>\n",
       "      <td>False</td>\n",
       "      <td>10.0</td>\n",
       "      <td>0.0</td>\n",
       "      <td>635.0</td>\n",
       "      <td>0.0</td>\n",
       "      <td>0.0</td>\n",
       "      <td>Brence Harperez</td>\n",
       "    </tr>\n",
       "    <tr>\n",
       "      <th>...</th>\n",
       "      <td>...</td>\n",
       "      <td>...</td>\n",
       "      <td>...</td>\n",
       "      <td>...</td>\n",
       "      <td>...</td>\n",
       "      <td>...</td>\n",
       "      <td>...</td>\n",
       "      <td>...</td>\n",
       "      <td>...</td>\n",
       "      <td>...</td>\n",
       "      <td>...</td>\n",
       "      <td>...</td>\n",
       "      <td>...</td>\n",
       "    </tr>\n",
       "    <tr>\n",
       "      <th>4272</th>\n",
       "      <td>9266_02</td>\n",
       "      <td>Earth</td>\n",
       "      <td>True</td>\n",
       "      <td>G/1496/S</td>\n",
       "      <td>TRAPPIST-1e</td>\n",
       "      <td>34.0</td>\n",
       "      <td>False</td>\n",
       "      <td>0.0</td>\n",
       "      <td>0.0</td>\n",
       "      <td>0.0</td>\n",
       "      <td>0.0</td>\n",
       "      <td>0.0</td>\n",
       "      <td>Jeron Peter</td>\n",
       "    </tr>\n",
       "    <tr>\n",
       "      <th>4273</th>\n",
       "      <td>9269_01</td>\n",
       "      <td>Earth</td>\n",
       "      <td>False</td>\n",
       "      <td>NaN</td>\n",
       "      <td>TRAPPIST-1e</td>\n",
       "      <td>42.0</td>\n",
       "      <td>False</td>\n",
       "      <td>0.0</td>\n",
       "      <td>847.0</td>\n",
       "      <td>17.0</td>\n",
       "      <td>10.0</td>\n",
       "      <td>144.0</td>\n",
       "      <td>Matty Scheron</td>\n",
       "    </tr>\n",
       "    <tr>\n",
       "      <th>4274</th>\n",
       "      <td>9271_01</td>\n",
       "      <td>Mars</td>\n",
       "      <td>True</td>\n",
       "      <td>D/296/P</td>\n",
       "      <td>55 Cancri e</td>\n",
       "      <td>NaN</td>\n",
       "      <td>False</td>\n",
       "      <td>0.0</td>\n",
       "      <td>0.0</td>\n",
       "      <td>0.0</td>\n",
       "      <td>0.0</td>\n",
       "      <td>0.0</td>\n",
       "      <td>Jayrin Pore</td>\n",
       "    </tr>\n",
       "    <tr>\n",
       "      <th>4275</th>\n",
       "      <td>9273_01</td>\n",
       "      <td>Europa</td>\n",
       "      <td>False</td>\n",
       "      <td>D/297/P</td>\n",
       "      <td>NaN</td>\n",
       "      <td>NaN</td>\n",
       "      <td>False</td>\n",
       "      <td>0.0</td>\n",
       "      <td>2680.0</td>\n",
       "      <td>0.0</td>\n",
       "      <td>0.0</td>\n",
       "      <td>523.0</td>\n",
       "      <td>Kitakan Conale</td>\n",
       "    </tr>\n",
       "    <tr>\n",
       "      <th>4276</th>\n",
       "      <td>9277_01</td>\n",
       "      <td>Earth</td>\n",
       "      <td>True</td>\n",
       "      <td>G/1498/S</td>\n",
       "      <td>PSO J318.5-22</td>\n",
       "      <td>43.0</td>\n",
       "      <td>False</td>\n",
       "      <td>0.0</td>\n",
       "      <td>0.0</td>\n",
       "      <td>0.0</td>\n",
       "      <td>0.0</td>\n",
       "      <td>0.0</td>\n",
       "      <td>Lilace Leonzaley</td>\n",
       "    </tr>\n",
       "  </tbody>\n",
       "</table>\n",
       "<p>4277 rows × 13 columns</p>\n",
       "</div>"
      ],
      "text/plain": [
       "     PassengerId HomePlanet CryoSleep     Cabin    Destination   Age    VIP  \\\n",
       "0        0013_01      Earth      True     G/3/S    TRAPPIST-1e  27.0  False   \n",
       "1        0018_01      Earth     False     F/4/S    TRAPPIST-1e  19.0  False   \n",
       "2        0019_01     Europa      True     C/0/S    55 Cancri e  31.0  False   \n",
       "3        0021_01     Europa     False     C/1/S    TRAPPIST-1e  38.0  False   \n",
       "4        0023_01      Earth     False     F/5/S    TRAPPIST-1e  20.0  False   \n",
       "...          ...        ...       ...       ...            ...   ...    ...   \n",
       "4272     9266_02      Earth      True  G/1496/S    TRAPPIST-1e  34.0  False   \n",
       "4273     9269_01      Earth     False       NaN    TRAPPIST-1e  42.0  False   \n",
       "4274     9271_01       Mars      True   D/296/P    55 Cancri e   NaN  False   \n",
       "4275     9273_01     Europa     False   D/297/P            NaN   NaN  False   \n",
       "4276     9277_01      Earth      True  G/1498/S  PSO J318.5-22  43.0  False   \n",
       "\n",
       "      RoomService  FoodCourt  ShoppingMall     Spa  VRDeck              Name  \n",
       "0             0.0        0.0           0.0     0.0     0.0   Nelly Carsoning  \n",
       "1             0.0        9.0           0.0  2823.0     0.0    Lerome Peckers  \n",
       "2             0.0        0.0           0.0     0.0     0.0   Sabih Unhearfus  \n",
       "3             0.0     6652.0           0.0   181.0   585.0  Meratz Caltilter  \n",
       "4            10.0        0.0         635.0     0.0     0.0   Brence Harperez  \n",
       "...           ...        ...           ...     ...     ...               ...  \n",
       "4272          0.0        0.0           0.0     0.0     0.0       Jeron Peter  \n",
       "4273          0.0      847.0          17.0    10.0   144.0     Matty Scheron  \n",
       "4274          0.0        0.0           0.0     0.0     0.0       Jayrin Pore  \n",
       "4275          0.0     2680.0           0.0     0.0   523.0    Kitakan Conale  \n",
       "4276          0.0        0.0           0.0     0.0     0.0  Lilace Leonzaley  \n",
       "\n",
       "[4277 rows x 13 columns]"
      ]
     },
     "execution_count": 44,
     "metadata": {},
     "output_type": "execute_result"
    }
   ],
   "source": [
    "test_data = pd.read_csv('/kaggle/input/spaceship-titanic/test.csv')\n",
    "test_data"
   ]
  },
  {
   "cell_type": "code",
   "execution_count": 45,
   "id": "2842dd39",
   "metadata": {
    "execution": {
     "iopub.execute_input": "2022-04-07T08:38:29.169988Z",
     "iopub.status.busy": "2022-04-07T08:38:29.169451Z",
     "iopub.status.idle": "2022-04-07T08:38:29.174487Z",
     "shell.execute_reply": "2022-04-07T08:38:29.175030Z",
     "shell.execute_reply.started": "2022-04-07T08:34:34.096572Z"
    },
    "papermill": {
     "duration": 0.067318,
     "end_time": "2022-04-07T08:38:29.175184",
     "exception": false,
     "start_time": "2022-04-07T08:38:29.107866",
     "status": "completed"
    },
    "tags": []
   },
   "outputs": [
    {
     "data": {
      "text/plain": [
       "array(['G/3/S', 'F/4/S', 'C/0/S', ..., 'D/296/P', 'D/297/P', 'G/1498/S'],\n",
       "      dtype=object)"
      ]
     },
     "execution_count": 45,
     "metadata": {},
     "output_type": "execute_result"
    }
   ],
   "source": [
    "test_data.iloc[:,3].unique()"
   ]
  },
  {
   "cell_type": "code",
   "execution_count": 46,
   "id": "285b31d4",
   "metadata": {
    "execution": {
     "iopub.execute_input": "2022-04-07T08:38:29.297662Z",
     "iopub.status.busy": "2022-04-07T08:38:29.297129Z",
     "iopub.status.idle": "2022-04-07T08:38:29.303604Z",
     "shell.execute_reply": "2022-04-07T08:38:29.303113Z",
     "shell.execute_reply.started": "2022-04-07T08:34:42.742101Z"
    },
    "papermill": {
     "duration": 0.068493,
     "end_time": "2022-04-07T08:38:29.303725",
     "exception": false,
     "start_time": "2022-04-07T08:38:29.235232",
     "status": "completed"
    },
    "tags": []
   },
   "outputs": [],
   "source": [
    "test_data.Destination = test_data.Destination.replace({'TRAPPIST-1e':'TRAPPIST','55 Cancri e':'Cancri','PSO J318.5-22':'PSO'})"
   ]
  },
  {
   "cell_type": "code",
   "execution_count": 47,
   "id": "86611a96",
   "metadata": {
    "execution": {
     "iopub.execute_input": "2022-04-07T08:38:29.448002Z",
     "iopub.status.busy": "2022-04-07T08:38:29.447383Z",
     "iopub.status.idle": "2022-04-07T08:38:29.450965Z",
     "shell.execute_reply": "2022-04-07T08:38:29.450505Z",
     "shell.execute_reply.started": "2022-04-07T08:34:49.287822Z"
    },
    "papermill": {
     "duration": 0.087615,
     "end_time": "2022-04-07T08:38:29.451091",
     "exception": false,
     "start_time": "2022-04-07T08:38:29.363476",
     "status": "completed"
    },
    "tags": []
   },
   "outputs": [
    {
     "data": {
      "text/html": [
       "<div>\n",
       "<style scoped>\n",
       "    .dataframe tbody tr th:only-of-type {\n",
       "        vertical-align: middle;\n",
       "    }\n",
       "\n",
       "    .dataframe tbody tr th {\n",
       "        vertical-align: top;\n",
       "    }\n",
       "\n",
       "    .dataframe thead th {\n",
       "        text-align: right;\n",
       "    }\n",
       "</style>\n",
       "<table border=\"1\" class=\"dataframe\">\n",
       "  <thead>\n",
       "    <tr style=\"text-align: right;\">\n",
       "      <th></th>\n",
       "      <th>PassengerId</th>\n",
       "      <th>HomePlanet</th>\n",
       "      <th>CryoSleep</th>\n",
       "      <th>Cabin</th>\n",
       "      <th>Destination</th>\n",
       "      <th>Age</th>\n",
       "      <th>VIP</th>\n",
       "      <th>RoomService</th>\n",
       "      <th>FoodCourt</th>\n",
       "      <th>ShoppingMall</th>\n",
       "      <th>Spa</th>\n",
       "      <th>VRDeck</th>\n",
       "      <th>Name</th>\n",
       "    </tr>\n",
       "  </thead>\n",
       "  <tbody>\n",
       "    <tr>\n",
       "      <th>0</th>\n",
       "      <td>0013_01</td>\n",
       "      <td>Earth</td>\n",
       "      <td>True</td>\n",
       "      <td>G/3/S</td>\n",
       "      <td>TRAPPIST</td>\n",
       "      <td>27.0</td>\n",
       "      <td>False</td>\n",
       "      <td>0.0</td>\n",
       "      <td>0.0</td>\n",
       "      <td>0.0</td>\n",
       "      <td>0.0</td>\n",
       "      <td>0.0</td>\n",
       "      <td>Nelly Carsoning</td>\n",
       "    </tr>\n",
       "    <tr>\n",
       "      <th>1</th>\n",
       "      <td>0018_01</td>\n",
       "      <td>Earth</td>\n",
       "      <td>False</td>\n",
       "      <td>F/4/S</td>\n",
       "      <td>TRAPPIST</td>\n",
       "      <td>19.0</td>\n",
       "      <td>False</td>\n",
       "      <td>0.0</td>\n",
       "      <td>9.0</td>\n",
       "      <td>0.0</td>\n",
       "      <td>2823.0</td>\n",
       "      <td>0.0</td>\n",
       "      <td>Lerome Peckers</td>\n",
       "    </tr>\n",
       "    <tr>\n",
       "      <th>2</th>\n",
       "      <td>0019_01</td>\n",
       "      <td>Europa</td>\n",
       "      <td>True</td>\n",
       "      <td>C/0/S</td>\n",
       "      <td>Cancri</td>\n",
       "      <td>31.0</td>\n",
       "      <td>False</td>\n",
       "      <td>0.0</td>\n",
       "      <td>0.0</td>\n",
       "      <td>0.0</td>\n",
       "      <td>0.0</td>\n",
       "      <td>0.0</td>\n",
       "      <td>Sabih Unhearfus</td>\n",
       "    </tr>\n",
       "    <tr>\n",
       "      <th>3</th>\n",
       "      <td>0021_01</td>\n",
       "      <td>Europa</td>\n",
       "      <td>False</td>\n",
       "      <td>C/1/S</td>\n",
       "      <td>TRAPPIST</td>\n",
       "      <td>38.0</td>\n",
       "      <td>False</td>\n",
       "      <td>0.0</td>\n",
       "      <td>6652.0</td>\n",
       "      <td>0.0</td>\n",
       "      <td>181.0</td>\n",
       "      <td>585.0</td>\n",
       "      <td>Meratz Caltilter</td>\n",
       "    </tr>\n",
       "    <tr>\n",
       "      <th>4</th>\n",
       "      <td>0023_01</td>\n",
       "      <td>Earth</td>\n",
       "      <td>False</td>\n",
       "      <td>F/5/S</td>\n",
       "      <td>TRAPPIST</td>\n",
       "      <td>20.0</td>\n",
       "      <td>False</td>\n",
       "      <td>10.0</td>\n",
       "      <td>0.0</td>\n",
       "      <td>635.0</td>\n",
       "      <td>0.0</td>\n",
       "      <td>0.0</td>\n",
       "      <td>Brence Harperez</td>\n",
       "    </tr>\n",
       "    <tr>\n",
       "      <th>...</th>\n",
       "      <td>...</td>\n",
       "      <td>...</td>\n",
       "      <td>...</td>\n",
       "      <td>...</td>\n",
       "      <td>...</td>\n",
       "      <td>...</td>\n",
       "      <td>...</td>\n",
       "      <td>...</td>\n",
       "      <td>...</td>\n",
       "      <td>...</td>\n",
       "      <td>...</td>\n",
       "      <td>...</td>\n",
       "      <td>...</td>\n",
       "    </tr>\n",
       "    <tr>\n",
       "      <th>4272</th>\n",
       "      <td>9266_02</td>\n",
       "      <td>Earth</td>\n",
       "      <td>True</td>\n",
       "      <td>G/1496/S</td>\n",
       "      <td>TRAPPIST</td>\n",
       "      <td>34.0</td>\n",
       "      <td>False</td>\n",
       "      <td>0.0</td>\n",
       "      <td>0.0</td>\n",
       "      <td>0.0</td>\n",
       "      <td>0.0</td>\n",
       "      <td>0.0</td>\n",
       "      <td>Jeron Peter</td>\n",
       "    </tr>\n",
       "    <tr>\n",
       "      <th>4273</th>\n",
       "      <td>9269_01</td>\n",
       "      <td>Earth</td>\n",
       "      <td>False</td>\n",
       "      <td>NaN</td>\n",
       "      <td>TRAPPIST</td>\n",
       "      <td>42.0</td>\n",
       "      <td>False</td>\n",
       "      <td>0.0</td>\n",
       "      <td>847.0</td>\n",
       "      <td>17.0</td>\n",
       "      <td>10.0</td>\n",
       "      <td>144.0</td>\n",
       "      <td>Matty Scheron</td>\n",
       "    </tr>\n",
       "    <tr>\n",
       "      <th>4274</th>\n",
       "      <td>9271_01</td>\n",
       "      <td>Mars</td>\n",
       "      <td>True</td>\n",
       "      <td>D/296/P</td>\n",
       "      <td>Cancri</td>\n",
       "      <td>NaN</td>\n",
       "      <td>False</td>\n",
       "      <td>0.0</td>\n",
       "      <td>0.0</td>\n",
       "      <td>0.0</td>\n",
       "      <td>0.0</td>\n",
       "      <td>0.0</td>\n",
       "      <td>Jayrin Pore</td>\n",
       "    </tr>\n",
       "    <tr>\n",
       "      <th>4275</th>\n",
       "      <td>9273_01</td>\n",
       "      <td>Europa</td>\n",
       "      <td>False</td>\n",
       "      <td>D/297/P</td>\n",
       "      <td>NaN</td>\n",
       "      <td>NaN</td>\n",
       "      <td>False</td>\n",
       "      <td>0.0</td>\n",
       "      <td>2680.0</td>\n",
       "      <td>0.0</td>\n",
       "      <td>0.0</td>\n",
       "      <td>523.0</td>\n",
       "      <td>Kitakan Conale</td>\n",
       "    </tr>\n",
       "    <tr>\n",
       "      <th>4276</th>\n",
       "      <td>9277_01</td>\n",
       "      <td>Earth</td>\n",
       "      <td>True</td>\n",
       "      <td>G/1498/S</td>\n",
       "      <td>PSO</td>\n",
       "      <td>43.0</td>\n",
       "      <td>False</td>\n",
       "      <td>0.0</td>\n",
       "      <td>0.0</td>\n",
       "      <td>0.0</td>\n",
       "      <td>0.0</td>\n",
       "      <td>0.0</td>\n",
       "      <td>Lilace Leonzaley</td>\n",
       "    </tr>\n",
       "  </tbody>\n",
       "</table>\n",
       "<p>4277 rows × 13 columns</p>\n",
       "</div>"
      ],
      "text/plain": [
       "     PassengerId HomePlanet CryoSleep     Cabin Destination   Age    VIP  \\\n",
       "0        0013_01      Earth      True     G/3/S    TRAPPIST  27.0  False   \n",
       "1        0018_01      Earth     False     F/4/S    TRAPPIST  19.0  False   \n",
       "2        0019_01     Europa      True     C/0/S      Cancri  31.0  False   \n",
       "3        0021_01     Europa     False     C/1/S    TRAPPIST  38.0  False   \n",
       "4        0023_01      Earth     False     F/5/S    TRAPPIST  20.0  False   \n",
       "...          ...        ...       ...       ...         ...   ...    ...   \n",
       "4272     9266_02      Earth      True  G/1496/S    TRAPPIST  34.0  False   \n",
       "4273     9269_01      Earth     False       NaN    TRAPPIST  42.0  False   \n",
       "4274     9271_01       Mars      True   D/296/P      Cancri   NaN  False   \n",
       "4275     9273_01     Europa     False   D/297/P         NaN   NaN  False   \n",
       "4276     9277_01      Earth      True  G/1498/S         PSO  43.0  False   \n",
       "\n",
       "      RoomService  FoodCourt  ShoppingMall     Spa  VRDeck              Name  \n",
       "0             0.0        0.0           0.0     0.0     0.0   Nelly Carsoning  \n",
       "1             0.0        9.0           0.0  2823.0     0.0    Lerome Peckers  \n",
       "2             0.0        0.0           0.0     0.0     0.0   Sabih Unhearfus  \n",
       "3             0.0     6652.0           0.0   181.0   585.0  Meratz Caltilter  \n",
       "4            10.0        0.0         635.0     0.0     0.0   Brence Harperez  \n",
       "...           ...        ...           ...     ...     ...               ...  \n",
       "4272          0.0        0.0           0.0     0.0     0.0       Jeron Peter  \n",
       "4273          0.0      847.0          17.0    10.0   144.0     Matty Scheron  \n",
       "4274          0.0        0.0           0.0     0.0     0.0       Jayrin Pore  \n",
       "4275          0.0     2680.0           0.0     0.0   523.0    Kitakan Conale  \n",
       "4276          0.0        0.0           0.0     0.0     0.0  Lilace Leonzaley  \n",
       "\n",
       "[4277 rows x 13 columns]"
      ]
     },
     "execution_count": 47,
     "metadata": {},
     "output_type": "execute_result"
    }
   ],
   "source": [
    "test_data"
   ]
  },
  {
   "cell_type": "code",
   "execution_count": 48,
   "id": "f3419d4d",
   "metadata": {
    "execution": {
     "iopub.execute_input": "2022-04-07T08:38:29.575530Z",
     "iopub.status.busy": "2022-04-07T08:38:29.574652Z",
     "iopub.status.idle": "2022-04-07T08:38:29.583395Z",
     "shell.execute_reply": "2022-04-07T08:38:29.582847Z",
     "shell.execute_reply.started": "2022-04-07T08:34:58.167122Z"
    },
    "papermill": {
     "duration": 0.07182,
     "end_time": "2022-04-07T08:38:29.583522",
     "exception": false,
     "start_time": "2022-04-07T08:38:29.511702",
     "status": "completed"
    },
    "tags": []
   },
   "outputs": [
    {
     "data": {
      "text/plain": [
       "PassengerId       0\n",
       "HomePlanet       87\n",
       "CryoSleep        93\n",
       "Cabin           100\n",
       "Destination      92\n",
       "Age              91\n",
       "VIP              93\n",
       "RoomService      82\n",
       "FoodCourt       106\n",
       "ShoppingMall     98\n",
       "Spa             101\n",
       "VRDeck           80\n",
       "Name             94\n",
       "dtype: int64"
      ]
     },
     "execution_count": 48,
     "metadata": {},
     "output_type": "execute_result"
    }
   ],
   "source": [
    "test_data.isnull().sum()"
   ]
  },
  {
   "cell_type": "code",
   "execution_count": 49,
   "id": "763d836b",
   "metadata": {
    "execution": {
     "iopub.execute_input": "2022-04-07T08:38:29.717878Z",
     "iopub.status.busy": "2022-04-07T08:38:29.717276Z",
     "iopub.status.idle": "2022-04-07T08:38:29.722813Z",
     "shell.execute_reply": "2022-04-07T08:38:29.722265Z",
     "shell.execute_reply.started": "2022-04-07T08:35:13.509887Z"
    },
    "papermill": {
     "duration": 0.077891,
     "end_time": "2022-04-07T08:38:29.722943",
     "exception": false,
     "start_time": "2022-04-07T08:38:29.645052",
     "status": "completed"
    },
    "tags": []
   },
   "outputs": [],
   "source": [
    "test_data.HomePlanet = test_data.HomePlanet.fillna('0')\n",
    "test_data.CryoSleep  = test_data.CryoSleep .fillna(0)\n",
    "test_data.Cabin      = test_data.Cabin.fillna(0)\n",
    "test_data.Destination = test_data.Destination.fillna('0')\n",
    "test_data.Age = test_data.Age.fillna(0)\n",
    "test_data.VIP = test_data.VIP.fillna(0)\n",
    "test_data.RoomService = test_data.RoomService.fillna(0)\n",
    "test_data.FoodCourt = test_data.FoodCourt.fillna(0)\n",
    "test_data.ShoppingMall = test_data.ShoppingMall.fillna(0)\n",
    "test_data.Spa = test_data.Spa.fillna(0)\n",
    "test_data.VRDeck = test_data.VRDeck.fillna(0)\n",
    "test_data.Name = test_data.Name.fillna('0')"
   ]
  },
  {
   "cell_type": "code",
   "execution_count": 50,
   "id": "9c55d272",
   "metadata": {
    "execution": {
     "iopub.execute_input": "2022-04-07T08:38:29.847688Z",
     "iopub.status.busy": "2022-04-07T08:38:29.847145Z",
     "iopub.status.idle": "2022-04-07T08:38:29.853966Z",
     "shell.execute_reply": "2022-04-07T08:38:29.854456Z",
     "shell.execute_reply.started": "2022-04-07T08:35:26.487427Z"
    },
    "papermill": {
     "duration": 0.070908,
     "end_time": "2022-04-07T08:38:29.854612",
     "exception": false,
     "start_time": "2022-04-07T08:38:29.783704",
     "status": "completed"
    },
    "tags": []
   },
   "outputs": [],
   "source": [
    "test_data['RoomService'] = test_data['RoomService'].astype(int)\n",
    "test_data['Age'] = test_data['Age'].astype(int)\n",
    "test_data['FoodCourt'] = test_data['FoodCourt'].astype(int)\n",
    "test_data['ShoppingMall'] = test_data['ShoppingMall'].astype(int)\n",
    "test_data['Spa'] = test_data['Spa'].astype(int)\n",
    "test_data['VRDeck'] = test_data['VRDeck'].astype(int)"
   ]
  },
  {
   "cell_type": "code",
   "execution_count": 51,
   "id": "e8e425a8",
   "metadata": {
    "execution": {
     "iopub.execute_input": "2022-04-07T08:38:29.978332Z",
     "iopub.status.busy": "2022-04-07T08:38:29.977793Z",
     "iopub.status.idle": "2022-04-07T08:38:29.982063Z",
     "shell.execute_reply": "2022-04-07T08:38:29.982563Z",
     "shell.execute_reply.started": "2022-04-07T08:35:33.771921Z"
    },
    "papermill": {
     "duration": 0.067593,
     "end_time": "2022-04-07T08:38:29.982710",
     "exception": false,
     "start_time": "2022-04-07T08:38:29.915117",
     "status": "completed"
    },
    "tags": []
   },
   "outputs": [],
   "source": [
    "x1 = test_data.drop(columns = ['Cabin','Name'])"
   ]
  },
  {
   "cell_type": "code",
   "execution_count": 52,
   "id": "cea3653c",
   "metadata": {
    "execution": {
     "iopub.execute_input": "2022-04-07T08:38:30.111451Z",
     "iopub.status.busy": "2022-04-07T08:38:30.110902Z",
     "iopub.status.idle": "2022-04-07T08:38:30.126817Z",
     "shell.execute_reply": "2022-04-07T08:38:30.127297Z",
     "shell.execute_reply.started": "2022-04-07T08:35:42.119846Z"
    },
    "papermill": {
     "duration": 0.081995,
     "end_time": "2022-04-07T08:38:30.127455",
     "exception": false,
     "start_time": "2022-04-07T08:38:30.045460",
     "status": "completed"
    },
    "tags": []
   },
   "outputs": [
    {
     "data": {
      "text/plain": [
       "0          0\n",
       "1          1\n",
       "2          2\n",
       "3          3\n",
       "4          4\n",
       "        ... \n",
       "4272    4272\n",
       "4273    4273\n",
       "4274    4274\n",
       "4275    4275\n",
       "4276    4276\n",
       "Name: PassengerId, Length: 4277, dtype: int64"
      ]
     },
     "execution_count": 52,
     "metadata": {},
     "output_type": "execute_result"
    }
   ],
   "source": [
    "from sklearn import preprocessing\n",
    "Lb = preprocessing.LabelEncoder()\n",
    "x1['PassengerId'] = Lb.fit_transform(x1['PassengerId'])\n",
    "x1['PassengerId']"
   ]
  },
  {
   "cell_type": "code",
   "execution_count": 53,
   "id": "fc1273d5",
   "metadata": {
    "execution": {
     "iopub.execute_input": "2022-04-07T08:38:30.256880Z",
     "iopub.status.busy": "2022-04-07T08:38:30.255993Z",
     "iopub.status.idle": "2022-04-07T08:38:30.261547Z",
     "shell.execute_reply": "2022-04-07T08:38:30.262078Z",
     "shell.execute_reply.started": "2022-04-07T08:35:49.903402Z"
    },
    "papermill": {
     "duration": 0.07082,
     "end_time": "2022-04-07T08:38:30.262245",
     "exception": false,
     "start_time": "2022-04-07T08:38:30.191425",
     "status": "completed"
    },
    "tags": []
   },
   "outputs": [
    {
     "data": {
      "text/plain": [
       "array([False, True], dtype=object)"
      ]
     },
     "execution_count": 53,
     "metadata": {},
     "output_type": "execute_result"
    }
   ],
   "source": [
    "x.iloc[:,5].unique()"
   ]
  },
  {
   "cell_type": "code",
   "execution_count": 54,
   "id": "342c78f7",
   "metadata": {
    "execution": {
     "iopub.execute_input": "2022-04-07T08:38:30.390640Z",
     "iopub.status.busy": "2022-04-07T08:38:30.389785Z",
     "iopub.status.idle": "2022-04-07T08:38:30.393328Z",
     "shell.execute_reply": "2022-04-07T08:38:30.393791Z",
     "shell.execute_reply.started": "2022-04-07T08:35:56.998956Z"
    },
    "papermill": {
     "duration": 0.070308,
     "end_time": "2022-04-07T08:38:30.393950",
     "exception": false,
     "start_time": "2022-04-07T08:38:30.323642",
     "status": "completed"
    },
    "tags": []
   },
   "outputs": [],
   "source": [
    "nom = [1,3,2,5]\n",
    "num = [0,6,7,8,9,10]\n",
    "bina = [4]"
   ]
  },
  {
   "cell_type": "code",
   "execution_count": 55,
   "id": "762267e2",
   "metadata": {
    "execution": {
     "iopub.execute_input": "2022-04-07T08:38:30.519180Z",
     "iopub.status.busy": "2022-04-07T08:38:30.518260Z",
     "iopub.status.idle": "2022-04-07T08:38:30.529707Z",
     "shell.execute_reply": "2022-04-07T08:38:30.530235Z",
     "shell.execute_reply.started": "2022-04-07T08:36:28.034136Z"
    },
    "papermill": {
     "duration": 0.075705,
     "end_time": "2022-04-07T08:38:30.530407",
     "exception": false,
     "start_time": "2022-04-07T08:38:30.454702",
     "status": "completed"
    },
    "tags": []
   },
   "outputs": [
    {
     "data": {
      "text/html": [
       "<style>#sk-30468a41-6a89-4117-9fee-126f0e41957e {color: black;background-color: white;}#sk-30468a41-6a89-4117-9fee-126f0e41957e pre{padding: 0;}#sk-30468a41-6a89-4117-9fee-126f0e41957e div.sk-toggleable {background-color: white;}#sk-30468a41-6a89-4117-9fee-126f0e41957e label.sk-toggleable__label {cursor: pointer;display: block;width: 100%;margin-bottom: 0;padding: 0.3em;box-sizing: border-box;text-align: center;}#sk-30468a41-6a89-4117-9fee-126f0e41957e div.sk-toggleable__content {max-height: 0;max-width: 0;overflow: hidden;text-align: left;background-color: #f0f8ff;}#sk-30468a41-6a89-4117-9fee-126f0e41957e div.sk-toggleable__content pre {margin: 0.2em;color: black;border-radius: 0.25em;background-color: #f0f8ff;}#sk-30468a41-6a89-4117-9fee-126f0e41957e input.sk-toggleable__control:checked~div.sk-toggleable__content {max-height: 200px;max-width: 100%;overflow: auto;}#sk-30468a41-6a89-4117-9fee-126f0e41957e div.sk-estimator input.sk-toggleable__control:checked~label.sk-toggleable__label {background-color: #d4ebff;}#sk-30468a41-6a89-4117-9fee-126f0e41957e div.sk-label input.sk-toggleable__control:checked~label.sk-toggleable__label {background-color: #d4ebff;}#sk-30468a41-6a89-4117-9fee-126f0e41957e input.sk-hidden--visually {border: 0;clip: rect(1px 1px 1px 1px);clip: rect(1px, 1px, 1px, 1px);height: 1px;margin: -1px;overflow: hidden;padding: 0;position: absolute;width: 1px;}#sk-30468a41-6a89-4117-9fee-126f0e41957e div.sk-estimator {font-family: monospace;background-color: #f0f8ff;border: 1px dotted black;border-radius: 0.25em;box-sizing: border-box;margin-bottom: 0.5em;}#sk-30468a41-6a89-4117-9fee-126f0e41957e div.sk-estimator:hover {background-color: #d4ebff;}#sk-30468a41-6a89-4117-9fee-126f0e41957e div.sk-parallel-item::after {content: \"\";width: 100%;border-bottom: 1px solid gray;flex-grow: 1;}#sk-30468a41-6a89-4117-9fee-126f0e41957e div.sk-label:hover label.sk-toggleable__label {background-color: #d4ebff;}#sk-30468a41-6a89-4117-9fee-126f0e41957e div.sk-serial::before {content: \"\";position: absolute;border-left: 1px solid gray;box-sizing: border-box;top: 2em;bottom: 0;left: 50%;}#sk-30468a41-6a89-4117-9fee-126f0e41957e div.sk-serial {display: flex;flex-direction: column;align-items: center;background-color: white;padding-right: 0.2em;padding-left: 0.2em;}#sk-30468a41-6a89-4117-9fee-126f0e41957e div.sk-item {z-index: 1;}#sk-30468a41-6a89-4117-9fee-126f0e41957e div.sk-parallel {display: flex;align-items: stretch;justify-content: center;background-color: white;}#sk-30468a41-6a89-4117-9fee-126f0e41957e div.sk-parallel::before {content: \"\";position: absolute;border-left: 1px solid gray;box-sizing: border-box;top: 2em;bottom: 0;left: 50%;}#sk-30468a41-6a89-4117-9fee-126f0e41957e div.sk-parallel-item {display: flex;flex-direction: column;position: relative;background-color: white;}#sk-30468a41-6a89-4117-9fee-126f0e41957e div.sk-parallel-item:first-child::after {align-self: flex-end;width: 50%;}#sk-30468a41-6a89-4117-9fee-126f0e41957e div.sk-parallel-item:last-child::after {align-self: flex-start;width: 50%;}#sk-30468a41-6a89-4117-9fee-126f0e41957e div.sk-parallel-item:only-child::after {width: 0;}#sk-30468a41-6a89-4117-9fee-126f0e41957e div.sk-dashed-wrapped {border: 1px dashed gray;margin: 0 0.4em 0.5em 0.4em;box-sizing: border-box;padding-bottom: 0.4em;background-color: white;position: relative;}#sk-30468a41-6a89-4117-9fee-126f0e41957e div.sk-label label {font-family: monospace;font-weight: bold;background-color: white;display: inline-block;line-height: 1.2em;}#sk-30468a41-6a89-4117-9fee-126f0e41957e div.sk-label-container {position: relative;z-index: 2;text-align: center;}#sk-30468a41-6a89-4117-9fee-126f0e41957e div.sk-container {display: inline-block;position: relative;}</style><div id=\"sk-30468a41-6a89-4117-9fee-126f0e41957e\" class\"sk-top-container\"><div class=\"sk-container\"><div class=\"sk-item sk-dashed-wrapped\"><div class=\"sk-label-container\"><div class=\"sk-label sk-toggleable\"><input class=\"sk-toggleable__control sk-hidden--visually\" id=\"725b98da-1cee-46f6-b922-12575d7254a6\" type=\"checkbox\" ><label class=\"sk-toggleable__label\" for=\"725b98da-1cee-46f6-b922-12575d7254a6\">ColumnTransformer</label><div class=\"sk-toggleable__content\"><pre>ColumnTransformer(remainder='passthrough',\n",
       "                  transformers=[('onehotencoder', OneHotEncoder(sparse=False),\n",
       "                                 [1, 3, 2, 5]),\n",
       "                                ('powertransformer', PowerTransformer(),\n",
       "                                 [0, 6, 7, 8, 9, 10]),\n",
       "                                ('binarizer', Binarizer(), [4])])</pre></div></div></div><div class=\"sk-parallel\"><div class=\"sk-parallel-item\"><div class=\"sk-item\"><div class=\"sk-label-container\"><div class=\"sk-label sk-toggleable\"><input class=\"sk-toggleable__control sk-hidden--visually\" id=\"6c464a7b-b713-427d-bb60-0b38ec513299\" type=\"checkbox\" ><label class=\"sk-toggleable__label\" for=\"6c464a7b-b713-427d-bb60-0b38ec513299\">onehotencoder</label><div class=\"sk-toggleable__content\"><pre>[1, 3, 2, 5]</pre></div></div></div><div class=\"sk-serial\"><div class=\"sk-item\"><div class=\"sk-estimator sk-toggleable\"><input class=\"sk-toggleable__control sk-hidden--visually\" id=\"2cc27d43-3250-4195-a0a0-0bf895d115c5\" type=\"checkbox\" ><label class=\"sk-toggleable__label\" for=\"2cc27d43-3250-4195-a0a0-0bf895d115c5\">OneHotEncoder</label><div class=\"sk-toggleable__content\"><pre>OneHotEncoder(sparse=False)</pre></div></div></div></div></div></div><div class=\"sk-parallel-item\"><div class=\"sk-item\"><div class=\"sk-label-container\"><div class=\"sk-label sk-toggleable\"><input class=\"sk-toggleable__control sk-hidden--visually\" id=\"34dd0cc0-4d6c-4fe0-a983-7fa0541f77d4\" type=\"checkbox\" ><label class=\"sk-toggleable__label\" for=\"34dd0cc0-4d6c-4fe0-a983-7fa0541f77d4\">powertransformer</label><div class=\"sk-toggleable__content\"><pre>[0, 6, 7, 8, 9, 10]</pre></div></div></div><div class=\"sk-serial\"><div class=\"sk-item\"><div class=\"sk-estimator sk-toggleable\"><input class=\"sk-toggleable__control sk-hidden--visually\" id=\"72efe47c-b83f-4e9c-9136-4197b65d2cf1\" type=\"checkbox\" ><label class=\"sk-toggleable__label\" for=\"72efe47c-b83f-4e9c-9136-4197b65d2cf1\">PowerTransformer</label><div class=\"sk-toggleable__content\"><pre>PowerTransformer()</pre></div></div></div></div></div></div><div class=\"sk-parallel-item\"><div class=\"sk-item\"><div class=\"sk-label-container\"><div class=\"sk-label sk-toggleable\"><input class=\"sk-toggleable__control sk-hidden--visually\" id=\"84795942-23ea-4d50-a428-26a7c331486f\" type=\"checkbox\" ><label class=\"sk-toggleable__label\" for=\"84795942-23ea-4d50-a428-26a7c331486f\">binarizer</label><div class=\"sk-toggleable__content\"><pre>[4]</pre></div></div></div><div class=\"sk-serial\"><div class=\"sk-item\"><div class=\"sk-estimator sk-toggleable\"><input class=\"sk-toggleable__control sk-hidden--visually\" id=\"f4658b88-8dbc-48fb-8826-c3d8bc1e850b\" type=\"checkbox\" ><label class=\"sk-toggleable__label\" for=\"f4658b88-8dbc-48fb-8826-c3d8bc1e850b\">Binarizer</label><div class=\"sk-toggleable__content\"><pre>Binarizer()</pre></div></div></div></div></div></div><div class=\"sk-parallel-item\"><div class=\"sk-item\"><div class=\"sk-label-container\"><div class=\"sk-label sk-toggleable\"><input class=\"sk-toggleable__control sk-hidden--visually\" id=\"a91210a5-a799-4d51-b634-39575a375ec0\" type=\"checkbox\" ><label class=\"sk-toggleable__label\" for=\"a91210a5-a799-4d51-b634-39575a375ec0\">remainder</label><div class=\"sk-toggleable__content\"><pre></pre></div></div></div><div class=\"sk-serial\"><div class=\"sk-item\"><div class=\"sk-estimator sk-toggleable\"><input class=\"sk-toggleable__control sk-hidden--visually\" id=\"ca0bf44b-6448-43ce-bd7c-48beeb2b0290\" type=\"checkbox\" ><label class=\"sk-toggleable__label\" for=\"ca0bf44b-6448-43ce-bd7c-48beeb2b0290\">passthrough</label><div class=\"sk-toggleable__content\"><pre>passthrough</pre></div></div></div></div></div></div></div></div></div></div>"
      ],
      "text/plain": [
       "ColumnTransformer(remainder='passthrough',\n",
       "                  transformers=[('onehotencoder', OneHotEncoder(sparse=False),\n",
       "                                 [1, 3, 2, 5]),\n",
       "                                ('powertransformer', PowerTransformer(),\n",
       "                                 [0, 6, 7, 8, 9, 10]),\n",
       "                                ('binarizer', Binarizer(), [4])])"
      ]
     },
     "execution_count": 55,
     "metadata": {},
     "output_type": "execute_result"
    }
   ],
   "source": [
    "from sklearn.preprocessing import OneHotEncoder , OrdinalEncoder,PowerTransformer,Binarizer\n",
    "from sklearn.compose import make_column_transformer\n",
    "from sklearn import set_config\n",
    "trans = make_column_transformer((OneHotEncoder(sparse = False),nom),\n",
    "                                (PowerTransformer(),num),\n",
    "                                (Binarizer(),bina),\n",
    "                                 remainder = 'passthrough')\n",
    "set_config(display = 'diagram')\n",
    "trans      "
   ]
  },
  {
   "cell_type": "code",
   "execution_count": 56,
   "id": "226924b8",
   "metadata": {
    "execution": {
     "iopub.execute_input": "2022-04-07T08:38:30.657421Z",
     "iopub.status.busy": "2022-04-07T08:38:30.656895Z",
     "iopub.status.idle": "2022-04-07T08:38:30.689031Z",
     "shell.execute_reply": "2022-04-07T08:38:30.689529Z",
     "shell.execute_reply.started": "2022-04-07T08:36:37.936749Z"
    },
    "papermill": {
     "duration": 0.097397,
     "end_time": "2022-04-07T08:38:30.689693",
     "exception": false,
     "start_time": "2022-04-07T08:38:30.592296",
     "status": "completed"
    },
    "tags": []
   },
   "outputs": [
    {
     "data": {
      "text/plain": [
       "array([0, 0, 1, ..., 1, 1, 0])"
      ]
     },
     "execution_count": 56,
     "metadata": {},
     "output_type": "execute_result"
    }
   ],
   "source": [
    "pred_testdata = pipe_GB.predict(test_data)\n",
    "pred_testdata"
   ]
  },
  {
   "cell_type": "code",
   "execution_count": 57,
   "id": "9968012a",
   "metadata": {
    "execution": {
     "iopub.execute_input": "2022-04-07T08:38:30.816974Z",
     "iopub.status.busy": "2022-04-07T08:38:30.816407Z",
     "iopub.status.idle": "2022-04-07T08:38:30.832669Z",
     "shell.execute_reply": "2022-04-07T08:38:30.833112Z",
     "shell.execute_reply.started": "2022-04-07T08:36:46.236050Z"
    },
    "papermill": {
     "duration": 0.081207,
     "end_time": "2022-04-07T08:38:30.833263",
     "exception": false,
     "start_time": "2022-04-07T08:38:30.752056",
     "status": "completed"
    },
    "tags": []
   },
   "outputs": [
    {
     "data": {
      "text/html": [
       "<div>\n",
       "<style scoped>\n",
       "    .dataframe tbody tr th:only-of-type {\n",
       "        vertical-align: middle;\n",
       "    }\n",
       "\n",
       "    .dataframe tbody tr th {\n",
       "        vertical-align: top;\n",
       "    }\n",
       "\n",
       "    .dataframe thead th {\n",
       "        text-align: right;\n",
       "    }\n",
       "</style>\n",
       "<table border=\"1\" class=\"dataframe\">\n",
       "  <thead>\n",
       "    <tr style=\"text-align: right;\">\n",
       "      <th></th>\n",
       "      <th>PassengerId</th>\n",
       "      <th>Transported</th>\n",
       "    </tr>\n",
       "  </thead>\n",
       "  <tbody>\n",
       "    <tr>\n",
       "      <th>0</th>\n",
       "      <td>0013_01</td>\n",
       "      <td>False</td>\n",
       "    </tr>\n",
       "    <tr>\n",
       "      <th>1</th>\n",
       "      <td>0018_01</td>\n",
       "      <td>False</td>\n",
       "    </tr>\n",
       "    <tr>\n",
       "      <th>2</th>\n",
       "      <td>0019_01</td>\n",
       "      <td>False</td>\n",
       "    </tr>\n",
       "    <tr>\n",
       "      <th>3</th>\n",
       "      <td>0021_01</td>\n",
       "      <td>False</td>\n",
       "    </tr>\n",
       "    <tr>\n",
       "      <th>4</th>\n",
       "      <td>0023_01</td>\n",
       "      <td>False</td>\n",
       "    </tr>\n",
       "    <tr>\n",
       "      <th>...</th>\n",
       "      <td>...</td>\n",
       "      <td>...</td>\n",
       "    </tr>\n",
       "    <tr>\n",
       "      <th>4272</th>\n",
       "      <td>9266_02</td>\n",
       "      <td>False</td>\n",
       "    </tr>\n",
       "    <tr>\n",
       "      <th>4273</th>\n",
       "      <td>9269_01</td>\n",
       "      <td>False</td>\n",
       "    </tr>\n",
       "    <tr>\n",
       "      <th>4274</th>\n",
       "      <td>9271_01</td>\n",
       "      <td>False</td>\n",
       "    </tr>\n",
       "    <tr>\n",
       "      <th>4275</th>\n",
       "      <td>9273_01</td>\n",
       "      <td>False</td>\n",
       "    </tr>\n",
       "    <tr>\n",
       "      <th>4276</th>\n",
       "      <td>9277_01</td>\n",
       "      <td>False</td>\n",
       "    </tr>\n",
       "  </tbody>\n",
       "</table>\n",
       "<p>4277 rows × 2 columns</p>\n",
       "</div>"
      ],
      "text/plain": [
       "     PassengerId  Transported\n",
       "0        0013_01        False\n",
       "1        0018_01        False\n",
       "2        0019_01        False\n",
       "3        0021_01        False\n",
       "4        0023_01        False\n",
       "...          ...          ...\n",
       "4272     9266_02        False\n",
       "4273     9269_01        False\n",
       "4274     9271_01        False\n",
       "4275     9273_01        False\n",
       "4276     9277_01        False\n",
       "\n",
       "[4277 rows x 2 columns]"
      ]
     },
     "execution_count": 57,
     "metadata": {},
     "output_type": "execute_result"
    }
   ],
   "source": [
    "submit = pd.read_csv('/kaggle/input/spaceship-titanic/sample_submission.csv')\n",
    "submit"
   ]
  },
  {
   "cell_type": "code",
   "execution_count": 58,
   "id": "ef5f36e1",
   "metadata": {
    "execution": {
     "iopub.execute_input": "2022-04-07T08:38:30.961844Z",
     "iopub.status.busy": "2022-04-07T08:38:30.961262Z",
     "iopub.status.idle": "2022-04-07T08:38:30.972976Z",
     "shell.execute_reply": "2022-04-07T08:38:30.973437Z",
     "shell.execute_reply.started": "2022-04-07T08:37:03.760747Z"
    },
    "papermill": {
     "duration": 0.077715,
     "end_time": "2022-04-07T08:38:30.973600",
     "exception": false,
     "start_time": "2022-04-07T08:38:30.895885",
     "status": "completed"
    },
    "tags": []
   },
   "outputs": [],
   "source": [
    "submit = pd.DataFrame({'PassengerId':test_data['PassengerId'],'Transported':pred_testdata.astype(\"bool\")})\n",
    "submit.to_csv('submission.csv',index = False)"
   ]
  },
  {
   "cell_type": "code",
   "execution_count": 59,
   "id": "6dc43b9d",
   "metadata": {
    "execution": {
     "iopub.execute_input": "2022-04-07T08:38:31.102945Z",
     "iopub.status.busy": "2022-04-07T08:38:31.102361Z",
     "iopub.status.idle": "2022-04-07T08:38:31.107976Z",
     "shell.execute_reply": "2022-04-07T08:38:31.108476Z",
     "shell.execute_reply.started": "2022-04-07T08:37:13.519456Z"
    },
    "papermill": {
     "duration": 0.072233,
     "end_time": "2022-04-07T08:38:31.108625",
     "exception": false,
     "start_time": "2022-04-07T08:38:31.036392",
     "status": "completed"
    },
    "tags": []
   },
   "outputs": [
    {
     "data": {
      "text/plain": [
       "True     2286\n",
       "False    1991\n",
       "Name: Transported, dtype: int64"
      ]
     },
     "execution_count": 59,
     "metadata": {},
     "output_type": "execute_result"
    }
   ],
   "source": [
    "submit.Transported.value_counts()"
   ]
  },
  {
   "cell_type": "code",
   "execution_count": 60,
   "id": "cf3f4402",
   "metadata": {
    "execution": {
     "iopub.execute_input": "2022-04-07T08:38:31.239110Z",
     "iopub.status.busy": "2022-04-07T08:38:31.238502Z",
     "iopub.status.idle": "2022-04-07T08:38:31.243824Z",
     "shell.execute_reply": "2022-04-07T08:38:31.244334Z",
     "shell.execute_reply.started": "2022-04-07T08:37:22.976788Z"
    },
    "papermill": {
     "duration": 0.073215,
     "end_time": "2022-04-07T08:38:31.244480",
     "exception": false,
     "start_time": "2022-04-07T08:38:31.171265",
     "status": "completed"
    },
    "tags": []
   },
   "outputs": [
    {
     "data": {
      "text/plain": [
       "<bound method Series.unique of 0       0013_01\n",
       "1       0018_01\n",
       "2       0019_01\n",
       "3       0021_01\n",
       "4       0023_01\n",
       "         ...   \n",
       "4272    9266_02\n",
       "4273    9269_01\n",
       "4274    9271_01\n",
       "4275    9273_01\n",
       "4276    9277_01\n",
       "Name: PassengerId, Length: 4277, dtype: object>"
      ]
     },
     "execution_count": 60,
     "metadata": {},
     "output_type": "execute_result"
    }
   ],
   "source": [
    "test_data.PassengerId.unique"
   ]
  },
  {
   "cell_type": "code",
   "execution_count": 61,
   "id": "302ab194",
   "metadata": {
    "execution": {
     "iopub.execute_input": "2022-04-07T08:38:31.373397Z",
     "iopub.status.busy": "2022-04-07T08:38:31.372835Z",
     "iopub.status.idle": "2022-04-07T08:38:31.380105Z",
     "shell.execute_reply": "2022-04-07T08:38:31.380605Z",
     "shell.execute_reply.started": "2022-04-07T08:37:30.832598Z"
    },
    "papermill": {
     "duration": 0.073362,
     "end_time": "2022-04-07T08:38:31.380779",
     "exception": false,
     "start_time": "2022-04-07T08:38:31.307417",
     "status": "completed"
    },
    "tags": []
   },
   "outputs": [
    {
     "data": {
      "text/html": [
       "<div>\n",
       "<style scoped>\n",
       "    .dataframe tbody tr th:only-of-type {\n",
       "        vertical-align: middle;\n",
       "    }\n",
       "\n",
       "    .dataframe tbody tr th {\n",
       "        vertical-align: top;\n",
       "    }\n",
       "\n",
       "    .dataframe thead th {\n",
       "        text-align: right;\n",
       "    }\n",
       "</style>\n",
       "<table border=\"1\" class=\"dataframe\">\n",
       "  <thead>\n",
       "    <tr style=\"text-align: right;\">\n",
       "      <th></th>\n",
       "      <th>PassengerId</th>\n",
       "      <th>Transported</th>\n",
       "    </tr>\n",
       "  </thead>\n",
       "  <tbody>\n",
       "    <tr>\n",
       "      <th>0</th>\n",
       "      <td>0013_01</td>\n",
       "      <td>False</td>\n",
       "    </tr>\n",
       "    <tr>\n",
       "      <th>1</th>\n",
       "      <td>0018_01</td>\n",
       "      <td>False</td>\n",
       "    </tr>\n",
       "    <tr>\n",
       "      <th>2</th>\n",
       "      <td>0019_01</td>\n",
       "      <td>True</td>\n",
       "    </tr>\n",
       "    <tr>\n",
       "      <th>3</th>\n",
       "      <td>0021_01</td>\n",
       "      <td>True</td>\n",
       "    </tr>\n",
       "    <tr>\n",
       "      <th>4</th>\n",
       "      <td>0023_01</td>\n",
       "      <td>True</td>\n",
       "    </tr>\n",
       "  </tbody>\n",
       "</table>\n",
       "</div>"
      ],
      "text/plain": [
       "  PassengerId  Transported\n",
       "0     0013_01        False\n",
       "1     0018_01        False\n",
       "2     0019_01         True\n",
       "3     0021_01         True\n",
       "4     0023_01         True"
      ]
     },
     "execution_count": 61,
     "metadata": {},
     "output_type": "execute_result"
    }
   ],
   "source": [
    "submit.head()"
   ]
  },
  {
   "cell_type": "code",
   "execution_count": 62,
   "id": "9d615b60",
   "metadata": {
    "execution": {
     "iopub.execute_input": "2022-04-07T08:38:31.512258Z",
     "iopub.status.busy": "2022-04-07T08:38:31.511645Z",
     "iopub.status.idle": "2022-04-07T08:38:31.516192Z",
     "shell.execute_reply": "2022-04-07T08:38:31.516681Z",
     "shell.execute_reply.started": "2022-04-07T08:37:46.447984Z"
    },
    "papermill": {
     "duration": 0.071367,
     "end_time": "2022-04-07T08:38:31.516860",
     "exception": false,
     "start_time": "2022-04-07T08:38:31.445493",
     "status": "completed"
    },
    "tags": []
   },
   "outputs": [
    {
     "data": {
      "text/plain": [
       "6098    0\n",
       "5209    0\n",
       "2463    1\n",
       "1345    1\n",
       "43      0\n",
       "Name: Transported, dtype: int64"
      ]
     },
     "execution_count": 62,
     "metadata": {},
     "output_type": "execute_result"
    }
   ],
   "source": [
    "y_test.head()"
   ]
  }
 ],
 "metadata": {
  "kernelspec": {
   "display_name": "Python 3",
   "language": "python",
   "name": "python3"
  },
  "language_info": {
   "codemirror_mode": {
    "name": "ipython",
    "version": 3
   },
   "file_extension": ".py",
   "mimetype": "text/x-python",
   "name": "python",
   "nbconvert_exporter": "python",
   "pygments_lexer": "ipython3",
   "version": "3.7.12"
  },
  "papermill": {
   "default_parameters": {},
   "duration": 26.545813,
   "end_time": "2022-04-07T08:38:32.290384",
   "environment_variables": {},
   "exception": null,
   "input_path": "__notebook__.ipynb",
   "output_path": "__notebook__.ipynb",
   "parameters": {},
   "start_time": "2022-04-07T08:38:05.744571",
   "version": "2.3.3"
  }
 },
 "nbformat": 4,
 "nbformat_minor": 5
}
